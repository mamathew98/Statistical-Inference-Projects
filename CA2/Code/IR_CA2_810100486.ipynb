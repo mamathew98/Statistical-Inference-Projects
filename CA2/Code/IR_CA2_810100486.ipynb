{
 "cells": [
  {
   "cell_type": "markdown",
   "id": "ac65c4ee",
   "metadata": {},
   "source": [
    "<div style=\"font-size:32px;font-weight:bold;font-family:Times New Roman\">Assignment 2</div>\n",
    "<br/>\n",
    "<div style=\"font-size:26px;font-weight:bold;font-family:Times New Roman\">Probability and R</div>\n",
    "<br/>\n",
    "<div style=\"font-size:20px;font-family:Times New Roman\">Mohammad Naseri</div>\n",
    "<br/>\n",
    "<div style=\"font-size:18px;font-family:Times New Roman\">Spring-1401</div>\n",
    "<hr/>"
   ]
  },
  {
   "cell_type": "code",
   "execution_count": 329,
   "id": "49d6f09e",
   "metadata": {},
   "outputs": [],
   "source": [
    "library(\"reshape2\") \n",
    "library(\"ggplot2\")\n",
    "library(dplyr)\n",
    "library(moments)"
   ]
  },
  {
   "cell_type": "markdown",
   "id": "9e19a472",
   "metadata": {},
   "source": [
    "<div style=\"font-size:26px;font-weight:bold;font-family:Times New Roman\">Question 7</div>"
   ]
  },
  {
   "cell_type": "code",
   "execution_count": 330,
   "id": "2aebb268",
   "metadata": {},
   "outputs": [
    {
     "data": {
      "text/html": [
       "<ol class=list-inline>\n",
       "\t<li>'UI'</li>\n",
       "\t<li>'Back'</li>\n",
       "\t<li>'Management'</li>\n",
       "\t<li>'HR'</li>\n",
       "\t<li>'HSE'</li>\n",
       "</ol>\n"
      ],
      "text/latex": [
       "\\begin{enumerate*}\n",
       "\\item 'UI'\n",
       "\\item 'Back'\n",
       "\\item 'Management'\n",
       "\\item 'HR'\n",
       "\\item 'HSE'\n",
       "\\end{enumerate*}\n"
      ],
      "text/markdown": [
       "1. 'UI'\n",
       "2. 'Back'\n",
       "3. 'Management'\n",
       "4. 'HR'\n",
       "5. 'HSE'\n",
       "\n",
       "\n"
      ],
      "text/plain": [
       "[1] \"UI\"         \"Back\"       \"Management\" \"HR\"         \"HSE\"       "
      ]
     },
     "metadata": {},
     "output_type": "display_data"
    },
    {
     "data": {
      "text/html": [
       "<ol class=list-inline>\n",
       "\t<li>8</li>\n",
       "\t<li>12</li>\n",
       "\t<li>4</li>\n",
       "\t<li>3</li>\n",
       "\t<li>3</li>\n",
       "</ol>\n"
      ],
      "text/latex": [
       "\\begin{enumerate*}\n",
       "\\item 8\n",
       "\\item 12\n",
       "\\item 4\n",
       "\\item 3\n",
       "\\item 3\n",
       "\\end{enumerate*}\n"
      ],
      "text/markdown": [
       "1. 8\n",
       "2. 12\n",
       "3. 4\n",
       "4. 3\n",
       "5. 3\n",
       "\n",
       "\n"
      ],
      "text/plain": [
       "[1]  8 12  4  3  3"
      ]
     },
     "metadata": {},
     "output_type": "display_data"
    }
   ],
   "source": [
    "positions <- c(\"UI\", \"Back\", \"Management\", \"HR\", \"HSE\")\n",
    "populations <- c(8, 12, 4, 3, 3)\n",
    "positions\n",
    "populations"
   ]
  },
  {
   "cell_type": "code",
   "execution_count": 331,
   "id": "dd2478fe",
   "metadata": {},
   "outputs": [
    {
     "data": {
      "image/png": "[encoded data removed]",
      "text/plain": [
       "Plot with title \"Distribution of employees in diffrent positions\""
      ]
     },
     "metadata": {},
     "output_type": "display_data"
    }
   ],
   "source": [
    "barplot(populations, names.arg = positions,\n",
    "        main = \"Distribution of employees in diffrent positions\",\n",
    "        col.main = \"green\",\n",
    "        xlab = \"Positions\", ylab = \"Population\",\n",
    "        col.lab = \"blue\")"
   ]
  },
  {
   "cell_type": "code",
   "execution_count": 332,
   "id": "90faf6d8",
   "metadata": {},
   "outputs": [],
   "source": [
    "UI_sal <- c(75000, 25000, 48000, 42000, 35200, 45000, 23000, 45500)\n",
    "Back_sal <- c(20000, 80000, 36000, 46300, 41000, 43000, 22000, 37000, 39000, 43500, 69000, 5000)\n",
    "Man_sal <- c(80000, 67000, 56000, 82000)\n",
    "HR_sal <- c(45000, 39000, 30000)\n",
    "HSE_sal <- c(12000, 25000, 31500)"
   ]
  },
  {
   "cell_type": "code",
   "execution_count": 333,
   "id": "4d6e7047",
   "metadata": {},
   "outputs": [
    {
     "data": {
      "image/png": "[encoded data removed]",
      "text/plain": [
       "plot without title"
      ]
     },
     "metadata": {},
     "output_type": "display_data"
    }
   ],
   "source": [
    "ggplot() +\n",
    "geom_boxplot(mapping = aes(x = \"UI\", y=UI_sal)) +\n",
    "geom_boxplot(mapping = aes(x = \"Back\", y=Back_sal))+\n",
    "geom_boxplot(mapping = aes(x = \"Management\", y=Man_sal)) +\n",
    "geom_boxplot(mapping = aes(x = \"HR\", y=HR_sal)) +\n",
    "geom_boxplot(mapping = aes(x = \"HSE\", y=HSE_sal)) +\n",
    "ggtitle(\"Salary Boxplots\") +\n",
    "xlab(\"Position\")+\n",
    "ylab(\"Salary\")"
   ]
  },
  {
   "cell_type": "code",
   "execution_count": 334,
   "id": "ba783b32",
   "metadata": {
    "run_control": {
     "marked": false
    }
   },
   "outputs": [
    {
     "name": "stdout",
     "output_type": "stream",
     "text": [
      "  25%   50%   75% \n",
      "32650 43500 46125 \n",
      "IQR =  13475"
     ]
    }
   ],
   "source": [
    "q1 = quantile(UI_sal, prob=c(.25,.5,.75))\n",
    "print(q1)\n",
    "iqr1 = IQR(UI_sal)\n",
    "cat(\"IQR = \", iqr1)"
   ]
  },
  {
   "cell_type": "code",
   "execution_count": 335,
   "id": "8d141894",
   "metadata": {},
   "outputs": [
    {
     "name": "stdout",
     "output_type": "stream",
     "text": [
      "  25%   50%   75% \n",
      "32500 40000 44200 \n",
      "IQR =  11700"
     ]
    }
   ],
   "source": [
    "q2 = quantile(Back_sal, prob=c(.25,.5,.75))\n",
    "print(q2)\n",
    "iqr2 = IQR(Back_sal)\n",
    "cat(\"IQR = \", iqr2)"
   ]
  },
  {
   "cell_type": "code",
   "execution_count": 336,
   "id": "9559df14",
   "metadata": {},
   "outputs": [
    {
     "name": "stdout",
     "output_type": "stream",
     "text": [
      "  25%   50%   75% \n",
      "64250 73500 80500 \n",
      "IQR =  16250"
     ]
    }
   ],
   "source": [
    "q3 = quantile(Man_sal, prob=c(.25,.5,.75))\n",
    "print(q3)\n",
    "iqr3 = IQR(Man_sal)\n",
    "cat(\"IQR = \", iqr3)"
   ]
  },
  {
   "cell_type": "code",
   "execution_count": 337,
   "id": "8f418f35",
   "metadata": {},
   "outputs": [
    {
     "name": "stdout",
     "output_type": "stream",
     "text": [
      "  25%   50%   75% \n",
      "34500 39000 42000 \n",
      "IQR =  7500"
     ]
    }
   ],
   "source": [
    "q4 = quantile(HR_sal, prob=c(.25,.5,.75))\n",
    "print(q4)\n",
    "iqr4 = IQR(HR_sal)\n",
    "cat(\"IQR = \", iqr4)"
   ]
  },
  {
   "cell_type": "code",
   "execution_count": 338,
   "id": "36439128",
   "metadata": {},
   "outputs": [
    {
     "name": "stdout",
     "output_type": "stream",
     "text": [
      "  25%   50%   75% \n",
      "18500 25000 28250 \n",
      "IQR =  9750"
     ]
    }
   ],
   "source": [
    "q5 = quantile(HSE_sal, prob=c(.25,.5,.75))\n",
    "print(q5)\n",
    "iqr5 = IQR(HSE_sal)\n",
    "cat(\"IQR = \", iqr5)"
   ]
  },
  {
   "cell_type": "code",
   "execution_count": 339,
   "id": "ab35fdbe",
   "metadata": {},
   "outputs": [
    {
     "name": "stdout",
     "output_type": "stream",
     "text": [
      "Outliers:[ 75000 ]"
     ]
    }
   ],
   "source": [
    "cat(\"Outliers:[\", UI_sal[UI_sal < q1[[1]] - 1.5*iqr1 | UI_sal > q1[[3]] + 1.5*iqr1],\"]\")"
   ]
  },
  {
   "cell_type": "code",
   "execution_count": 340,
   "id": "b24ef0f9",
   "metadata": {},
   "outputs": [
    {
     "name": "stdout",
     "output_type": "stream",
     "text": [
      "Outliers:[ 80000 69000 5000 ]"
     ]
    }
   ],
   "source": [
    "cat(\"Outliers:[\", Back_sal[Back_sal < q2[[1]] - 1.5*iqr2 | Back_sal > q2[[3]] + 1.5*iqr2],\"]\")"
   ]
  },
  {
   "cell_type": "code",
   "execution_count": 341,
   "id": "4c2ec053",
   "metadata": {},
   "outputs": [
    {
     "name": "stdout",
     "output_type": "stream",
     "text": [
      "Outliers:[  ]"
     ]
    }
   ],
   "source": [
    "cat(\"Outliers:[\", Man_sal[Man_sal < q3[[1]] - 1.5*iqr3 | Man_sal > q3[[3]] + 1.5*iqr3],\"]\")"
   ]
  },
  {
   "cell_type": "code",
   "execution_count": 342,
   "id": "72b749b1",
   "metadata": {},
   "outputs": [
    {
     "name": "stdout",
     "output_type": "stream",
     "text": [
      "Outliers:[  ]"
     ]
    }
   ],
   "source": [
    "cat(\"Outliers:[\", HR_sal[HR_sal < q4[[1]] - 1.5*iqr4 | HR_sal > q4[[3]] + 1.5*iqr3],\"]\")"
   ]
  },
  {
   "cell_type": "code",
   "execution_count": 343,
   "id": "633d61ee",
   "metadata": {},
   "outputs": [
    {
     "name": "stdout",
     "output_type": "stream",
     "text": [
      "Outliers:[  ]"
     ]
    }
   ],
   "source": [
    "cat(\"Outliers:[\", HSE_sal[HSE_sal < q5[[1]] - 1.5*iqr5 | HSE_sal > q5[[3]] + 1.5*iqr5],\"]\")"
   ]
  },
  {
   "cell_type": "code",
   "execution_count": 344,
   "id": "a7d560cf",
   "metadata": {},
   "outputs": [
    {
     "data": {
      "image/png": "[encoded data removed]",
      "text/plain": [
       "plot without title"
      ]
     },
     "metadata": {},
     "output_type": "display_data"
    }
   ],
   "source": [
    "k <- ceiling(1 + 3.322*log10(length(UI_sal)))\n",
    "ggplot() + \n",
    " aes(x=UI_sal)+\n",
    " geom_histogram(aes(y=..density..), colour=\"black\", fill=\"white\", bins=k)+\n",
    " geom_density(alpha=.2, fill=\"#FF6666\") "
   ]
  },
  {
   "cell_type": "code",
   "execution_count": 345,
   "id": "88e15055",
   "metadata": {},
   "outputs": [
    {
     "data": {
      "image/png": "[encoded data removed]",
      "text/plain": [
       "plot without title"
      ]
     },
     "metadata": {},
     "output_type": "display_data"
    }
   ],
   "source": [
    "k <- ceiling(1 + 3.322*log10(length(Back_sal)))\n",
    "ggplot() + \n",
    " aes(x=Back_sal)+\n",
    " geom_histogram(aes(y=..density..), colour=\"black\", fill=\"white\", bins=k)+\n",
    " geom_density(alpha=.2, fill=\"#FF6666\") "
   ]
  },
  {
   "cell_type": "code",
   "execution_count": 346,
   "id": "fb2c3314",
   "metadata": {},
   "outputs": [
    {
     "data": {
      "image/png": "[encoded data removed]",
      "text/plain": [
       "plot without title"
      ]
     },
     "metadata": {},
     "output_type": "display_data"
    }
   ],
   "source": [
    "k <- ceiling(1 + 3.322*log10(length(Man_sal)))\n",
    "ggplot() + \n",
    " aes(x=Man_sal)+\n",
    " geom_histogram(aes(y=..density..), colour=\"black\", fill=\"white\", bins=k)+\n",
    " geom_density(alpha=.2, fill=\"#FF6666\") "
   ]
  },
  {
   "cell_type": "code",
   "execution_count": 347,
   "id": "d09d3fa0",
   "metadata": {},
   "outputs": [
    {
     "data": {
      "image/png": "[encoded data removed]",
      "text/plain": [
       "plot without title"
      ]
     },
     "metadata": {},
     "output_type": "display_data"
    }
   ],
   "source": [
    "k <- ceiling(1 + 3.322*log10(length(HR_sal)))\n",
    "ggplot() + \n",
    " aes(x=HR_sal)+\n",
    " geom_histogram(aes(y=..density..), colour=\"black\", fill=\"white\", bins=k)+\n",
    " geom_density(alpha=.2, fill=\"#FF6666\") "
   ]
  },
  {
   "cell_type": "code",
   "execution_count": 348,
   "id": "7c225ebb",
   "metadata": {},
   "outputs": [
    {
     "data": {
      "image/png": "[encoded data removed]",
      "text/plain": [
       "plot without title"
      ]
     },
     "metadata": {},
     "output_type": "display_data"
    }
   ],
   "source": [
    "k <- ceiling(1 + 3.322*log10(length(HSE_sal)))\n",
    "ggplot() + \n",
    " aes(x=HSE_sal)+\n",
    " geom_histogram(aes(y=..density..), colour=\"black\", fill=\"white\", bins=k)+\n",
    " geom_density(alpha=.2, fill=\"#FF6666\") "
   ]
  },
  {
   "cell_type": "code",
   "execution_count": 349,
   "id": "c7c94114",
   "metadata": {},
   "outputs": [
    {
     "data": {
      "text/html": [
       "<ol class=list-inline>\n",
       "\t<li>75000</li>\n",
       "\t<li>25000</li>\n",
       "\t<li>48000</li>\n",
       "\t<li>42000</li>\n",
       "\t<li>35200</li>\n",
       "\t<li>45000</li>\n",
       "\t<li>23000</li>\n",
       "\t<li>45500</li>\n",
       "\t<li>20000</li>\n",
       "\t<li>80000</li>\n",
       "\t<li>36000</li>\n",
       "\t<li>46300</li>\n",
       "\t<li>41000</li>\n",
       "\t<li>43000</li>\n",
       "\t<li>22000</li>\n",
       "\t<li>37000</li>\n",
       "\t<li>39000</li>\n",
       "\t<li>43500</li>\n",
       "\t<li>69000</li>\n",
       "\t<li>5000</li>\n",
       "\t<li>80000</li>\n",
       "\t<li>67000</li>\n",
       "\t<li>56000</li>\n",
       "\t<li>82000</li>\n",
       "\t<li>45000</li>\n",
       "\t<li>39000</li>\n",
       "\t<li>30000</li>\n",
       "\t<li>12000</li>\n",
       "\t<li>25000</li>\n",
       "\t<li>31500</li>\n",
       "</ol>\n"
      ],
      "text/latex": [
       "\\begin{enumerate*}\n",
       "\\item 75000\n",
       "\\item 25000\n",
       "\\item 48000\n",
       "\\item 42000\n",
       "\\item 35200\n",
       "\\item 45000\n",
       "\\item 23000\n",
       "\\item 45500\n",
       "\\item 20000\n",
       "\\item 80000\n",
       "\\item 36000\n",
       "\\item 46300\n",
       "\\item 41000\n",
       "\\item 43000\n",
       "\\item 22000\n",
       "\\item 37000\n",
       "\\item 39000\n",
       "\\item 43500\n",
       "\\item 69000\n",
       "\\item 5000\n",
       "\\item 80000\n",
       "\\item 67000\n",
       "\\item 56000\n",
       "\\item 82000\n",
       "\\item 45000\n",
       "\\item 39000\n",
       "\\item 30000\n",
       "\\item 12000\n",
       "\\item 25000\n",
       "\\item 31500\n",
       "\\end{enumerate*}\n"
      ],
      "text/markdown": [
       "1. 75000\n",
       "2. 25000\n",
       "3. 48000\n",
       "4. 42000\n",
       "5. 35200\n",
       "6. 45000\n",
       "7. 23000\n",
       "8. 45500\n",
       "9. 20000\n",
       "10. 80000\n",
       "11. 36000\n",
       "12. 46300\n",
       "13. 41000\n",
       "14. 43000\n",
       "15. 22000\n",
       "16. 37000\n",
       "17. 39000\n",
       "18. 43500\n",
       "19. 69000\n",
       "20. 5000\n",
       "21. 80000\n",
       "22. 67000\n",
       "23. 56000\n",
       "24. 82000\n",
       "25. 45000\n",
       "26. 39000\n",
       "27. 30000\n",
       "28. 12000\n",
       "29. 25000\n",
       "30. 31500\n",
       "\n",
       "\n"
      ],
      "text/plain": [
       " [1] 75000 25000 48000 42000 35200 45000 23000 45500 20000 80000 36000 46300\n",
       "[13] 41000 43000 22000 37000 39000 43500 69000  5000 80000 67000 56000 82000\n",
       "[25] 45000 39000 30000 12000 25000 31500"
      ]
     },
     "metadata": {},
     "output_type": "display_data"
    }
   ],
   "source": [
    "total_sal = c(UI_sal, Back_sal, Man_sal, HR_sal, HSE_sal)\n",
    "total_sal"
   ]
  },
  {
   "cell_type": "code",
   "execution_count": 350,
   "id": "12154f7c",
   "metadata": {},
   "outputs": [
    {
     "data": {
      "text/html": [
       "<ol class=list-inline>\n",
       "\t<li>'very high'</li>\n",
       "\t<li>'low'</li>\n",
       "\t<li>'high'</li>\n",
       "\t<li>'high'</li>\n",
       "\t<li>'middle'</li>\n",
       "\t<li>'high'</li>\n",
       "\t<li>'low'</li>\n",
       "\t<li>'high'</li>\n",
       "\t<li>'very low'</li>\n",
       "\t<li>'very high'</li>\n",
       "\t<li>'middle'</li>\n",
       "\t<li>'high'</li>\n",
       "\t<li>'high'</li>\n",
       "\t<li>'high'</li>\n",
       "\t<li>'low'</li>\n",
       "\t<li>'middle'</li>\n",
       "\t<li>'middle'</li>\n",
       "\t<li>'high'</li>\n",
       "\t<li>'very high'</li>\n",
       "\t<li>'very low'</li>\n",
       "\t<li>'very high'</li>\n",
       "\t<li>'very high'</li>\n",
       "\t<li>'very high'</li>\n",
       "\t<li>'very high'</li>\n",
       "\t<li>'high'</li>\n",
       "\t<li>'middle'</li>\n",
       "\t<li>'low'</li>\n",
       "\t<li>'very low'</li>\n",
       "\t<li>'low'</li>\n",
       "\t<li>'middle'</li>\n",
       "</ol>\n"
      ],
      "text/latex": [
       "\\begin{enumerate*}\n",
       "\\item 'very high'\n",
       "\\item 'low'\n",
       "\\item 'high'\n",
       "\\item 'high'\n",
       "\\item 'middle'\n",
       "\\item 'high'\n",
       "\\item 'low'\n",
       "\\item 'high'\n",
       "\\item 'very low'\n",
       "\\item 'very high'\n",
       "\\item 'middle'\n",
       "\\item 'high'\n",
       "\\item 'high'\n",
       "\\item 'high'\n",
       "\\item 'low'\n",
       "\\item 'middle'\n",
       "\\item 'middle'\n",
       "\\item 'high'\n",
       "\\item 'very high'\n",
       "\\item 'very low'\n",
       "\\item 'very high'\n",
       "\\item 'very high'\n",
       "\\item 'very high'\n",
       "\\item 'very high'\n",
       "\\item 'high'\n",
       "\\item 'middle'\n",
       "\\item 'low'\n",
       "\\item 'very low'\n",
       "\\item 'low'\n",
       "\\item 'middle'\n",
       "\\end{enumerate*}\n"
      ],
      "text/markdown": [
       "1. 'very high'\n",
       "2. 'low'\n",
       "3. 'high'\n",
       "4. 'high'\n",
       "5. 'middle'\n",
       "6. 'high'\n",
       "7. 'low'\n",
       "8. 'high'\n",
       "9. 'very low'\n",
       "10. 'very high'\n",
       "11. 'middle'\n",
       "12. 'high'\n",
       "13. 'high'\n",
       "14. 'high'\n",
       "15. 'low'\n",
       "16. 'middle'\n",
       "17. 'middle'\n",
       "18. 'high'\n",
       "19. 'very high'\n",
       "20. 'very low'\n",
       "21. 'very high'\n",
       "22. 'very high'\n",
       "23. 'very high'\n",
       "24. 'very high'\n",
       "25. 'high'\n",
       "26. 'middle'\n",
       "27. 'low'\n",
       "28. 'very low'\n",
       "29. 'low'\n",
       "30. 'middle'\n",
       "\n",
       "\n"
      ],
      "text/plain": [
       " [1] \"very high\" \"low\"       \"high\"      \"high\"      \"middle\"    \"high\"     \n",
       " [7] \"low\"       \"high\"      \"very low\"  \"very high\" \"middle\"    \"high\"     \n",
       "[13] \"high\"      \"high\"      \"low\"       \"middle\"    \"middle\"    \"high\"     \n",
       "[19] \"very high\" \"very low\"  \"very high\" \"very high\" \"very high\" \"very high\"\n",
       "[25] \"high\"      \"middle\"    \"low\"       \"very low\"  \"low\"       \"middle\"   "
      ]
     },
     "metadata": {},
     "output_type": "display_data"
    }
   ],
   "source": [
    "total_sal_lab <- c()\n",
    "for (p in total_sal) {\n",
    "    if (p <= 20000) {\n",
    "        total_sal_lab = append(total_sal_lab, 'very low')\n",
    "    } else if(p > 20000 & p <= 30000) {\n",
    "        total_sal_lab = append(total_sal_lab, 'low')\n",
    "    } else if(p > 30000 & p <= 40000) {\n",
    "        total_sal_lab = append(total_sal_lab, 'middle')\n",
    "    } else if(p > 40000 & p <= 50000) {\n",
    "        total_sal_lab = append(total_sal_lab, 'high')\n",
    "    } else if(p > 50000) {\n",
    "        total_sal_lab = append(total_sal_lab, 'very high')\n",
    "    }\n",
    "}\n",
    "total_sal_lab"
   ]
  },
  {
   "cell_type": "code",
   "execution_count": 351,
   "id": "609b6a8d",
   "metadata": {},
   "outputs": [
    {
     "data": {
      "image/png": "[encoded data removed]",
      "text/plain": [
       "plot without title"
      ]
     },
     "metadata": {},
     "output_type": "display_data"
    }
   ],
   "source": [
    "data <- data.frame(group = total_sal_lab,\n",
    "                   value = total_sal)\n",
    "df <- data %>% \n",
    "  group_by(group) %>% # Variable to be transformed\n",
    "  count() %>% \n",
    "  ungroup() %>% \n",
    "  mutate(perc = `n` / sum(`n`)) %>% \n",
    "  arrange(perc) %>%\n",
    "  mutate(labels = scales::percent(perc))\n",
    "\n",
    "ggplot(df, aes(x = \"\", y = perc, fill = group)) +\n",
    "  geom_col() +\n",
    "  geom_text(aes(label = labels),\n",
    "            position = position_stack(vjust = 0.5)) +\n",
    "  coord_polar(theta = \"y\")"
   ]
  },
  {
   "cell_type": "code",
   "execution_count": 352,
   "id": "9ce2b07d",
   "metadata": {
    "run_control": {
     "marked": false
    }
   },
   "outputs": [
    {
     "name": "stdout",
     "output_type": "stream",
     "text": [
      "Mean:  40150  Median:  40000  Variance:  407060909  Standard Deviation:  20175.75  "
     ]
    }
   ],
   "source": [
    "cat(\"Mean: \", mean(Back_sal), \" \")\n",
    "cat(\"Median: \", median(Back_sal), \" \")\n",
    "cat(\"Variance: \", var(Back_sal), \" \")\n",
    "cat(\"Standard Deviation: \", sd(Back_sal), \" \")"
   ]
  },
  {
   "cell_type": "markdown",
   "id": "a919c755",
   "metadata": {},
   "source": [
    "<div style=\"font-size:26px;font-weight:bold;font-family:Times New Roman\">Question 8</div>"
   ]
  },
  {
   "cell_type": "code",
   "execution_count": 353,
   "id": "2171d6bb",
   "metadata": {},
   "outputs": [
    {
     "data": {
      "text/html": [
       "<ol class=list-inline>\n",
       "\t<li>57</li>\n",
       "\t<li>66</li>\n",
       "\t<li>72</li>\n",
       "\t<li>78</li>\n",
       "\t<li>79</li>\n",
       "\t<li>79</li>\n",
       "\t<li>81</li>\n",
       "\t<li>81</li>\n",
       "\t<li>82</li>\n",
       "\t<li>83</li>\n",
       "\t<li>84</li>\n",
       "\t<li>87</li>\n",
       "\t<li>88</li>\n",
       "\t<li>88</li>\n",
       "\t<li>89</li>\n",
       "\t<li>90</li>\n",
       "\t<li>91</li>\n",
       "\t<li>92</li>\n",
       "\t<li>94</li>\n",
       "\t<li>95</li>\n",
       "</ol>\n"
      ],
      "text/latex": [
       "\\begin{enumerate*}\n",
       "\\item 57\n",
       "\\item 66\n",
       "\\item 72\n",
       "\\item 78\n",
       "\\item 79\n",
       "\\item 79\n",
       "\\item 81\n",
       "\\item 81\n",
       "\\item 82\n",
       "\\item 83\n",
       "\\item 84\n",
       "\\item 87\n",
       "\\item 88\n",
       "\\item 88\n",
       "\\item 89\n",
       "\\item 90\n",
       "\\item 91\n",
       "\\item 92\n",
       "\\item 94\n",
       "\\item 95\n",
       "\\end{enumerate*}\n"
      ],
      "text/markdown": [
       "1. 57\n",
       "2. 66\n",
       "3. 72\n",
       "4. 78\n",
       "5. 79\n",
       "6. 79\n",
       "7. 81\n",
       "8. 81\n",
       "9. 82\n",
       "10. 83\n",
       "11. 84\n",
       "12. 87\n",
       "13. 88\n",
       "14. 88\n",
       "15. 89\n",
       "16. 90\n",
       "17. 91\n",
       "18. 92\n",
       "19. 94\n",
       "20. 95\n",
       "\n",
       "\n"
      ],
      "text/plain": [
       " [1] 57 66 72 78 79 79 81 81 82 83 84 87 88 88 89 90 91 92 94 95"
      ]
     },
     "metadata": {},
     "output_type": "display_data"
    }
   ],
   "source": [
    "scores <- c(57, 66, 72, 78, 79, 79, 81, 81, 82, 83, 84, 87, 88, 88, 89, 90, 91, 92, 94, 95)\n",
    "scores"
   ]
  },
  {
   "cell_type": "code",
   "execution_count": 354,
   "id": "c55fa1d4",
   "metadata": {},
   "outputs": [
    {
     "name": "stdout",
     "output_type": "stream",
     "text": [
      "Mean:  82.8  Median:  83.5  Variance:  90.16842  Standard Deviation:  9.495705  "
     ]
    }
   ],
   "source": [
    "cat(\"Mean: \", mean(scores), \" \")\n",
    "cat(\"Median: \", median(scores), \" \")\n",
    "cat(\"Variance: \", var(scores), \" \")\n",
    "cat(\"Standard Deviation: \", sd(scores), \" \")"
   ]
  },
  {
   "cell_type": "code",
   "execution_count": 355,
   "id": "e557ac56",
   "metadata": {},
   "outputs": [
    {
     "name": "stdout",
     "output_type": "stream",
     "text": [
      "Outliers:[ 57 ]"
     ]
    }
   ],
   "source": [
    "q = quantile(scores, prob=c(.25,.5,.75))\n",
    "iqr = IQR(scores)\n",
    "cat(\"Outliers:[\", scores[scores < q[[1]] - 1.5*iqr | scores > q[[3]] + 1.5*iqr],\"]\")"
   ]
  },
  {
   "cell_type": "code",
   "execution_count": 356,
   "id": "98226240",
   "metadata": {},
   "outputs": [
    {
     "data": {
      "image/png": "[encoded data removed]",
      "text/plain": [
       "plot without title"
      ]
     },
     "metadata": {},
     "output_type": "display_data"
    }
   ],
   "source": [
    "ggplot() +\n",
    "geom_boxplot(mapping = aes(x = \"Students\", y=scores)) "
   ]
  },
  {
   "cell_type": "code",
   "execution_count": 357,
   "id": "9dfe73bf",
   "metadata": {},
   "outputs": [
    {
     "data": {
      "image/png": "[encoded data removed]",
      "text/plain": [
       "plot without title"
      ]
     },
     "metadata": {},
     "output_type": "display_data"
    }
   ],
   "source": [
    "k <- ceiling(1 + 3.322*log10(length(scores)))\n",
    "ggplot() + \n",
    " aes(x=scores)+\n",
    " geom_histogram(aes(y=..density..), colour=\"black\", fill=\"white\", bins=k)+\n",
    " geom_density(alpha=.2, fill=\"#FF6666\") "
   ]
  },
  {
   "cell_type": "markdown",
   "id": "adc59dfb",
   "metadata": {},
   "source": [
    "as we can see in the plot scores are right skewed and are mostly arount the higher values.\n",
    "\n",
    "A right skewed distribution would be biased towards higher values, such that the mean of the distribution will exceed the median of the distribution.\n",
    "\n",
    "When it is skewed right or left with high or low outliers then the median is better to use to find the center. The best measure of spread when the median is the center is the IQR. As for when the center is the mean, then standard deviation should be used since it measure the distance between a data point and the mean."
   ]
  },
  {
   "cell_type": "markdown",
   "id": "1fa72674",
   "metadata": {},
   "source": [
    "<div style=\"font-size:26px;font-weight:bold;font-family:Times New Roman\">Question 9</div>"
   ]
  },
  {
   "cell_type": "code",
   "execution_count": 358,
   "id": "266ce3dc",
   "metadata": {},
   "outputs": [
    {
     "data": {
      "text/html": [
       "<table>\n",
       "<thead><tr><th scope=col>classes</th><th scope=col>counts</th></tr></thead>\n",
       "<tbody>\n",
       "\t<tr><td>class1</td><td>25    </td></tr>\n",
       "\t<tr><td>class2</td><td>30    </td></tr>\n",
       "\t<tr><td>class3</td><td>35    </td></tr>\n",
       "\t<tr><td>class4</td><td>20    </td></tr>\n",
       "\t<tr><td>class5</td><td>25    </td></tr>\n",
       "</tbody>\n",
       "</table>\n"
      ],
      "text/latex": [
       "\\begin{tabular}{r|ll}\n",
       " classes & counts\\\\\n",
       "\\hline\n",
       "\t class1 & 25    \\\\\n",
       "\t class2 & 30    \\\\\n",
       "\t class3 & 35    \\\\\n",
       "\t class4 & 20    \\\\\n",
       "\t class5 & 25    \\\\\n",
       "\\end{tabular}\n"
      ],
      "text/markdown": [
       "\n",
       "| classes | counts |\n",
       "|---|---|\n",
       "| class1 | 25     |\n",
       "| class2 | 30     |\n",
       "| class3 | 35     |\n",
       "| class4 | 20     |\n",
       "| class5 | 25     |\n",
       "\n"
      ],
      "text/plain": [
       "  classes counts\n",
       "1 class1  25    \n",
       "2 class2  30    \n",
       "3 class3  35    \n",
       "4 class4  20    \n",
       "5 class5  25    "
      ]
     },
     "metadata": {},
     "output_type": "display_data"
    }
   ],
   "source": [
    "data <- data.frame(\n",
    "        classes = c(\"class1\", \"class2\", \"class3\", \"class4\", \"class5\"),\n",
    "        counts = c(25, 30, 35, 20, 25)\n",
    "    )\n",
    "data"
   ]
  },
  {
   "cell_type": "code",
   "execution_count": 359,
   "id": "ab950950",
   "metadata": {},
   "outputs": [
    {
     "data": {
      "image/png": "[encoded data removed]",
      "text/plain": [
       "plot without title"
      ]
     },
     "metadata": {},
     "output_type": "display_data"
    }
   ],
   "source": [
    "ggplot(data, aes(x=classes, y=counts))+\n",
    "    geom_bar(stat=\"identity\")+\n",
    "    labs(title = \"Count of students in classes\") +\n",
    "    theme(plot.title = element_text(color = \"darkgreen\"),\n",
    "          axis.title = element_text(colour = \"red\"))"
   ]
  },
  {
   "cell_type": "code",
   "execution_count": 360,
   "id": "2f3fd31c",
   "metadata": {},
   "outputs": [
    {
     "data": {
      "text/html": [
       "<table>\n",
       "<thead><tr><th scope=col>classes</th><th scope=col>counts</th><th scope=col>top_students</th></tr></thead>\n",
       "<tbody>\n",
       "\t<tr><td>class1</td><td>25    </td><td>3     </td></tr>\n",
       "\t<tr><td>class2</td><td>30    </td><td>5     </td></tr>\n",
       "\t<tr><td>class3</td><td>35    </td><td>2     </td></tr>\n",
       "\t<tr><td>class4</td><td>20    </td><td>1     </td></tr>\n",
       "\t<tr><td>class5</td><td>25    </td><td>4     </td></tr>\n",
       "</tbody>\n",
       "</table>\n"
      ],
      "text/latex": [
       "\\begin{tabular}{r|lll}\n",
       " classes & counts & top\\_students\\\\\n",
       "\\hline\n",
       "\t class1 & 25     & 3     \\\\\n",
       "\t class2 & 30     & 5     \\\\\n",
       "\t class3 & 35     & 2     \\\\\n",
       "\t class4 & 20     & 1     \\\\\n",
       "\t class5 & 25     & 4     \\\\\n",
       "\\end{tabular}\n"
      ],
      "text/markdown": [
       "\n",
       "| classes | counts | top_students |\n",
       "|---|---|---|\n",
       "| class1 | 25     | 3      |\n",
       "| class2 | 30     | 5      |\n",
       "| class3 | 35     | 2      |\n",
       "| class4 | 20     | 1      |\n",
       "| class5 | 25     | 4      |\n",
       "\n"
      ],
      "text/plain": [
       "  classes counts top_students\n",
       "1 class1  25     3           \n",
       "2 class2  30     5           \n",
       "3 class3  35     2           \n",
       "4 class4  20     1           \n",
       "5 class5  25     4           "
      ]
     },
     "metadata": {},
     "output_type": "display_data"
    }
   ],
   "source": [
    "data$top_students = c(3,5,2,1,4) \n",
    "data"
   ]
  },
  {
   "cell_type": "code",
   "execution_count": 361,
   "id": "156a575e",
   "metadata": {
    "scrolled": false
   },
   "outputs": [
    {
     "data": {
      "image/png": "[encoded data removed]",
      "text/plain": [
       "plot without title"
      ]
     },
     "metadata": {},
     "output_type": "display_data"
    }
   ],
   "source": [
    "ggplot(data, aes(x=top_students, y=counts))+\n",
    "    geom_point(shape=8, size=5, stroke = 1)"
   ]
  },
  {
   "cell_type": "markdown",
   "id": "d6dc8c2b",
   "metadata": {},
   "source": [
    "Due to the small number of samples, it is not possible to give a definite opinion, but according to the figure, there seems to be a positive correlation between the data.\n",
    "\n"
   ]
  },
  {
   "cell_type": "code",
   "execution_count": 362,
   "id": "87042731",
   "metadata": {},
   "outputs": [
    {
     "data": {
      "text/html": [
       "<ol class=list-inline>\n",
       "\t<li>19.5</li>\n",
       "\t<li>16.75</li>\n",
       "\t<li>13.5</li>\n",
       "\t<li>16.25</li>\n",
       "\t<li>5</li>\n",
       "\t<li>12.5</li>\n",
       "\t<li>15.5</li>\n",
       "\t<li>15</li>\n",
       "\t<li>11</li>\n",
       "\t<li>16.5</li>\n",
       "\t<li>12.75</li>\n",
       "\t<li>15.5</li>\n",
       "\t<li>12.75</li>\n",
       "\t<li>9.75</li>\n",
       "\t<li>11</li>\n",
       "\t<li>14.5</li>\n",
       "\t<li>16.75</li>\n",
       "\t<li>11.5</li>\n",
       "\t<li>17</li>\n",
       "\t<li>18.25</li>\n",
       "</ol>\n"
      ],
      "text/latex": [
       "\\begin{enumerate*}\n",
       "\\item 19.5\n",
       "\\item 16.75\n",
       "\\item 13.5\n",
       "\\item 16.25\n",
       "\\item 5\n",
       "\\item 12.5\n",
       "\\item 15.5\n",
       "\\item 15\n",
       "\\item 11\n",
       "\\item 16.5\n",
       "\\item 12.75\n",
       "\\item 15.5\n",
       "\\item 12.75\n",
       "\\item 9.75\n",
       "\\item 11\n",
       "\\item 14.5\n",
       "\\item 16.75\n",
       "\\item 11.5\n",
       "\\item 17\n",
       "\\item 18.25\n",
       "\\end{enumerate*}\n"
      ],
      "text/markdown": [
       "1. 19.5\n",
       "2. 16.75\n",
       "3. 13.5\n",
       "4. 16.25\n",
       "5. 5\n",
       "6. 12.5\n",
       "7. 15.5\n",
       "8. 15\n",
       "9. 11\n",
       "10. 16.5\n",
       "11. 12.75\n",
       "12. 15.5\n",
       "13. 12.75\n",
       "14. 9.75\n",
       "15. 11\n",
       "16. 14.5\n",
       "17. 16.75\n",
       "18. 11.5\n",
       "19. 17\n",
       "20. 18.25\n",
       "\n",
       "\n"
      ],
      "text/plain": [
       " [1] 19.50 16.75 13.50 16.25  5.00 12.50 15.50 15.00 11.00 16.50 12.75 15.50\n",
       "[13] 12.75  9.75 11.00 14.50 16.75 11.50 17.00 18.25"
      ]
     },
     "metadata": {},
     "output_type": "display_data"
    }
   ],
   "source": [
    "gpa <- c(19.5, 16.75, 13.5, 16.25, 5, 12.5, 15.5, 15, 11, 16.5, 12.75, 15.5, 12.75, 9.75, 11, 14.5, 16.75, 11.5, 17, 18.25)\n",
    "gpa"
   ]
  },
  {
   "cell_type": "code",
   "execution_count": 363,
   "id": "c6438740",
   "metadata": {
    "scrolled": false
   },
   "outputs": [
    {
     "data": {
      "image/png": "[encoded data removed]",
      "text/plain": [
       "plot without title"
      ]
     },
     "metadata": {},
     "output_type": "display_data"
    }
   ],
   "source": [
    "k <- ceiling(1 + 3.322*log10(length(gpa)))\n",
    "ggplot() + \n",
    " aes(x=gpa)+\n",
    " geom_histogram(aes(y=..density..), colour=\"black\", fill=\"white\", bins=k)+\n",
    " geom_density(alpha=.2, fill=\"#FF6666\") "
   ]
  },
  {
   "cell_type": "markdown",
   "id": "0c55ce8c",
   "metadata": {},
   "source": [
    "The histogram is the graphical representation that organizes a group of data points into the specified range. Creating the histogram provides the Visual representation of data distribution. By using a histogram we can represent a large amount of data, and its frequency.\n",
    "\n",
    "Density Plot is the continuous and smoothed version of the Histogram estimated from the data. It is estimated through Kernel Density Estimation.\n",
    "In this method Kernel (continuous curve) is drawn at every individual data point and then all these curves are added together to make a single smoothened density estimation. Histogram fails when we want to compare the data distribution of a single variable over the multiple categories at that time Density Plot is useful for visualizing the data.\n"
   ]
  },
  {
   "cell_type": "code",
   "execution_count": 364,
   "id": "1708d745",
   "metadata": {},
   "outputs": [
    {
     "data": {
      "text/html": [
       "<ol class=list-inline>\n",
       "\t<li>'A'</li>\n",
       "\t<li>'B'</li>\n",
       "\t<li>'C'</li>\n",
       "\t<li>'B'</li>\n",
       "\t<li>'D'</li>\n",
       "\t<li>'D'</li>\n",
       "\t<li>'B'</li>\n",
       "\t<li>'B'</li>\n",
       "\t<li>'D'</li>\n",
       "\t<li>'B'</li>\n",
       "\t<li>'D'</li>\n",
       "\t<li>'B'</li>\n",
       "\t<li>'D'</li>\n",
       "\t<li>'D'</li>\n",
       "\t<li>'D'</li>\n",
       "\t<li>'C'</li>\n",
       "\t<li>'B'</li>\n",
       "\t<li>'D'</li>\n",
       "\t<li>'B'</li>\n",
       "\t<li>'A'</li>\n",
       "</ol>\n"
      ],
      "text/latex": [
       "\\begin{enumerate*}\n",
       "\\item 'A'\n",
       "\\item 'B'\n",
       "\\item 'C'\n",
       "\\item 'B'\n",
       "\\item 'D'\n",
       "\\item 'D'\n",
       "\\item 'B'\n",
       "\\item 'B'\n",
       "\\item 'D'\n",
       "\\item 'B'\n",
       "\\item 'D'\n",
       "\\item 'B'\n",
       "\\item 'D'\n",
       "\\item 'D'\n",
       "\\item 'D'\n",
       "\\item 'C'\n",
       "\\item 'B'\n",
       "\\item 'D'\n",
       "\\item 'B'\n",
       "\\item 'A'\n",
       "\\end{enumerate*}\n"
      ],
      "text/markdown": [
       "1. 'A'\n",
       "2. 'B'\n",
       "3. 'C'\n",
       "4. 'B'\n",
       "5. 'D'\n",
       "6. 'D'\n",
       "7. 'B'\n",
       "8. 'B'\n",
       "9. 'D'\n",
       "10. 'B'\n",
       "11. 'D'\n",
       "12. 'B'\n",
       "13. 'D'\n",
       "14. 'D'\n",
       "15. 'D'\n",
       "16. 'C'\n",
       "17. 'B'\n",
       "18. 'D'\n",
       "19. 'B'\n",
       "20. 'A'\n",
       "\n",
       "\n"
      ],
      "text/plain": [
       " [1] \"A\" \"B\" \"C\" \"B\" \"D\" \"D\" \"B\" \"B\" \"D\" \"B\" \"D\" \"B\" \"D\" \"D\" \"D\" \"C\" \"B\" \"D\" \"B\"\n",
       "[20] \"A\""
      ]
     },
     "metadata": {},
     "output_type": "display_data"
    }
   ],
   "source": [
    "gpa_lab <- c()\n",
    "for (p in gpa) {\n",
    "    if (p < 13) {\n",
    "        gpa_lab = append(gpa_lab, 'D')\n",
    "    } else if(p >= 13 & p < 15) {\n",
    "        gpa_lab = append(gpa_lab, 'C')\n",
    "    } else if(p >= 15 & p < 18) {\n",
    "        gpa_lab = append(gpa_lab, 'B')\n",
    "    } else if(p >= 18) {\n",
    "        gpa_lab = append(gpa_lab, 'A')\n",
    "    }\n",
    "}\n",
    "gpa_lab"
   ]
  },
  {
   "cell_type": "code",
   "execution_count": 365,
   "id": "8eb54a90",
   "metadata": {},
   "outputs": [
    {
     "data": {
      "image/png": "[encoded data removed]",
      "text/plain": [
       "plot without title"
      ]
     },
     "metadata": {},
     "output_type": "display_data"
    }
   ],
   "source": [
    "data <- data.frame(group = gpa_lab,\n",
    "                   value = gpa)\n",
    "df <- data %>% \n",
    "  group_by(group) %>% # Variable to be transformed\n",
    "  count() %>% \n",
    "  ungroup() %>% \n",
    "  mutate(perc = `n` / sum(`n`)) %>% \n",
    "  arrange(perc) %>%\n",
    "  mutate(labels = scales::percent(perc))\n",
    "\n",
    "ggplot(df, aes(x = \"\", y = perc, fill = group)) +\n",
    "  geom_col() +\n",
    "  geom_text(aes(label = labels),\n",
    "            position = position_stack(vjust = 0.5)) +\n",
    "  coord_polar(theta = \"y\")"
   ]
  },
  {
   "cell_type": "code",
   "execution_count": null,
   "id": "aa11b824",
   "metadata": {},
   "outputs": [],
   "source": []
  }
 ],
 "metadata": {
  "kernelspec": {
   "display_name": "R",
   "language": "R",
   "name": "ir"
  },
  "language_info": {
   "codemirror_mode": "r",
   "file_extension": ".r",
   "mimetype": "text/x-r-source",
   "name": "R",
   "pygments_lexer": "r",
   "version": "3.6.1"
  },
  "toc": {
   "base_numbering": 1,
   "nav_menu": {},
   "number_sections": true,
   "sideBar": true,
   "skip_h1_title": false,
   "title_cell": "Table of Contents",
   "title_sidebar": "Contents",
   "toc_cell": false,
   "toc_position": {},
   "toc_section_display": true,
   "toc_window_display": false
  }
 },
 "nbformat": 4,
 "nbformat_minor": 5
}
