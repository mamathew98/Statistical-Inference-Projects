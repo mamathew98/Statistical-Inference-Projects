{
 "cells": [
  {
   "cell_type": "markdown",
   "id": "0acec519",
   "metadata": {},
   "source": [
    "# Statistical Inference - Homework 5\n",
    "\n",
    "Author: Mohammad Naseri (810100486)"
   ]
  },
  {
   "cell_type": "markdown",
   "id": "2ed5d287",
   "metadata": {},
   "source": [
    "## Install Libraries"
   ]
  },
  {
   "cell_type": "code",
   "execution_count": 1,
   "id": "4a575a87",
   "metadata": {
    "scrolled": true
   },
   "outputs": [
    {
     "name": "stdout",
     "output_type": "stream",
     "text": [
      "package 'LearnBayes' successfully unpacked and MD5 sums checked\n",
      "\n",
      "The downloaded binary packages are in\n",
      "\tC:\\Users\\mamat\\AppData\\Local\\Temp\\RtmpwXspBD\\downloaded_packages\n"
     ]
    },
    {
     "name": "stderr",
     "output_type": "stream",
     "text": [
      "also installing the dependencies 'htmltools', 'xfun', 'bslib', 'tinytex', 'knitr', 'rmarkdown', 'reprex'\n",
      "\n"
     ]
    },
    {
     "name": "stdout",
     "output_type": "stream",
     "text": [
      "\n",
      "  There are binary versions available but the source versions are later:\n",
      "           binary source needs_compilation\n",
      "htmltools 0.5.1.1  0.5.2              TRUE\n",
      "xfun         0.22   0.31              TRUE\n",
      "bslib       0.2.4  0.3.1             FALSE\n",
      "tinytex      0.31   0.40             FALSE\n",
      "knitr        1.33   1.39             FALSE\n",
      "rmarkdown     2.8   2.14             FALSE\n",
      "reprex      2.0.0  2.0.1             FALSE\n",
      "\n",
      "  Binaries will be installed\n",
      "package 'htmltools' successfully unpacked and MD5 sums checked\n"
     ]
    },
    {
     "name": "stderr",
     "output_type": "stream",
     "text": [
      "Warning message:\n",
      "\"cannot remove prior installation of package 'htmltools'\"Warning message in file.copy(savedcopy, lib, recursive = TRUE):\n",
      "\"problem copying C:\\Users\\mamat\\anaconda3\\Lib\\R\\library\\00LOCK\\htmltools\\libs\\x64\\htmltools.dll to C:\\Users\\mamat\\anaconda3\\Lib\\R\\library\\htmltools\\libs\\x64\\htmltools.dll: Permission denied\"Warning message:\n",
      "\"restored 'htmltools'\""
     ]
    },
    {
     "name": "stdout",
     "output_type": "stream",
     "text": [
      "package 'xfun' successfully unpacked and MD5 sums checked\n",
      "package 'tidyverse' successfully unpacked and MD5 sums checked\n",
      "\n",
      "The downloaded binary packages are in\n",
      "\tC:\\Users\\mamat\\AppData\\Local\\Temp\\RtmpwXspBD\\downloaded_packages\n"
     ]
    },
    {
     "name": "stderr",
     "output_type": "stream",
     "text": [
      "installing the source packages 'bslib', 'tinytex', 'knitr', 'rmarkdown', 'reprex'\n",
      "\n",
      "Warning message in install.packages(\"tidyverse\"):\n",
      "\"installation of package 'bslib' had non-zero exit status\"Warning message in install.packages(\"tidyverse\"):\n",
      "\"installation of package 'tinytex' had non-zero exit status\"Warning message in install.packages(\"tidyverse\"):\n",
      "\"installation of package 'knitr' had non-zero exit status\"Warning message in install.packages(\"tidyverse\"):\n",
      "\"installation of package 'rmarkdown' had non-zero exit status\"Warning message in install.packages(\"tidyverse\"):\n",
      "\"installation of package 'reprex' had non-zero exit status\"also installing the dependency 'rlang'\n",
      "\n"
     ]
    },
    {
     "name": "stdout",
     "output_type": "stream",
     "text": [
      "\n",
      "  There are binary versions available but the source versions are later:\n",
      "       binary source needs_compilation\n",
      "rlang  0.4.11  1.0.3              TRUE\n",
      "tibble  3.1.1  3.1.7              TRUE\n",
      "\n",
      "  Binaries will be installed\n",
      "package 'rlang' successfully unpacked and MD5 sums checked\n"
     ]
    },
    {
     "name": "stderr",
     "output_type": "stream",
     "text": [
      "Warning message:\n",
      "\"cannot remove prior installation of package 'rlang'\"Warning message in file.copy(savedcopy, lib, recursive = TRUE):\n",
      "\"problem copying C:\\Users\\mamat\\anaconda3\\Lib\\R\\library\\00LOCK\\rlang\\libs\\x64\\rlang.dll to C:\\Users\\mamat\\anaconda3\\Lib\\R\\library\\rlang\\libs\\x64\\rlang.dll: Permission denied\"Warning message:\n",
      "\"restored 'rlang'\""
     ]
    },
    {
     "name": "stdout",
     "output_type": "stream",
     "text": [
      "package 'tibble' successfully unpacked and MD5 sums checked\n",
      "\n",
      "The downloaded binary packages are in\n",
      "\tC:\\Users\\mamat\\AppData\\Local\\Temp\\RtmpwXspBD\\downloaded_packages\n"
     ]
    }
   ],
   "source": [
    "install.packages(\"LearnBayes\")\n",
    "install.packages(\"tidyverse\")\n",
    "install.packages(\"tibble\")"
   ]
  },
  {
   "cell_type": "markdown",
   "id": "41d5f543",
   "metadata": {},
   "source": [
    "## Import Libraries"
   ]
  },
  {
   "cell_type": "code",
   "execution_count": 2,
   "id": "08e57e62",
   "metadata": {},
   "outputs": [
    {
     "name": "stderr",
     "output_type": "stream",
     "text": [
      "Warning message:\n",
      "\"package 'tibble' was built under R version 3.6.3\""
     ]
    }
   ],
   "source": [
    "library(LearnBayes)\n",
    "library(ggplot2)\n",
    "library(tibble)"
   ]
  },
  {
   "cell_type": "markdown",
   "id": "10612dab",
   "metadata": {},
   "source": [
    "<hr/>"
   ]
  },
  {
   "cell_type": "markdown",
   "id": "57615cc3",
   "metadata": {},
   "source": [
    "## Question 1 - Bayesian Elements"
   ]
  },
  {
   "cell_type": "code",
   "execution_count": 3,
   "id": "135213f4",
   "metadata": {},
   "outputs": [
    {
     "data": {
      "image/png": "[encoded data removed]",
      "text/plain": [
       "Plot with title \"Bayes Triplot, beta( 3 , 10 ) prior, s= 10 , f= 6\""
      ]
     },
     "metadata": {},
     "output_type": "display_data"
    }
   ],
   "source": [
    "\n",
    "prior=c(3,10)  # proportion has a beta(3, 10) prior\n",
    "data=c(10,6)   # observe 10 successes and 6 failures\n",
    "triplot(prior,data)"
   ]
  },
  {
   "cell_type": "markdown",
   "id": "be265605",
   "metadata": {},
   "source": [
    "<hr/>"
   ]
  },
  {
   "cell_type": "markdown",
   "id": "d818eb93",
   "metadata": {},
   "source": [
    "## Question 2 – Dice Game"
   ]
  },
  {
   "cell_type": "code",
   "execution_count": 4,
   "id": "00f3fa92",
   "metadata": {},
   "outputs": [
    {
     "data": {
      "text/html": [
       "<ol class=list-inline>\n",
       "\t<li>1</li>\n",
       "\t<li>1</li>\n",
       "\t<li>1</li>\n",
       "\t<li>1</li>\n",
       "\t<li>1</li>\n",
       "\t<li>0</li>\n",
       "\t<li>0</li>\n",
       "\t<li>0</li>\n",
       "\t<li>1</li>\n",
       "\t<li>1</li>\n",
       "</ol>\n"
      ],
      "text/latex": [
       "\\begin{enumerate*}\n",
       "\\item 1\n",
       "\\item 1\n",
       "\\item 1\n",
       "\\item 1\n",
       "\\item 1\n",
       "\\item 0\n",
       "\\item 0\n",
       "\\item 0\n",
       "\\item 1\n",
       "\\item 1\n",
       "\\end{enumerate*}\n"
      ],
      "text/markdown": [
       "1. 1\n",
       "2. 1\n",
       "3. 1\n",
       "4. 1\n",
       "5. 1\n",
       "6. 0\n",
       "7. 0\n",
       "8. 0\n",
       "9. 1\n",
       "10. 1\n",
       "\n",
       "\n"
      ],
      "text/plain": [
       " [1] 1 1 1 1 1 0 0 0 1 1"
      ]
     },
     "metadata": {},
     "output_type": "display_data"
    }
   ],
   "source": [
    "choices = c(sample(0 : 1, size = 10, replace = T))\n",
    "# choices = c(0)\n",
    "choices"
   ]
  },
  {
   "cell_type": "code",
   "execution_count": 5,
   "id": "8ab101dc",
   "metadata": {},
   "outputs": [
    {
     "data": {
      "text/html": [
       "<ol class=list-inline>\n",
       "\t<li>0</li>\n",
       "\t<li>0</li>\n",
       "\t<li>0</li>\n",
       "\t<li>0</li>\n",
       "\t<li>0</li>\n",
       "\t<li>1</li>\n",
       "\t<li>0</li>\n",
       "\t<li>0</li>\n",
       "\t<li>1</li>\n",
       "\t<li>0</li>\n",
       "</ol>\n"
      ],
      "text/latex": [
       "\\begin{enumerate*}\n",
       "\\item 0\n",
       "\\item 0\n",
       "\\item 0\n",
       "\\item 0\n",
       "\\item 0\n",
       "\\item 1\n",
       "\\item 0\n",
       "\\item 0\n",
       "\\item 1\n",
       "\\item 0\n",
       "\\end{enumerate*}\n"
      ],
      "text/markdown": [
       "1. 0\n",
       "2. 0\n",
       "3. 0\n",
       "4. 0\n",
       "5. 0\n",
       "6. 1\n",
       "7. 0\n",
       "8. 0\n",
       "9. 1\n",
       "10. 0\n",
       "\n",
       "\n"
      ],
      "text/plain": [
       " [1] 0 0 0 0 0 1 0 0 1 0"
      ]
     },
     "metadata": {},
     "output_type": "display_data"
    }
   ],
   "source": [
    "outcomes = c(sample(0 : 1, size = 10, replace = T))\n",
    "# outcomes = c(0)\n",
    "outcomes"
   ]
  },
  {
   "cell_type": "code",
   "execution_count": 6,
   "id": "2e2c385c",
   "metadata": {},
   "outputs": [],
   "source": [
    "P_H1 = 0.5\n",
    "P_H2 = 0.5"
   ]
  },
  {
   "cell_type": "code",
   "execution_count": 7,
   "id": "4c7948c0",
   "metadata": {},
   "outputs": [],
   "source": [
    "P_T_H1 = 0.75\n",
    "P_T_H2 = 0.5\n",
    "P_F_H1 = 1 - P_T_H1\n",
    "P_F_H2 = 1 - P_T_H2"
   ]
  },
  {
   "cell_type": "code",
   "execution_count": 8,
   "id": "04013083",
   "metadata": {
    "scrolled": false
   },
   "outputs": [
    {
     "name": "stdout",
     "output_type": "stream",
     "text": [
      "   Hand Prob\n",
      "1 Right  0.6\n",
      "2  Left  0.4\n",
      "[1] \"===========================================================\"\n",
      "   Hand      Prob\n",
      "1 Right 0.6923077\n",
      "2  Left 0.3076923\n"
     ]
    },
    {
     "data": {
      "image/png": "[encoded data removed]",
      "text/plain": [
       "plot without title"
      ]
     },
     "metadata": {},
     "output_type": "display_data"
    },
    {
     "name": "stdout",
     "output_type": "stream",
     "text": [
      "[1] \"===========================================================\"\n",
      "   Hand      Prob\n",
      "1 Right 0.7714286\n",
      "2  Left 0.2285714\n"
     ]
    },
    {
     "data": {
      "image/png": "[encoded data removed]",
      "text/plain": [
       "plot without title"
      ]
     },
     "metadata": {},
     "output_type": "display_data"
    },
    {
     "name": "stdout",
     "output_type": "stream",
     "text": [
      "[1] \"===========================================================\"\n",
      "   Hand      Prob\n",
      "1 Right 0.8350515\n",
      "2  Left 0.1649485\n"
     ]
    },
    {
     "data": {
      "image/png": "[encoded data removed]",
      "text/plain": [
       "plot without title"
      ]
     },
     "metadata": {},
     "output_type": "display_data"
    },
    {
     "name": "stdout",
     "output_type": "stream",
     "text": [
      "[1] \"===========================================================\"\n",
      "   Hand      Prob\n",
      "1 Right 0.8836364\n",
      "2  Left 0.1163636\n"
     ]
    },
    {
     "data": {
      "image/png": "[encoded data removed]",
      "text/plain": [
       "plot without title"
      ]
     },
     "metadata": {},
     "output_type": "display_data"
    },
    {
     "name": "stdout",
     "output_type": "stream",
     "text": [
      "[1] \"===========================================================\"\n",
      "   Hand      Prob\n",
      "1 Right 0.7915309\n",
      "2  Left 0.2084691\n"
     ]
    },
    {
     "data": {
      "image/png": "[encoded data removed]",
      "text/plain": [
       "plot without title"
      ]
     },
     "metadata": {},
     "output_type": "display_data"
    },
    {
     "name": "stdout",
     "output_type": "stream",
     "text": [
      "[1] \"===========================================================\"\n",
      "   Hand      Prob\n",
      "1 Right 0.8506418\n",
      "2  Left 0.1493582\n"
     ]
    },
    {
     "data": {
      "image/png": "[encoded data removed]",
      "text/plain": [
       "plot without title"
      ]
     },
     "metadata": {},
     "output_type": "display_data"
    },
    {
     "name": "stdout",
     "output_type": "stream",
     "text": [
      "[1] \"===========================================================\"\n",
      "   Hand      Prob\n",
      "1 Right 0.8952108\n",
      "2  Left 0.1047892\n"
     ]
    },
    {
     "data": {
      "image/png": "[encoded data removed]",
      "text/plain": [
       "plot without title"
      ]
     },
     "metadata": {},
     "output_type": "display_data"
    },
    {
     "name": "stdout",
     "output_type": "stream",
     "text": [
      "[1] \"===========================================================\"\n",
      "   Hand      Prob\n",
      "1 Right 0.8103001\n",
      "2  Left 0.1896999\n"
     ]
    },
    {
     "data": {
      "image/png": "[encoded data removed]",
      "text/plain": [
       "plot without title"
      ]
     },
     "metadata": {},
     "output_type": "display_data"
    },
    {
     "name": "stdout",
     "output_type": "stream",
     "text": [
      "[1] \"===========================================================\"\n",
      "   Hand      Prob\n",
      "1 Right 0.8649967\n",
      "2  Left 0.1350033\n"
     ]
    },
    {
     "data": {
      "image/png": "[encoded data removed]",
      "text/plain": [
       "plot without title"
      ]
     },
     "metadata": {},
     "output_type": "display_data"
    },
    {
     "name": "stdout",
     "output_type": "stream",
     "text": [
      "[1] \"===========================================================\"\n"
     ]
    },
    {
     "data": {
      "image/png": "[encoded data removed]",
      "text/plain": [
       "plot without title"
      ]
     },
     "metadata": {},
     "output_type": "display_data"
    }
   ],
   "source": [
    "for (i in 1:length(choices)) {\n",
    "  if (choices[i] == 0){\n",
    "      if (outcomes[i] == 0) {\n",
    "          P_H1 = (P_H1 * P_T_H1) / (P_H1 * P_T_H1 + P_H2 * P_T_H2)\n",
    "          P_H2 = 1 - P_H1\n",
    "      }\n",
    "      else if (outcomes[i] == 1) {\n",
    "          P_H1 = (P_H1 * P_F_H1) / (P_H1 * P_F_H1 + P_H2 * P_F_H2)\n",
    "          P_H2 = 1 - P_H1\n",
    "      }\n",
    "  }\n",
    "  else if (choices[i] == 1){\n",
    "      if (outcomes[i] == 0) {\n",
    "          P_H2 = (P_H2 * P_T_H2) / (P_H1 * P_T_H1 + P_H2 * P_T_H2)\n",
    "          P_H1 = 1 - P_H2\n",
    "      }\n",
    "      else if (outcomes[i] == 1) {\n",
    "          P_H2 = (P_H2 * P_F_H2) / (P_H1 * P_F_H1 + P_H2 * P_F_H2)\n",
    "          P_H1 = 1 - P_H2\n",
    "      }\n",
    "  }\n",
    "  df <- data.frame(Hand=c(\"Right\", \"Left\"), Prob=c(P_H1, P_H2))\n",
    "  print(df)\n",
    "  print(ggplot(data=df, aes(x=Hand, y=Prob)) + geom_bar(stat=\"identity\"))\n",
    "  print('===========================================================')\n",
    "    \n",
    "}"
   ]
  },
  {
   "cell_type": "markdown",
   "id": "d388ad06",
   "metadata": {},
   "source": [
    "<hr/>"
   ]
  },
  {
   "cell_type": "markdown",
   "id": "df5fb2a6",
   "metadata": {},
   "source": [
    "## Question 5 – Metropolis Hastings Algorithm"
   ]
  },
  {
   "cell_type": "markdown",
   "id": "9e84ae88",
   "metadata": {
    "direction": "rtl"
   },
   "source": [
    "<font size=3>\n",
    "\n",
    "به عنوان اولین گام، داده‌های آزمایشی را ایجاد می‌کنیم که متناسب با مدل ما استفاده می‌شوند. یک رابطه خطی بین پیش بینی کننده و متغیر پاسخ فرض می‌کنیم، بنابراین یک مدل خطی به دست می‌آوریم و مقداری نویز به آن اضافه می کنیم.\n",
    "    \n",
    "  </font>  "
   ]
  },
  {
   "cell_type": "markdown",
   "id": "7ff2426e",
   "metadata": {},
   "source": [
    "    \n"
   ]
  },
  {
   "cell_type": "code",
   "execution_count": 9,
   "id": "1cf1a113",
   "metadata": {},
   "outputs": [
    {
     "data": {
      "image/png": "[encoded data removed]",
      "text/plain": [
       "Plot with title \"Test Data\""
      ]
     },
     "metadata": {},
     "output_type": "display_data"
    }
   ],
   "source": [
    "trueA = 5\n",
    "trueB = 0\n",
    "trueSd = 10\n",
    "sampleSize = 31\n",
    " \n",
    "# create independent x-values\n",
    "x =(-(sampleSize-1)/2):((sampleSize-1)/2)\n",
    "# create dependent values according to ax + b + N(0,sd)\n",
    "y = trueA * x + trueB + rnorm(n=sampleSize,mean=0,sd=trueSd)\n",
    " \n",
    "plot(x,y, main=\"Test Data\")"
   ]
  },
  {
   "cell_type": "markdown",
   "id": "dd6462f5",
   "metadata": {
    "direction": "rtl"
   },
   "source": [
    "<font size=3>\n",
    "مرحله بعدی مشخص کردن مدل آماری است. ما از قبل می دانیم که داده ها با یک رابطه خطی y = a*x + b بین x و y و یک مدل خطای نرمال N(0, sd) با انحراف استاندارد sd ایجاد شده اند بنابراین از همان مدل برای برازش استفاده کنیم و میخواهیم ببینیم که آیا میتوانیم مقادیر پارامتر اصلی خود را بازیابی کنیم.\n",
    "  </font> "
   ]
  },
  {
   "cell_type": "markdown",
   "id": "e3fe87c9",
   "metadata": {
    "direction": "rtl"
   },
   "source": [
    "<font size=3>\n",
    "برای تخمین پارامترها در تحلیل بیزی، باید تابع احتمال را برای مدلی که می‌خواهیم برازش کنیم استخراج کنیم. این تابع، احتمال (چگالی) است که با آن انتظار داریم داده های مشاهده شده مشروط به پارامترهای مدلی که به آن نگاه می کنیم رخ دهد. بنابراین، الگوریتم با توجه به اینکه مدل خطی ما y = b + a*x + N(0, sd) پارامترهای (a, b, sd) را به عنوان ورودی می گیرد.\n",
    "  </font>"
   ]
  },
  {
   "cell_type": "code",
   "execution_count": 10,
   "id": "81de2fdb",
   "metadata": {},
   "outputs": [
    {
     "data": {
      "image/png": "[encoded data removed]",
      "text/plain": [
       "plot without title"
      ]
     },
     "metadata": {},
     "output_type": "display_data"
    }
   ],
   "source": [
    "likelihood = function(param){\n",
    "    a = param[1]\n",
    "    b = param[2]\n",
    "    sd = param[3]\n",
    " \n",
    "    pred = a*x + b\n",
    "    singlelikelihoods = dnorm(y, mean = pred, sd = sd, log = T)\n",
    "    sumll = sum(singlelikelihoods)\n",
    "    return(sumll)\n",
    "}\n",
    " \n",
    "# Example: plot the likelihood profile of the slope a\n",
    "slopevalues = function(x){return(likelihood(c(x, trueB, trueSd)))}\n",
    "slopelikelihoods = lapply(seq(3, 7, by=.05), slopevalues )\n",
    "plot (seq(3, 7, by=.05), slopelikelihoods , type=\"l\", xlab = \"values of slope parameter a\", ylab = \"Log likelihood\")"
   ]
  },
  {
   "cell_type": "markdown",
   "id": "5eb5abf7",
   "metadata": {
    "direction": "rtl"
   },
   "source": [
    "<font size=3>\n",
    "به عنوان گام دوم، مانند همیشه در آمار بیزی، باید برای هر پارامتر توزیع پیشین را مشخص کنیم. برای سهولت، از توزیع یکنواخت و توزیع نرمال برای هر سه پارامتر استفاده میکنیم\n",
    "  </font>"
   ]
  },
  {
   "cell_type": "code",
   "execution_count": 11,
   "id": "46eef55b",
   "metadata": {},
   "outputs": [],
   "source": [
    "# Prior distribution\n",
    "prior = function(param){\n",
    "    a = param[1]\n",
    "    b = param[2]\n",
    "    sd = param[3]\n",
    "    aprior = dunif(a, min=0, max=10, log = T)\n",
    "    bprior = dnorm(b, sd = 5, log = T)\n",
    "    sdprior = dunif(sd, min=0, max=30, log = T)\n",
    "    return(aprior+bprior+sdprior)\n",
    "}"
   ]
  },
  {
   "cell_type": "markdown",
   "id": "322800f7",
   "metadata": {
    "direction": "rtl"
   },
   "source": [
    "<font size=3>\n",
    "حاصل ضرب احتمال پیشین و احتمال likelihood، کمیت واقعی است که MCMC روی آن کار خواهد کرد. این تابع، posterior نامیده می شود (یا به طور دقیق، پس از نرمال شدن، پسین نامیده می شود، که MCMC برای ما انجام می دهد). باز هم در اینجا ما با مجموع کار می کنیم زیرا با لگاریتم کار می کنیم.\n",
    "  </font>"
   ]
  },
  {
   "cell_type": "code",
   "execution_count": 12,
   "id": "68dac31d",
   "metadata": {},
   "outputs": [],
   "source": [
    "posterior = function(param){\n",
    "   return (likelihood(param) + prior(param))\n",
    "}"
   ]
  },
  {
   "cell_type": "markdown",
   "id": "89a3f1fd",
   "metadata": {
    "direction": "rtl"
   },
   "source": [
    "<font size=3>\n",
    "\n",
    "اکنون، الگوریتم متروپلیس-هیستینگ را تعریف میکنیم. یکی از رایج ترین کاربردهای این الگوریتم (مانند این مثال) نمونه برداری از چگالی پسین در آمار بیزی است. با این حال، در اصل، این الگوریتم ممکن است برای نمونه برداری از هر تابع قابل ادغام استفاده شود. بنابراین، هدف این الگوریتم پرش به اطراف در فضای پارامتر است، اما به گونه ای که احتمال قرار گرفتن در یک نقطه با تابعی که از آن نمونه برداری می کنیم، متناسب باشد (این تابع معمولاً تابع هدف نامیده می شود). در مورد ما این قسمت تابع پسین است که در بالا تعریف شده است.\n",
    "\n",
    "مراحل الگوریتم:\n",
    "\n",
    "- شروع از یک مقدار پارامتر تصادفی\n",
    "- انتخاب یک مقدار پارامتر جدید نزدیک به مقدار قدیمی بر اساس مقداری چگالی احتمال که تابع پیشنهاد نامیده می شود.\n",
    "- پرش به این نقطه جدید با احتمال p(new)/p(old)، که در آن p تابع هدف است، و p>1 نیز به معنای پریدن است.\n",
    "    \n",
    "</font>"
   ]
  },
  {
   "cell_type": "code",
   "execution_count": 13,
   "id": "1daec464",
   "metadata": {},
   "outputs": [],
   "source": [
    "######## Metropolis algorithm ################\n",
    " \n",
    "proposalfunction = function(param){\n",
    "    return(rnorm(3,mean = param, sd= c(0.1,0.5,0.3)))\n",
    "}\n",
    " \n",
    "run_metropolis_MCMC = function(startvalue, iterations){\n",
    "    chain = array(dim = c(iterations+1,3))\n",
    "    chain[1,] = startvalue\n",
    "    for (i in 1:iterations){\n",
    "        proposal = proposalfunction(chain[i,])\n",
    " \n",
    "        probab = exp(posterior(proposal) - posterior(chain[i,]))\n",
    "        if (runif(1) < probab){\n",
    "            chain[i+1,] = proposal\n",
    "        }else{\n",
    "            chain[i+1,] = chain[i,]\n",
    "        }\n",
    "    }\n",
    "    return(chain)\n",
    "}\n",
    " \n",
    "startvalue = c(4,0,10)\n",
    "chain = run_metropolis_MCMC(startvalue, 10000)\n",
    " \n",
    "burnIn = 5000\n",
    "acceptance = 1-mean(duplicated(chain[-(1:burnIn),]))"
   ]
  },
  {
   "cell_type": "code",
   "execution_count": 14,
   "id": "74d64123",
   "metadata": {},
   "outputs": [
    {
     "data": {
      "text/plain": [
       "\n",
       "Call:\n",
       "lm(formula = y ~ x)\n",
       "\n",
       "Residuals:\n",
       "     Min       1Q   Median       3Q      Max \n",
       "-19.2775  -6.1468   0.8334   4.6198  25.0767 \n",
       "\n",
       "Coefficients:\n",
       "            Estimate Std. Error t value Pr(>|t|)    \n",
       "(Intercept)   1.0434     1.9653   0.531      0.6    \n",
       "x             5.0576     0.2197  23.018   <2e-16 ***\n",
       "---\n",
       "Signif. codes:  0 '***' 0.001 '**' 0.01 '*' 0.05 '.' 0.1 ' ' 1\n",
       "\n",
       "Residual standard error: 10.94 on 29 degrees of freedom\n",
       "Multiple R-squared:  0.9481,\tAdjusted R-squared:  0.9463 \n",
       "F-statistic: 529.8 on 1 and 29 DF,  p-value: < 2.2e-16\n"
      ]
     },
     "metadata": {},
     "output_type": "display_data"
    },
    {
     "data": {
      "image/png": "[encoded data removed]",
      "text/plain": [
       "Plot with title \"Chain values of sd\""
      ]
     },
     "metadata": {},
     "output_type": "display_data"
    }
   ],
   "source": [
    "### Summary: #######################\n",
    " \n",
    "par(mfrow = c(2,3))\n",
    "hist(chain[-(1:burnIn),1],nclass=30, , main=\"Posterior of a\", xlab=\"True value = red line\" )\n",
    "abline(v = mean(chain[-(1:burnIn),1]))\n",
    "abline(v = trueA, col=\"red\" )\n",
    "hist(chain[-(1:burnIn),2],nclass=30, main=\"Posterior of b\", xlab=\"True value = red line\")\n",
    "abline(v = mean(chain[-(1:burnIn),2]))\n",
    "abline(v = trueB, col=\"red\" )\n",
    "hist(chain[-(1:burnIn),3],nclass=30, main=\"Posterior of sd\", xlab=\"True value = red line\")\n",
    "abline(v = mean(chain[-(1:burnIn),3]) )\n",
    "abline(v = trueSd, col=\"red\" )\n",
    "plot(chain[-(1:burnIn),1], type = \"l\", xlab=\"True value = red line\" , main = \"Chain values of a\", )\n",
    "abline(h = trueA, col=\"red\" )\n",
    "plot(chain[-(1:burnIn),2], type = \"l\", xlab=\"True value = red line\" , main = \"Chain values of b\", )\n",
    "abline(h = trueB, col=\"red\" )\n",
    "plot(chain[-(1:burnIn),3], type = \"l\", xlab=\"True value = red line\" , main = \"Chain values of sd\", )\n",
    "abline(h = trueSd, col=\"red\" )\n",
    " \n",
    "# for comparison:\n",
    "summary(lm(y~x))"
   ]
  },
  {
   "cell_type": "markdown",
   "id": "1a46dfc0",
   "metadata": {
    "direction": "rtl"
   },
   "source": [
    "<font size=3>\n",
    "\n",
    "اولین مراحل الگوریتم ممکن است با مقدار اولیه بایاس شوند بنابراین معمولاً برای تجزیه و تحلیل بیشتر کنار گذاشته می شوند. یک خروجی که باید آنرا بررسی کنیم نرخ پذیرش است: چند بار یک پیشنهاد توسط معیار پذیرش رد شده است؟ نرخ پذیرش را می توان تحت تأثیر تابع پروپوزال قرار داد: به طور کلی، هرچه پیشنهادها نزدیکتر باشند، نرخ پذیرش بزرگتر است. با این حال، نرخ های پذیرش بسیار بالا معمولاً سودمند نیستند: این بدان معنی است که الگوریتم ها در همان نقطه \"ماندگار\" هستند، که منجر به بررسی غیربهینه فضای پارامتر می شود.\n",
    "    </font>"
   ]
  },
  {
   "cell_type": "markdown",
   "id": "0d197639",
   "metadata": {
    "direction": "rtl"
   },
   "source": [
    "<font size=3>\n",
    "\n",
    "نمودار های حاصل باید چیزی شبیه بالا باشد. می بینیم که کم و بیش پارامترهای اصلی را که برای ایجاد داده هایمان استفاده شده بودند، بازیابی می شوند و همچنین قابل مشاهده است که یک ناحیه مشخص در اطراف بالاترین مقادیر پسینی به دست می آوریم که از طرف داده ها نیز پشتیبانی می شود، که معادل بازه اطمینان در نظر گرفته میشوند.\n",
    "        </font>"
   ]
  },
  {
   "cell_type": "code",
   "execution_count": null,
   "id": "3b95102f",
   "metadata": {},
   "outputs": [],
   "source": []
  }
 ],
 "metadata": {
  "kernelspec": {
   "display_name": "R",
   "language": "R",
   "name": "ir"
  },
  "language_info": {
   "codemirror_mode": "r",
   "file_extension": ".r",
   "mimetype": "text/x-r-source",
   "name": "R",
   "pygments_lexer": "r",
   "version": "3.6.1"
  },
  "latex_envs": {
   "LaTeX_envs_menu_present": true,
   "autoclose": false,
   "autocomplete": true,
   "bibliofile": "biblio.bib",
   "cite_by": "apalike",
   "current_citInitial": 1,
   "eqLabelWithNumbers": true,
   "eqNumInitial": 1,
   "hotkeys": {
    "equation": "Ctrl-E",
    "itemize": "Ctrl-I"
   },
   "labels_anchors": false,
   "latex_user_defs": false,
   "report_style_numbering": false,
   "user_envs_cfg": false
  }
 },
 "nbformat": 4,
 "nbformat_minor": 5
}
