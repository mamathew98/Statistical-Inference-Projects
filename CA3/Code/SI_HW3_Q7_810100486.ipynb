{
 "cells": [
  {
   "cell_type": "markdown",
   "id": "6205318d",
   "metadata": {},
   "source": [
    "**The Wilcoxon rank-sum test** is a nonparametric alternative to the twosample t-test which is based solely on the order in which the observations from the two samples fall."
   ]
  },
  {
   "cell_type": "markdown",
   "id": "34943b95",
   "metadata": {},
   "source": [
    "## a)"
   ]
  },
  {
   "cell_type": "markdown",
   "id": "2098ab92",
   "metadata": {},
   "source": [
    "\n",
    "$ H_0: M_1 = M_2 $\n",
    "\n",
    "$ H_a: M_1 \\neq M_2 $\n",
    "\n",
    "'M' shows median of data\n"
   ]
  },
  {
   "cell_type": "code",
   "execution_count": 9,
   "id": "f3cc852d",
   "metadata": {},
   "outputs": [
    {
     "data": {
      "text/html": [
       "<table>\n",
       "<tbody>\n",
       "\t<tr><th scope=row>Group1</th><td>19.0</td><td>14.4</td><td>18.2</td><td>15.6</td><td>14.5</td><td>11.2</td><td>13.9</td><td>11.6</td></tr>\n",
       "\t<tr><th scope=row>Group2</th><td>12.1</td><td>19.1</td><td>11.6</td><td>21.0</td><td>16.7</td><td>10.1</td><td>18.3</td><td>20.5</td></tr>\n",
       "</tbody>\n",
       "</table>\n"
      ],
      "text/latex": [
       "\\begin{tabular}{r|llllllll}\n",
       "\tGroup1 & 19.0 & 14.4 & 18.2 & 15.6 & 14.5 & 11.2 & 13.9 & 11.6\\\\\n",
       "\tGroup2 & 12.1 & 19.1 & 11.6 & 21.0 & 16.7 & 10.1 & 18.3 & 20.5\\\\\n",
       "\\end{tabular}\n"
      ],
      "text/markdown": [
       "\n",
       "| Group1 | 19.0 | 14.4 | 18.2 | 15.6 | 14.5 | 11.2 | 13.9 | 11.6 |\n",
       "| Group2 | 12.1 | 19.1 | 11.6 | 21.0 | 16.7 | 10.1 | 18.3 | 20.5 |\n",
       "\n"
      ],
      "text/plain": [
       "       [,1] [,2] [,3] [,4] [,5] [,6] [,7] [,8]\n",
       "Group1 19.0 14.4 18.2 15.6 14.5 11.2 13.9 11.6\n",
       "Group2 12.1 19.1 11.6 21.0 16.7 10.1 18.3 20.5"
      ]
     },
     "metadata": {},
     "output_type": "display_data"
    }
   ],
   "source": [
    "tab <- matrix(nrow=2, ncol=8, byrow=TRUE)\n",
    "rownames(tab) <- c( 'Group1', 'Group2')\n",
    "tab[1,] = c(19.0, 14.4, 18.2, 15.6, 14.5, 11.2, 13.9, 11.6)\n",
    "tab[2,] = c(12.1, 19.1, 11.6, 21.0, 16.7, 10.1, 18.3, 20.5)\n",
    "tab"
   ]
  },
  {
   "cell_type": "code",
   "execution_count": 10,
   "id": "3ca73cfb",
   "metadata": {},
   "outputs": [
    {
     "data": {
      "text/html": [
       "<ol class=list-inline>\n",
       "\t<li>19</li>\n",
       "\t<li>14.4</li>\n",
       "\t<li>18.2</li>\n",
       "\t<li>15.6</li>\n",
       "\t<li>14.5</li>\n",
       "\t<li>11.2</li>\n",
       "\t<li>13.9</li>\n",
       "\t<li>11.6</li>\n",
       "\t<li>12.1</li>\n",
       "\t<li>19.1</li>\n",
       "\t<li>11.6</li>\n",
       "\t<li>21</li>\n",
       "\t<li>16.7</li>\n",
       "\t<li>10.1</li>\n",
       "\t<li>18.3</li>\n",
       "\t<li>20.5</li>\n",
       "</ol>\n"
      ],
      "text/latex": [
       "\\begin{enumerate*}\n",
       "\\item 19\n",
       "\\item 14.4\n",
       "\\item 18.2\n",
       "\\item 15.6\n",
       "\\item 14.5\n",
       "\\item 11.2\n",
       "\\item 13.9\n",
       "\\item 11.6\n",
       "\\item 12.1\n",
       "\\item 19.1\n",
       "\\item 11.6\n",
       "\\item 21\n",
       "\\item 16.7\n",
       "\\item 10.1\n",
       "\\item 18.3\n",
       "\\item 20.5\n",
       "\\end{enumerate*}\n"
      ],
      "text/markdown": [
       "1. 19\n",
       "2. 14.4\n",
       "3. 18.2\n",
       "4. 15.6\n",
       "5. 14.5\n",
       "6. 11.2\n",
       "7. 13.9\n",
       "8. 11.6\n",
       "9. 12.1\n",
       "10. 19.1\n",
       "11. 11.6\n",
       "12. 21\n",
       "13. 16.7\n",
       "14. 10.1\n",
       "15. 18.3\n",
       "16. 20.5\n",
       "\n",
       "\n"
      ],
      "text/plain": [
       " [1] 19.0 14.4 18.2 15.6 14.5 11.2 13.9 11.6 12.1 19.1 11.6 21.0 16.7 10.1 18.3\n",
       "[16] 20.5"
      ]
     },
     "metadata": {},
     "output_type": "display_data"
    }
   ],
   "source": [
    "total = c(tab[1,], tab[2,])\n",
    "total"
   ]
  },
  {
   "cell_type": "code",
   "execution_count": 11,
   "id": "fa7e7d3d",
   "metadata": {},
   "outputs": [
    {
     "data": {
      "text/html": [
       "<ol class=list-inline>\n",
       "\t<li>10.1</li>\n",
       "\t<li>11.2</li>\n",
       "\t<li>11.6</li>\n",
       "\t<li>11.6</li>\n",
       "\t<li>12.1</li>\n",
       "\t<li>13.9</li>\n",
       "\t<li>14.4</li>\n",
       "\t<li>14.5</li>\n",
       "\t<li>15.6</li>\n",
       "\t<li>16.7</li>\n",
       "\t<li>18.2</li>\n",
       "\t<li>18.3</li>\n",
       "\t<li>19</li>\n",
       "\t<li>19.1</li>\n",
       "\t<li>20.5</li>\n",
       "\t<li>21</li>\n",
       "</ol>\n"
      ],
      "text/latex": [
       "\\begin{enumerate*}\n",
       "\\item 10.1\n",
       "\\item 11.2\n",
       "\\item 11.6\n",
       "\\item 11.6\n",
       "\\item 12.1\n",
       "\\item 13.9\n",
       "\\item 14.4\n",
       "\\item 14.5\n",
       "\\item 15.6\n",
       "\\item 16.7\n",
       "\\item 18.2\n",
       "\\item 18.3\n",
       "\\item 19\n",
       "\\item 19.1\n",
       "\\item 20.5\n",
       "\\item 21\n",
       "\\end{enumerate*}\n"
      ],
      "text/markdown": [
       "1. 10.1\n",
       "2. 11.2\n",
       "3. 11.6\n",
       "4. 11.6\n",
       "5. 12.1\n",
       "6. 13.9\n",
       "7. 14.4\n",
       "8. 14.5\n",
       "9. 15.6\n",
       "10. 16.7\n",
       "11. 18.2\n",
       "12. 18.3\n",
       "13. 19\n",
       "14. 19.1\n",
       "15. 20.5\n",
       "16. 21\n",
       "\n",
       "\n"
      ],
      "text/plain": [
       " [1] 10.1 11.2 11.6 11.6 12.1 13.9 14.4 14.5 15.6 16.7 18.2 18.3 19.0 19.1 20.5\n",
       "[16] 21.0"
      ]
     },
     "metadata": {},
     "output_type": "display_data"
    }
   ],
   "source": [
    "total_sorted = sort(total, decreasing = FALSE)\n",
    "total_sorted"
   ]
  },
  {
   "cell_type": "code",
   "execution_count": 12,
   "id": "a6e1a61f",
   "metadata": {},
   "outputs": [
    {
     "name": "stdout",
     "output_type": "stream",
     "text": [
      "\n",
      " 1 10.1\n",
      " 2 11.2\n",
      " 3 11.6\n",
      " 4 11.6\n",
      " 5 12.1\n",
      " 6 13.9\n",
      " 7 14.4\n",
      " 8 14.5\n",
      " 9 15.6\n",
      " 10 16.7\n",
      " 11 18.2\n",
      " 12 18.3\n",
      " 13 19\n",
      " 14 19.1\n",
      " 15 20.5\n",
      " 16 21"
     ]
    }
   ],
   "source": [
    "for (i in 1:length(total_sorted)) {\n",
    "    cat(\"\\n\",i, total_sorted[i])\n",
    "}"
   ]
  },
  {
   "cell_type": "code",
   "execution_count": 16,
   "id": "47771062",
   "metadata": {},
   "outputs": [
    {
     "data": {
      "text/html": [
       "<table>\n",
       "<thead><tr><th></th><th scope=col>NA</th><th scope=col>NA</th><th scope=col>NA</th><th scope=col>NA</th><th scope=col>NA</th><th scope=col>NA</th><th scope=col>NA</th><th scope=col>NA</th><th scope=col>TOTAL</th></tr></thead>\n",
       "<tbody>\n",
       "\t<tr><th scope=row>Group1</th><td>19.0</td><td>14.4</td><td>18.2</td><td>15.6</td><td>14.5</td><td>11.2</td><td>13.9</td><td>11.6</td><td>  NA</td></tr>\n",
       "\t<tr><th scope=row>G1-Rank</th><td>13.0</td><td> 7.0</td><td>11.0</td><td> 9.0</td><td> 8.0</td><td> 2.0</td><td> 6.0</td><td> 3.5</td><td>59.5</td></tr>\n",
       "\t<tr><th scope=row>Group2</th><td>12.1</td><td>19.1</td><td>11.6</td><td>21.0</td><td>16.7</td><td>10.1</td><td>18.3</td><td>20.5</td><td>  NA</td></tr>\n",
       "\t<tr><th scope=row>G2-Rank</th><td> 5.0</td><td>14.0</td><td> 3.5</td><td>16.0</td><td>10.0</td><td> 1.0</td><td>12.0</td><td>15.0</td><td>76.5</td></tr>\n",
       "</tbody>\n",
       "</table>\n"
      ],
      "text/latex": [
       "\\begin{tabular}{r|lllllllll}\n",
       "  & NA & NA & NA & NA & NA & NA & NA & NA & TOTAL\\\\\n",
       "\\hline\n",
       "\tGroup1 & 19.0 & 14.4 & 18.2 & 15.6 & 14.5 & 11.2 & 13.9 & 11.6 &   NA\\\\\n",
       "\tG1-Rank & 13.0 &  7.0 & 11.0 &  9.0 &  8.0 &  2.0 &  6.0 &  3.5 & 59.5\\\\\n",
       "\tGroup2 & 12.1 & 19.1 & 11.6 & 21.0 & 16.7 & 10.1 & 18.3 & 20.5 &   NA\\\\\n",
       "\tG2-Rank &  5.0 & 14.0 &  3.5 & 16.0 & 10.0 &  1.0 & 12.0 & 15.0 & 76.5\\\\\n",
       "\\end{tabular}\n"
      ],
      "text/markdown": [
       "\n",
       "| <!--/--> | NA | NA | NA | NA | NA | NA | NA | NA | TOTAL |\n",
       "|---|---|---|---|---|---|---|---|---|---|\n",
       "| Group1 | 19.0 | 14.4 | 18.2 | 15.6 | 14.5 | 11.2 | 13.9 | 11.6 |   NA |\n",
       "| G1-Rank | 13.0 |  7.0 | 11.0 |  9.0 |  8.0 |  2.0 |  6.0 |  3.5 | 59.5 |\n",
       "| Group2 | 12.1 | 19.1 | 11.6 | 21.0 | 16.7 | 10.1 | 18.3 | 20.5 |   NA |\n",
       "| G2-Rank |  5.0 | 14.0 |  3.5 | 16.0 | 10.0 |  1.0 | 12.0 | 15.0 | 76.5 |\n",
       "\n"
      ],
      "text/plain": [
       "        <NA> <NA> <NA> <NA> <NA> <NA> <NA> <NA> TOTAL\n",
       "Group1  19.0 14.4 18.2 15.6 14.5 11.2 13.9 11.6   NA \n",
       "G1-Rank 13.0  7.0 11.0  9.0  8.0  2.0  6.0  3.5 59.5 \n",
       "Group2  12.1 19.1 11.6 21.0 16.7 10.1 18.3 20.5   NA \n",
       "G2-Rank  5.0 14.0  3.5 16.0 10.0  1.0 12.0 15.0 76.5 "
      ]
     },
     "metadata": {},
     "output_type": "display_data"
    }
   ],
   "source": [
    "tab2 <- matrix(nrow=4, ncol=9, byrow=TRUE)\n",
    "rownames(tab2) <- c('Group1', 'G1-Rank', 'Group2', 'G2-Rank')\n",
    "colnames(tab2)[9] <- 'TOTAL'\n",
    "tab2[1,] = c(tab[1,], NA)\n",
    "tab2[2,] = c(13, 7, 11, 9, 8, 2, 6, 3.5, 59.5)\n",
    "tab2[3,] = c(tab[2,], NA)\n",
    "tab2[4,] = c(5, 14, 3.5, 16, 10, 1, 12, 15, 76.5)\n",
    "tab2"
   ]
  },
  {
   "cell_type": "markdown",
   "id": "82adabd3",
   "metadata": {},
   "source": [
    "Rule is that the row with smaller sample size get to be our test stat but in this question both rows have equal sample sizes so we choose either one. for example we choose group1 (min value)."
   ]
  },
  {
   "cell_type": "markdown",
   "id": "63249807",
   "metadata": {},
   "source": [
    "![w2](img/w2.png)\n"
   ]
  },
  {
   "cell_type": "markdown",
   "id": "91d7a3bc",
   "metadata": {},
   "source": [
    "<hr/>\n",
    "\n",
    "as we can see in the figure below, we can't reject the null hypothesis in this test.\n",
    "\n",
    "![wilxcon2](img/wilxcon2.png)\n"
   ]
  },
  {
   "cell_type": "markdown",
   "id": "697584cf",
   "metadata": {},
   "source": [
    "**Notice:** Section below is just for checking the answer with R and is not included in the question"
   ]
  },
  {
   "cell_type": "code",
   "execution_count": 18,
   "id": "70e765c4",
   "metadata": {},
   "outputs": [
    {
     "data": {
      "text/plain": [
       "\n",
       "\tWilcoxon rank sum test with continuity correction\n",
       "\n",
       "data:  tab[1, ] and tab[2, ]\n",
       "W = 23.5, p-value = 0.4005\n",
       "alternative hypothesis: true location shift is not equal to 0\n"
      ]
     },
     "metadata": {},
     "output_type": "display_data"
    }
   ],
   "source": [
    "res <- wilcox.test(tab[1, ], tab[2, ],\n",
    "                   exact = FALSE)\n",
    "res"
   ]
  },
  {
   "cell_type": "code",
   "execution_count": 19,
   "id": "e388ac81",
   "metadata": {},
   "outputs": [
    {
     "data": {
      "text/html": [
       "0.400467549571982"
      ],
      "text/latex": [
       "0.400467549571982"
      ],
      "text/markdown": [
       "0.400467549571982"
      ],
      "text/plain": [
       "[1] 0.4004675"
      ]
     },
     "metadata": {},
     "output_type": "display_data"
    }
   ],
   "source": [
    "# Print the p-value only\n",
    "res$p.value"
   ]
  },
  {
   "cell_type": "markdown",
   "id": "aee262e7",
   "metadata": {},
   "source": [
    "we can conclude from the result above that we can't reject the null hypothesis because $p_{value} > \\alpha$"
   ]
  },
  {
   "cell_type": "markdown",
   "id": "4076f45b",
   "metadata": {},
   "source": [
    "## b)"
   ]
  },
  {
   "cell_type": "markdown",
   "id": "a8f8a707",
   "metadata": {},
   "source": [
    "In statistics, the **Siegel–Tukey test**, named after Sidney Siegel and John Tukey, is a non-parametric test which may be applied to data measured at least on an ordinal scale. It tests for differences in scale between two groups.\n",
    "\n",
    "The test is used to determine if one of two groups of data tends to have more widely dispersed values than the other. In other words, the test determines whether one of the two groups tends to move, sometimes to the right, sometimes to the left, but away from the center (of the ordinal scale).\n",
    "\n",
    "The principle is based on the following idea:\n",
    "\n",
    "Suppose there are two groups A and B with n observations for the first group and m observations for the second (so there are N = n + m total observations). If all N observations are arranged in ascending order, it can be expected that the values of the two groups will be mixed or sorted randomly, if there are no differences between the two groups (following the null hypothesis H0). This would mean that among the ranks of extreme (high and low) scores, there would be similar values from Group A and Group B.\n",
    "\n",
    "- Hypothesis $H0: σ_1^2 = σ_2^2 , Me_1 = Me_2$ (where $σ^2$ and Me are the variance and the median, respectively)\n",
    "- Hypothesis $H1: σ_1^2 > σ_2^2$\n"
   ]
  },
  {
   "cell_type": "code",
   "execution_count": 20,
   "id": "be21926d",
   "metadata": {},
   "outputs": [
    {
     "data": {
      "text/html": [
       "<ol class=list-inline>\n",
       "\t<li>10.1</li>\n",
       "\t<li>11.2</li>\n",
       "\t<li>11.6</li>\n",
       "\t<li>11.6</li>\n",
       "\t<li>12.1</li>\n",
       "\t<li>13.9</li>\n",
       "\t<li>14.4</li>\n",
       "\t<li>14.5</li>\n",
       "\t<li>15.6</li>\n",
       "\t<li>16.7</li>\n",
       "\t<li>18.2</li>\n",
       "\t<li>18.3</li>\n",
       "\t<li>19</li>\n",
       "\t<li>19.1</li>\n",
       "\t<li>20.5</li>\n",
       "\t<li>21</li>\n",
       "</ol>\n"
      ],
      "text/latex": [
       "\\begin{enumerate*}\n",
       "\\item 10.1\n",
       "\\item 11.2\n",
       "\\item 11.6\n",
       "\\item 11.6\n",
       "\\item 12.1\n",
       "\\item 13.9\n",
       "\\item 14.4\n",
       "\\item 14.5\n",
       "\\item 15.6\n",
       "\\item 16.7\n",
       "\\item 18.2\n",
       "\\item 18.3\n",
       "\\item 19\n",
       "\\item 19.1\n",
       "\\item 20.5\n",
       "\\item 21\n",
       "\\end{enumerate*}\n"
      ],
      "text/markdown": [
       "1. 10.1\n",
       "2. 11.2\n",
       "3. 11.6\n",
       "4. 11.6\n",
       "5. 12.1\n",
       "6. 13.9\n",
       "7. 14.4\n",
       "8. 14.5\n",
       "9. 15.6\n",
       "10. 16.7\n",
       "11. 18.2\n",
       "12. 18.3\n",
       "13. 19\n",
       "14. 19.1\n",
       "15. 20.5\n",
       "16. 21\n",
       "\n",
       "\n"
      ],
      "text/plain": [
       " [1] 10.1 11.2 11.6 11.6 12.1 13.9 14.4 14.5 15.6 16.7 18.2 18.3 19.0 19.1 20.5\n",
       "[16] 21.0"
      ]
     },
     "metadata": {},
     "output_type": "display_data"
    }
   ],
   "source": [
    "total_sorted"
   ]
  },
  {
   "cell_type": "markdown",
   "id": "0a20307e",
   "metadata": {},
   "source": [
    "|   |   |   |   |   |   |   |   |   |   |   |   |   |   |   |   |   |\n",
    "|---|---|---|---|---|---|---|---|---|---|---|---|---|---|---|---|---|\n",
    "| Group  | 2  | 1  | 1&2  | 1&2  | 2  | 1  |  1 | 1  |  1 | 2  | 1  | 2  |  1 | 2  | 2  |  2 |\n",
    "| Value | 10.1  | 11.2  |  11.6 | 11.6  |  12.1 |  13.9 | 14.4  |  14.5 | 15.6  | 16.7  | 18.2  | 18.3  | 19  | 19.1  |  20.5 | 21  |\n",
    "|  Alternative Rank |  1 |  4 | 5  | 8  | 9  | 12  |  13 | 16  | 15  | 14  | 11  | 10  |  7 |  6 | 3  |  2 |"
   ]
  },
  {
   "cell_type": "code",
   "execution_count": 21,
   "id": "40abf2a7",
   "metadata": {},
   "outputs": [
    {
     "data": {
      "text/html": [
       "84.5"
      ],
      "text/latex": [
       "84.5"
      ],
      "text/markdown": [
       "84.5"
      ],
      "text/plain": [
       "[1] 84.5"
      ]
     },
     "metadata": {},
     "output_type": "display_data"
    }
   ],
   "source": [
    "W_1 = 4 + (8+5)/2 + 12 + 13 + 16 + 15 + 11 + 7\n",
    "W_1"
   ]
  },
  {
   "cell_type": "code",
   "execution_count": 23,
   "id": "7709bab1",
   "metadata": {},
   "outputs": [
    {
     "data": {
      "text/html": [
       "51.5"
      ],
      "text/latex": [
       "51.5"
      ],
      "text/markdown": [
       "51.5"
      ],
      "text/plain": [
       "[1] 51.5"
      ]
     },
     "metadata": {},
     "output_type": "display_data"
    }
   ],
   "source": [
    "W_2 = 1 + (8+5)/2 + 9 + 14 + 10 + 6 + 3 + 2\n",
    "W_2"
   ]
  },
  {
   "cell_type": "code",
   "execution_count": 24,
   "id": "82b0fd63",
   "metadata": {},
   "outputs": [
    {
     "data": {
      "text/html": [
       "48.5"
      ],
      "text/latex": [
       "48.5"
      ],
      "text/markdown": [
       "48.5"
      ],
      "text/plain": [
       "[1] 48.5"
      ]
     },
     "metadata": {},
     "output_type": "display_data"
    }
   ],
   "source": [
    "U_1 = W_1 - 8*(8+1)/2\n",
    "U_1"
   ]
  },
  {
   "cell_type": "code",
   "execution_count": 25,
   "id": "339b6d95",
   "metadata": {},
   "outputs": [
    {
     "data": {
      "text/html": [
       "15.5"
      ],
      "text/latex": [
       "15.5"
      ],
      "text/markdown": [
       "15.5"
      ],
      "text/plain": [
       "[1] 15.5"
      ]
     },
     "metadata": {},
     "output_type": "display_data"
    }
   ],
   "source": [
    "U_2 = W_2 - 8*(8+1)/2\n",
    "U_2"
   ]
  },
  {
   "cell_type": "code",
   "execution_count": 26,
   "id": "488f1eb7",
   "metadata": {},
   "outputs": [
    {
     "data": {
      "text/html": [
       "15.5"
      ],
      "text/latex": [
       "15.5"
      ],
      "text/markdown": [
       "15.5"
      ],
      "text/plain": [
       "[1] 15.5"
      ]
     },
     "metadata": {},
     "output_type": "display_data"
    }
   ],
   "source": [
    "U_ = min(U_1, U_2)\n",
    "U_"
   ]
  },
  {
   "cell_type": "markdown",
   "id": "8e0eaf9d",
   "metadata": {},
   "source": [
    "According to $H_{0}$ the minimum of these two values is distributed according to a Wilcoxon rank-sum distribution with parameters given by the two group sizes:\n",
    "\n",
    "$$ mean(U_1, U_2) \\Rightarrow Wilcoxon(m, n)$$\n",
    "\n",
    "Which allows the calculation of a p-value for this test according to the following formula:\n",
    "\n",
    "$$ p = Pr[X \\leq mean(U_1, U_2)] $$\n",
    "$$ X \\Rightarrow Wilcoxon(m, n) $$\n",
    "\n",
    "\n",
    "![w2](img/w2.png)\n",
    "\n",
    "as we can see in Table of Critical Values for the Wilcoxon Rank-Sum Test our U is inside the upper and lower bound since we can't reject the null hypothesis.\n",
    "\n",
    "plus for p we have:\n",
    "\n",
    "$p = Pr[X \\leq 15.5] = .0249$\n",
    "\n",
    "indicating little or no reason to reject the null hypothesis that the dispersion of the two groups is the same.\n"
   ]
  },
  {
   "cell_type": "markdown",
   "id": "9e31471e",
   "metadata": {},
   "source": [
    "## e)"
   ]
  },
  {
   "cell_type": "code",
   "execution_count": null,
   "id": "0191cbe1",
   "metadata": {},
   "outputs": [],
   "source": []
  }
 ],
 "metadata": {
  "kernelspec": {
   "display_name": "R",
   "language": "R",
   "name": "ir"
  },
  "language_info": {
   "codemirror_mode": "r",
   "file_extension": ".r",
   "mimetype": "text/x-r-source",
   "name": "R",
   "pygments_lexer": "r",
   "version": "3.6.1"
  },
  "latex_envs": {
   "LaTeX_envs_menu_present": true,
   "autoclose": false,
   "autocomplete": true,
   "bibliofile": "biblio.bib",
   "cite_by": "apalike",
   "current_citInitial": 1,
   "eqLabelWithNumbers": true,
   "eqNumInitial": 1,
   "hotkeys": {
    "equation": "Ctrl-E",
    "itemize": "Ctrl-I"
   },
   "labels_anchors": false,
   "latex_user_defs": false,
   "report_style_numbering": false,
   "user_envs_cfg": false
  }
 },
 "nbformat": 4,
 "nbformat_minor": 5
}
