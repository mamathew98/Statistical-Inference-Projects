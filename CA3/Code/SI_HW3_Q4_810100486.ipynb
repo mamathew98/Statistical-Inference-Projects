{
 "cells": [
  {
   "cell_type": "markdown",
   "id": "b96552ad",
   "metadata": {},
   "source": [
    "The goodness–of–fit test can be used to decide whether a population fits a given distribution, but it will not suffice to decide whether two populations follow the same unknown distribution. A different test, called the test for homogeneity, can be used to draw a conclusion about whether two populations have the same distribution. To calculate the test statistic for a test for homogeneity, one should follow the same procedure as with the test of independence.\n",
    "\n",
    "Test StatisticUse a $\\chi^{2}$ test statistic. It is computed in the same way as the test for independence.\n",
    "\n",
    "Degrees of Freedom (df) df = number of columns – 1\n",
    "\n",
    "Common UsesComparing two populations. For example: men vs. women, before vs. after, east vs. west. The variable is categorical with more than two possible response values."
   ]
  },
  {
   "cell_type": "markdown",
   "id": "da2cc793",
   "metadata": {},
   "source": [
    "## a)"
   ]
  },
  {
   "cell_type": "markdown",
   "id": "401ea6cc",
   "metadata": {},
   "source": [
    "Hypotheses\n",
    "\n",
    "$H_0$: The distributions of the two populations are the same.\n",
    "\n",
    "$H_a$: The distributions of the two populations are not the same."
   ]
  },
  {
   "cell_type": "markdown",
   "id": "5786e7de",
   "metadata": {},
   "source": [
    "## b)"
   ]
  },
  {
   "cell_type": "markdown",
   "id": "45b894ba",
   "metadata": {},
   "source": [
    "Conditions for chi-square test \n",
    "\n",
    "- Independence: Sample Observations mus be independent\n",
    "    - random sample/assignment\n",
    "    - if sampling without replacement, n<10% of population\n",
    "    - each case only contributes to one cell of table\n",
    "- Sample size: each particular scenario must include at least 5 expected cases\n",
    "\n",
    "**All the above conditions are observed in this issue.**"
   ]
  },
  {
   "cell_type": "markdown",
   "id": "f181b06a",
   "metadata": {},
   "source": [
    "## c)"
   ]
  },
  {
   "cell_type": "code",
   "execution_count": 2,
   "id": "7b76fc0c",
   "metadata": {},
   "outputs": [
    {
     "data": {
      "text/html": [
       "<table>\n",
       "<thead><tr><th></th><th scope=col>Jan-Mar</th><th scope=col>Apr-Jun</th><th scope=col>Jul-Sep</th><th scope=col>Oct-Dec</th><th scope=col>Total</th></tr></thead>\n",
       "<tbody>\n",
       "\t<tr><th scope=row>% of Iranian birth</th><td>23.7%</td><td>25.9%</td><td>25.9%</td><td>24.5%</td><td>100% </td></tr>\n",
       "\t<tr><th scope=row>Observed #</th><td>147  </td><td>110  </td><td>52   </td><td>50   </td><td>359  </td></tr>\n",
       "\t<tr><th scope=row>Expected #</th><td>85   </td><td>93   </td><td>93   </td><td>88   </td><td>359  </td></tr>\n",
       "</tbody>\n",
       "</table>\n"
      ],
      "text/latex": [
       "\\begin{tabular}{r|lllll}\n",
       "  & Jan-Mar & Apr-Jun & Jul-Sep & Oct-Dec & Total\\\\\n",
       "\\hline\n",
       "\t\\% of Iranian birth & 23.7\\% & 25.9\\% & 25.9\\% & 24.5\\% & 100\\% \\\\\n",
       "\tObserved \\# & 147   & 110   & 52    & 50    & 359  \\\\\n",
       "\tExpected \\# & 85    & 93    & 93    & 88    & 359  \\\\\n",
       "\\end{tabular}\n"
      ],
      "text/markdown": [
       "\n",
       "| <!--/--> | Jan-Mar | Apr-Jun | Jul-Sep | Oct-Dec | Total |\n",
       "|---|---|---|---|---|---|\n",
       "| % of Iranian birth | 23.7% | 25.9% | 25.9% | 24.5% | 100%  |\n",
       "| Observed # | 147   | 110   | 52    | 50    | 359   |\n",
       "| Expected # | 85    | 93    | 93    | 88    | 359   |\n",
       "\n"
      ],
      "text/plain": [
       "                   Jan-Mar Apr-Jun Jul-Sep Oct-Dec Total\n",
       "% of Iranian birth 23.7%   25.9%   25.9%   24.5%   100% \n",
       "Observed #         147     110     52      50      359  \n",
       "Expected #         85      93      93      88      359  "
      ]
     },
     "metadata": {},
     "output_type": "display_data"
    }
   ],
   "source": [
    "tab <- matrix(nrow=3, ncol=5, byrow=TRUE)\n",
    "colnames(tab) <- c('Jan-Mar', 'Apr-Jun', 'Jul-Sep', 'Oct-Dec', 'Total')\n",
    "rownames(tab) <- c( '% of Iranian birth', 'Observed #','Expected #')\n",
    "tab[1,] = c('23.7%', '25.9%', '25.9%', '24.5%', '100%')\n",
    "tab[2,] = c(147, 110, 52, 50, 359)\n",
    "tab[3,] = c(round(359 * 23.7 /100, 0), round(359 * 25.9 /100, 0), round(359 * 25.9 /100, 0), round(359 * 24.5 /100, 0), 359)\n",
    "tab"
   ]
  },
  {
   "cell_type": "code",
   "execution_count": 3,
   "id": "54289091",
   "metadata": {},
   "outputs": [
    {
     "data": {
      "text/html": [
       "82.8154160197803"
      ],
      "text/latex": [
       "82.8154160197803"
      ],
      "text/markdown": [
       "82.8154160197803"
      ],
      "text/plain": [
       "[1] 82.81542"
      ]
     },
     "metadata": {},
     "output_type": "display_data"
    }
   ],
   "source": [
    "chi_sqr = 0\n",
    "for(i in 1:ncol(tab)) {       # for-loop over columns\n",
    "  chi_sqr = chi_sqr + ((strtoi(tab[2 , i]) - strtoi(tab[3 , i]))^2 / strtoi(tab[3 , i]))\n",
    "}\n",
    "chi_sqr"
   ]
  },
  {
   "cell_type": "markdown",
   "id": "df09e34c",
   "metadata": {},
   "source": [
    "![Chi-Square-table](img/Chi-Square-table.png)\n",
    "\n",
    "\n",
    "**since $82.81 >> 12.838$ then p_value is a lot smaller than 0.05 (which is the min value provided in table)**"
   ]
  },
  {
   "cell_type": "markdown",
   "id": "be18f401",
   "metadata": {},
   "source": [
    "## d)"
   ]
  },
  {
   "cell_type": "code",
   "execution_count": 6,
   "id": "a283b06b",
   "metadata": {},
   "outputs": [
    {
     "data": {
      "text/html": [
       "1"
      ],
      "text/latex": [
       "1"
      ],
      "text/markdown": [
       "1"
      ],
      "text/plain": [
       "[1] 1"
      ]
     },
     "metadata": {},
     "output_type": "display_data"
    }
   ],
   "source": [
    "p_value = pchisq(chi_sqr, 3, lower.tail = FALSE)\n",
    "p_value"
   ]
  },
  {
   "cell_type": "markdown",
   "id": "8799e385",
   "metadata": {},
   "source": [
    "## e)"
   ]
  },
  {
   "cell_type": "markdown",
   "id": "e6ba2785",
   "metadata": {},
   "source": [
    "Since the value of p is EXTREMELY small and when the decision maker sets the value of p more than this calculated value, the null hypothesis is rejected. It can be concluded that this hypothesis is rejected with high probability and the two observations do not have the same distribution."
   ]
  },
  {
   "cell_type": "code",
   "execution_count": null,
   "id": "3296b6aa",
   "metadata": {},
   "outputs": [],
   "source": []
  }
 ],
 "metadata": {
  "kernelspec": {
   "display_name": "R",
   "language": "R",
   "name": "ir"
  },
  "language_info": {
   "codemirror_mode": "r",
   "file_extension": ".r",
   "mimetype": "text/x-r-source",
   "name": "R",
   "pygments_lexer": "r",
   "version": "3.6.1"
  },
  "latex_envs": {
   "LaTeX_envs_menu_present": true,
   "autoclose": false,
   "autocomplete": true,
   "bibliofile": "biblio.bib",
   "cite_by": "apalike",
   "current_citInitial": 1,
   "eqLabelWithNumbers": true,
   "eqNumInitial": 1,
   "hotkeys": {
    "equation": "Ctrl-E",
    "itemize": "Ctrl-I"
   },
   "labels_anchors": false,
   "latex_user_defs": false,
   "report_style_numbering": false,
   "user_envs_cfg": false
  }
 },
 "nbformat": 4,
 "nbformat_minor": 5
}
