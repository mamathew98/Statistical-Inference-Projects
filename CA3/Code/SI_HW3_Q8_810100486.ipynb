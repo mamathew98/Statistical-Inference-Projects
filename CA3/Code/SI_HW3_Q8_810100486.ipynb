{
 "cells": [
  {
   "cell_type": "markdown",
   "id": "a866f3f9",
   "metadata": {},
   "source": [
    "The **Wilcoxon signed-rank test** is a non-parametric statistical hypothesis test used either to test the location of a population based on a sample of data, or to compare the locations of two populations using two matched samples.[1] The one-sample version serves a purpose similar to that of the one-sample Student's t-test.[2] For two matched samples, it is a paired difference test like the paired Student's t-test (also known as the \"t-test for matched pairs\" or \"t-test for dependent samples\"). The Wilcoxon test can be a good alternative to the t-test when population means are not of interest; for example, when one wishes to test whether a population's median is nonzero, or whether there is a better than 50% chance that a sample from one population is greater than a sample from another population."
   ]
  },
  {
   "cell_type": "markdown",
   "id": "7500fcb0",
   "metadata": {},
   "source": [
    "$H_0$: $Med_{Before} = Med_{After}$\n",
    "\n",
    "$H_a$: $Med_{Before} \\neq Med_{After}$"
   ]
  },
  {
   "cell_type": "code",
   "execution_count": 38,
   "id": "79793622",
   "metadata": {},
   "outputs": [
    {
     "data": {
      "text/html": [
       "<table>\n",
       "<thead><tr><th></th><th scope=col>A</th><th scope=col>B</th><th scope=col>C</th><th scope=col>D</th><th scope=col>E</th><th scope=col>F</th></tr></thead>\n",
       "<tbody>\n",
       "\t<tr><th scope=row>Before</th><td>60</td><td>56</td><td>80</td><td>73</td><td>14</td><td>32</td></tr>\n",
       "\t<tr><th scope=row>After</th><td>58</td><td>58</td><td>83</td><td>67</td><td>17</td><td>36</td></tr>\n",
       "</tbody>\n",
       "</table>\n"
      ],
      "text/latex": [
       "\\begin{tabular}{r|llllll}\n",
       "  & A & B & C & D & E & F\\\\\n",
       "\\hline\n",
       "\tBefore & 60 & 56 & 80 & 73 & 14 & 32\\\\\n",
       "\tAfter & 58 & 58 & 83 & 67 & 17 & 36\\\\\n",
       "\\end{tabular}\n"
      ],
      "text/markdown": [
       "\n",
       "| <!--/--> | A | B | C | D | E | F |\n",
       "|---|---|---|---|---|---|---|\n",
       "| Before | 60 | 56 | 80 | 73 | 14 | 32 |\n",
       "| After | 58 | 58 | 83 | 67 | 17 | 36 |\n",
       "\n"
      ],
      "text/plain": [
       "       A  B  C  D  E  F \n",
       "Before 60 56 80 73 14 32\n",
       "After  58 58 83 67 17 36"
      ]
     },
     "metadata": {},
     "output_type": "display_data"
    }
   ],
   "source": [
    "tab <- matrix(nrow=2, ncol=6, byrow=TRUE)\n",
    "rownames(tab) <- c( 'Before', 'After')\n",
    "colnames(tab) <- c('A', 'B', 'C', 'D', 'E', 'F')\n",
    "tab[1,] <- c(60, 56, 80, 73, 14, 32)\n",
    "tab[2,] <- c(58, 58, 83, 67, 17, 36)\n",
    "tab"
   ]
  },
  {
   "cell_type": "markdown",
   "id": "cc2812c2",
   "metadata": {},
   "source": [
    "## a)"
   ]
  },
  {
   "cell_type": "code",
   "execution_count": 39,
   "id": "2bc264ef",
   "metadata": {},
   "outputs": [
    {
     "data": {
      "text/html": [
       "<table>\n",
       "<thead><tr><th></th><th scope=col>A</th><th scope=col>B</th><th scope=col>C</th><th scope=col>D</th><th scope=col>E</th><th scope=col>F</th></tr></thead>\n",
       "<tbody>\n",
       "\t<tr><th scope=row>Before</th><td>60</td><td>56</td><td>80</td><td>73</td><td>14</td><td>32</td></tr>\n",
       "\t<tr><th scope=row>After</th><td>58</td><td>58</td><td>83</td><td>67</td><td>17</td><td>36</td></tr>\n",
       "\t<tr><th scope=row>diffrence</th><td>-2</td><td> 2</td><td> 3</td><td>-6</td><td> 3</td><td> 4</td></tr>\n",
       "</tbody>\n",
       "</table>\n"
      ],
      "text/latex": [
       "\\begin{tabular}{r|llllll}\n",
       "  & A & B & C & D & E & F\\\\\n",
       "\\hline\n",
       "\tBefore & 60 & 56 & 80 & 73 & 14 & 32\\\\\n",
       "\tAfter & 58 & 58 & 83 & 67 & 17 & 36\\\\\n",
       "\tdiffrence & -2 &  2 &  3 & -6 &  3 &  4\\\\\n",
       "\\end{tabular}\n"
      ],
      "text/markdown": [
       "\n",
       "| <!--/--> | A | B | C | D | E | F |\n",
       "|---|---|---|---|---|---|---|\n",
       "| Before | 60 | 56 | 80 | 73 | 14 | 32 |\n",
       "| After | 58 | 58 | 83 | 67 | 17 | 36 |\n",
       "| diffrence | -2 |  2 |  3 | -6 |  3 |  4 |\n",
       "\n"
      ],
      "text/plain": [
       "          A  B  C  D  E  F \n",
       "Before    60 56 80 73 14 32\n",
       "After     58 58 83 67 17 36\n",
       "diffrence -2  2  3 -6  3  4"
      ]
     },
     "metadata": {},
     "output_type": "display_data"
    }
   ],
   "source": [
    "diffrence <- tab[2, ] - tab[1, ]\n",
    "tab <- rbind(tab, diffrence)\n",
    "tab"
   ]
  },
  {
   "cell_type": "code",
   "execution_count": 40,
   "id": "870dacb6",
   "metadata": {},
   "outputs": [
    {
     "data": {
      "text/html": [
       "<table>\n",
       "<thead><tr><th></th><th scope=col>A</th><th scope=col>B</th><th scope=col>C</th><th scope=col>D</th><th scope=col>E</th><th scope=col>F</th></tr></thead>\n",
       "<tbody>\n",
       "\t<tr><th scope=row>Before</th><td>60</td><td>56</td><td>80</td><td>73</td><td>14</td><td>32</td></tr>\n",
       "\t<tr><th scope=row>After</th><td>58</td><td>58</td><td>83</td><td>67</td><td>17</td><td>36</td></tr>\n",
       "\t<tr><th scope=row>diffrence</th><td>-2</td><td> 2</td><td> 3</td><td>-6</td><td> 3</td><td> 4</td></tr>\n",
       "\t<tr><th scope=row>abs_diff</th><td> 2</td><td> 2</td><td> 3</td><td> 6</td><td> 3</td><td> 4</td></tr>\n",
       "</tbody>\n",
       "</table>\n"
      ],
      "text/latex": [
       "\\begin{tabular}{r|llllll}\n",
       "  & A & B & C & D & E & F\\\\\n",
       "\\hline\n",
       "\tBefore & 60 & 56 & 80 & 73 & 14 & 32\\\\\n",
       "\tAfter & 58 & 58 & 83 & 67 & 17 & 36\\\\\n",
       "\tdiffrence & -2 &  2 &  3 & -6 &  3 &  4\\\\\n",
       "\tabs\\_diff &  2 &  2 &  3 &  6 &  3 &  4\\\\\n",
       "\\end{tabular}\n"
      ],
      "text/markdown": [
       "\n",
       "| <!--/--> | A | B | C | D | E | F |\n",
       "|---|---|---|---|---|---|---|\n",
       "| Before | 60 | 56 | 80 | 73 | 14 | 32 |\n",
       "| After | 58 | 58 | 83 | 67 | 17 | 36 |\n",
       "| diffrence | -2 |  2 |  3 | -6 |  3 |  4 |\n",
       "| abs_diff |  2 |  2 |  3 |  6 |  3 |  4 |\n",
       "\n"
      ],
      "text/plain": [
       "          A  B  C  D  E  F \n",
       "Before    60 56 80 73 14 32\n",
       "After     58 58 83 67 17 36\n",
       "diffrence -2  2  3 -6  3  4\n",
       "abs_diff   2  2  3  6  3  4"
      ]
     },
     "metadata": {},
     "output_type": "display_data"
    }
   ],
   "source": [
    "abs_diff <- abs(diffrence)\n",
    "tab <- rbind(tab, abs_diff)\n",
    "tab"
   ]
  },
  {
   "cell_type": "code",
   "execution_count": 41,
   "id": "5b5f83b9",
   "metadata": {},
   "outputs": [
    {
     "data": {
      "text/html": [
       "<table>\n",
       "<thead><tr><th></th><th scope=col>A</th><th scope=col>B</th><th scope=col>C</th><th scope=col>D</th><th scope=col>E</th><th scope=col>F</th></tr></thead>\n",
       "<tbody>\n",
       "\t<tr><th scope=row>Before</th><td>60</td><td>56</td><td>80</td><td>73</td><td>14</td><td>32</td></tr>\n",
       "\t<tr><th scope=row>After</th><td>58</td><td>58</td><td>83</td><td>67</td><td>17</td><td>36</td></tr>\n",
       "\t<tr><th scope=row>diffrence</th><td>-2</td><td> 2</td><td> 3</td><td>-6</td><td> 3</td><td> 4</td></tr>\n",
       "\t<tr><th scope=row>abs_diff</th><td> 2</td><td> 2</td><td> 3</td><td> 6</td><td> 3</td><td> 4</td></tr>\n",
       "\t<tr><th scope=row>rank</th><td> 1</td><td> 2</td><td> 3</td><td> 6</td><td> 4</td><td> 5</td></tr>\n",
       "</tbody>\n",
       "</table>\n"
      ],
      "text/latex": [
       "\\begin{tabular}{r|llllll}\n",
       "  & A & B & C & D & E & F\\\\\n",
       "\\hline\n",
       "\tBefore & 60 & 56 & 80 & 73 & 14 & 32\\\\\n",
       "\tAfter & 58 & 58 & 83 & 67 & 17 & 36\\\\\n",
       "\tdiffrence & -2 &  2 &  3 & -6 &  3 &  4\\\\\n",
       "\tabs\\_diff &  2 &  2 &  3 &  6 &  3 &  4\\\\\n",
       "\trank &  1 &  2 &  3 &  6 &  4 &  5\\\\\n",
       "\\end{tabular}\n"
      ],
      "text/markdown": [
       "\n",
       "| <!--/--> | A | B | C | D | E | F |\n",
       "|---|---|---|---|---|---|---|\n",
       "| Before | 60 | 56 | 80 | 73 | 14 | 32 |\n",
       "| After | 58 | 58 | 83 | 67 | 17 | 36 |\n",
       "| diffrence | -2 |  2 |  3 | -6 |  3 |  4 |\n",
       "| abs_diff |  2 |  2 |  3 |  6 |  3 |  4 |\n",
       "| rank |  1 |  2 |  3 |  6 |  4 |  5 |\n",
       "\n"
      ],
      "text/plain": [
       "          A  B  C  D  E  F \n",
       "Before    60 56 80 73 14 32\n",
       "After     58 58 83 67 17 36\n",
       "diffrence -2  2  3 -6  3  4\n",
       "abs_diff   2  2  3  6  3  4\n",
       "rank       1  2  3  6  4  5"
      ]
     },
     "metadata": {},
     "output_type": "display_data"
    }
   ],
   "source": [
    "rank = c(1,2,3,6,4,5)\n",
    "tab <- rbind(tab, rank)\n",
    "tab"
   ]
  },
  {
   "cell_type": "code",
   "execution_count": 42,
   "id": "bfbfdfa4",
   "metadata": {},
   "outputs": [
    {
     "data": {
      "text/html": [
       "<table>\n",
       "<thead><tr><th></th><th scope=col>A</th><th scope=col>B</th><th scope=col>C</th><th scope=col>D</th><th scope=col>E</th><th scope=col>F</th></tr></thead>\n",
       "<tbody>\n",
       "\t<tr><th scope=row>Before</th><td>60.0</td><td>56.0</td><td>80.0</td><td>73  </td><td>14.0</td><td>32  </td></tr>\n",
       "\t<tr><th scope=row>After</th><td>58.0</td><td>58.0</td><td>83.0</td><td>67  </td><td>17.0</td><td>36  </td></tr>\n",
       "\t<tr><th scope=row>diffrence</th><td>-2.0</td><td> 2.0</td><td> 3.0</td><td>-6  </td><td> 3.0</td><td> 4  </td></tr>\n",
       "\t<tr><th scope=row>abs_diff</th><td> 2.0</td><td> 2.0</td><td> 3.0</td><td> 6  </td><td> 3.0</td><td> 4  </td></tr>\n",
       "\t<tr><th scope=row>rank</th><td> 1.0</td><td> 2.0</td><td> 3.0</td><td> 6  </td><td> 4.0</td><td> 5  </td></tr>\n",
       "\t<tr><th scope=row>avg_rank</th><td> 1.5</td><td> 1.5</td><td> 3.5</td><td> 6  </td><td> 3.5</td><td> 5  </td></tr>\n",
       "</tbody>\n",
       "</table>\n"
      ],
      "text/latex": [
       "\\begin{tabular}{r|llllll}\n",
       "  & A & B & C & D & E & F\\\\\n",
       "\\hline\n",
       "\tBefore & 60.0 & 56.0 & 80.0 & 73   & 14.0 & 32  \\\\\n",
       "\tAfter & 58.0 & 58.0 & 83.0 & 67   & 17.0 & 36  \\\\\n",
       "\tdiffrence & -2.0 &  2.0 &  3.0 & -6   &  3.0 &  4  \\\\\n",
       "\tabs\\_diff &  2.0 &  2.0 &  3.0 &  6   &  3.0 &  4  \\\\\n",
       "\trank &  1.0 &  2.0 &  3.0 &  6   &  4.0 &  5  \\\\\n",
       "\tavg\\_rank &  1.5 &  1.5 &  3.5 &  6   &  3.5 &  5  \\\\\n",
       "\\end{tabular}\n"
      ],
      "text/markdown": [
       "\n",
       "| <!--/--> | A | B | C | D | E | F |\n",
       "|---|---|---|---|---|---|---|\n",
       "| Before | 60.0 | 56.0 | 80.0 | 73   | 14.0 | 32   |\n",
       "| After | 58.0 | 58.0 | 83.0 | 67   | 17.0 | 36   |\n",
       "| diffrence | -2.0 |  2.0 |  3.0 | -6   |  3.0 |  4   |\n",
       "| abs_diff |  2.0 |  2.0 |  3.0 |  6   |  3.0 |  4   |\n",
       "| rank |  1.0 |  2.0 |  3.0 |  6   |  4.0 |  5   |\n",
       "| avg_rank |  1.5 |  1.5 |  3.5 |  6   |  3.5 |  5   |\n",
       "\n"
      ],
      "text/plain": [
       "          A    B    C    D  E    F \n",
       "Before    60.0 56.0 80.0 73 14.0 32\n",
       "After     58.0 58.0 83.0 67 17.0 36\n",
       "diffrence -2.0  2.0  3.0 -6  3.0  4\n",
       "abs_diff   2.0  2.0  3.0  6  3.0  4\n",
       "rank       1.0  2.0  3.0  6  4.0  5\n",
       "avg_rank   1.5  1.5  3.5  6  3.5  5"
      ]
     },
     "metadata": {},
     "output_type": "display_data"
    }
   ],
   "source": [
    "avg_rank = c(1.5, 1.5, 3.5, 6, 3.5, 5)\n",
    "tab <- rbind(tab, avg_rank)\n",
    "tab"
   ]
  },
  {
   "cell_type": "code",
   "execution_count": 43,
   "id": "138d213e",
   "metadata": {},
   "outputs": [
    {
     "data": {
      "text/html": [
       "7.5"
      ],
      "text/latex": [
       "7.5"
      ],
      "text/markdown": [
       "7.5"
      ],
      "text/plain": [
       "[1] 7.5"
      ]
     },
     "metadata": {},
     "output_type": "display_data"
    }
   ],
   "source": [
    "T_neg = 1.5 + 6\n",
    "T_neg"
   ]
  },
  {
   "cell_type": "code",
   "execution_count": 44,
   "id": "7ec8b51b",
   "metadata": {},
   "outputs": [
    {
     "data": {
      "text/html": [
       "13.5"
      ],
      "text/latex": [
       "13.5"
      ],
      "text/markdown": [
       "13.5"
      ],
      "text/plain": [
       "[1] 13.5"
      ]
     },
     "metadata": {},
     "output_type": "display_data"
    }
   ],
   "source": [
    "T_pos = 1.5 + 3.5 + 3.5 + 5\n",
    "T_pos"
   ]
  },
  {
   "cell_type": "code",
   "execution_count": 45,
   "id": "e207a876",
   "metadata": {},
   "outputs": [
    {
     "data": {
      "text/html": [
       "7.5"
      ],
      "text/latex": [
       "7.5"
      ],
      "text/markdown": [
       "7.5"
      ],
      "text/plain": [
       "[1] 7.5"
      ]
     },
     "metadata": {},
     "output_type": "display_data"
    }
   ],
   "source": [
    "w_stat = min(T_neg, T_pos)\n",
    "w_stat"
   ]
  },
  {
   "cell_type": "markdown",
   "id": "c741cc26",
   "metadata": {},
   "source": [
    "![critic-cal](img/critic-cal.png)"
   ]
  },
  {
   "cell_type": "markdown",
   "id": "ccb36fbd",
   "metadata": {},
   "source": [
    "we 6 sample for each group so in total we have n=12. the diffrence in wilcoxon signed test from other tests is that we can reject H_0 when our $W_{cirt}$ is greater than $W_{stat}$ so in our case if the decision maker chooses $\\alpha = 0.05$ then $W_{crit} > W_{stat}$ and we can reject the null hypothesis. but on the other hand if we choose $\\alpha = 0.01$ then $W_{crit} < W_{stat}$ and we can't reject the null hypothesis."
   ]
  },
  {
   "cell_type": "markdown",
   "id": "99cff6e8",
   "metadata": {},
   "source": [
    "## b)"
   ]
  },
  {
   "cell_type": "code",
   "execution_count": 46,
   "id": "2fa762b6",
   "metadata": {},
   "outputs": [
    {
     "name": "stderr",
     "output_type": "stream",
     "text": [
      "Warning message in wilcox.test.default(tab[1, ], tab[2, ], paired = TRUE):\n",
      "\"cannot compute exact p-value with ties\""
     ]
    },
    {
     "data": {
      "text/plain": [
       "\n",
       "\tWilcoxon signed rank test with continuity correction\n",
       "\n",
       "data:  tab[1, ] and tab[2, ]\n",
       "V = 7.5, p-value = 0.5982\n",
       "alternative hypothesis: true location shift is not equal to 0\n"
      ]
     },
     "metadata": {},
     "output_type": "display_data"
    }
   ],
   "source": [
    "wilcox.test(tab[1, ], tab[2, ], paired = TRUE)"
   ]
  },
  {
   "cell_type": "markdown",
   "id": "abb9f50d",
   "metadata": {},
   "source": [
    "as we can see above results from R libraries are same as the result we driven in the last section and we reject the null hypothesis for this data."
   ]
  },
  {
   "cell_type": "code",
   "execution_count": 47,
   "id": "843b753c",
   "metadata": {},
   "outputs": [
    {
     "data": {
      "text/html": [
       "<table>\n",
       "<thead><tr><th></th><th scope=col>A</th><th scope=col>B</th><th scope=col>C</th><th scope=col>D</th><th scope=col>E</th><th scope=col>F</th><th scope=col>G</th><th scope=col>H</th><th scope=col>I</th></tr></thead>\n",
       "<tbody>\n",
       "\t<tr><th scope=row>Before</th><td>78</td><td>50</td><td>40</td><td>40</td><td>20</td><td>50</td><td>50</td><td>50</td><td>50</td></tr>\n",
       "\t<tr><th scope=row>After</th><td>65</td><td>20</td><td>50</td><td> 8</td><td>16</td><td>44</td><td>38</td><td>40</td><td>45</td></tr>\n",
       "</tbody>\n",
       "</table>\n"
      ],
      "text/latex": [
       "\\begin{tabular}{r|lllllllll}\n",
       "  & A & B & C & D & E & F & G & H & I\\\\\n",
       "\\hline\n",
       "\tBefore & 78 & 50 & 40 & 40 & 20 & 50 & 50 & 50 & 50\\\\\n",
       "\tAfter & 65 & 20 & 50 &  8 & 16 & 44 & 38 & 40 & 45\\\\\n",
       "\\end{tabular}\n"
      ],
      "text/markdown": [
       "\n",
       "| <!--/--> | A | B | C | D | E | F | G | H | I |\n",
       "|---|---|---|---|---|---|---|---|---|---|\n",
       "| Before | 78 | 50 | 40 | 40 | 20 | 50 | 50 | 50 | 50 |\n",
       "| After | 65 | 20 | 50 |  8 | 16 | 44 | 38 | 40 | 45 |\n",
       "\n"
      ],
      "text/plain": [
       "       A  B  C  D  E  F  G  H  I \n",
       "Before 78 50 40 40 20 50 50 50 50\n",
       "After  65 20 50  8 16 44 38 40 45"
      ]
     },
     "metadata": {},
     "output_type": "display_data"
    }
   ],
   "source": [
    "tab <- matrix(nrow=2, ncol=9, byrow=TRUE)\n",
    "rownames(tab) <- c( 'Before', 'After')\n",
    "colnames(tab) <- c('A', 'B', 'C', 'D', 'E', 'F', 'G', 'H', 'I')\n",
    "tab[1,] <- c(78,50,40,40,20,50,50,50,50)\n",
    "tab[2,] <- c(65,20,50,8,16,44,38,40,45)\n",
    "tab"
   ]
  },
  {
   "cell_type": "code",
   "execution_count": 48,
   "id": "cd60febb",
   "metadata": {},
   "outputs": [
    {
     "data": {
      "text/html": [
       "<table>\n",
       "<thead><tr><th></th><th scope=col>A</th><th scope=col>B</th><th scope=col>C</th><th scope=col>D</th><th scope=col>E</th><th scope=col>F</th><th scope=col>G</th><th scope=col>H</th><th scope=col>I</th></tr></thead>\n",
       "<tbody>\n",
       "\t<tr><th scope=row>Before</th><td> 78</td><td> 50</td><td>40 </td><td> 40</td><td>20 </td><td>50 </td><td> 50</td><td> 50</td><td>50 </td></tr>\n",
       "\t<tr><th scope=row>After</th><td> 65</td><td> 20</td><td>50 </td><td>  8</td><td>16 </td><td>44 </td><td> 38</td><td> 40</td><td>45 </td></tr>\n",
       "\t<tr><th scope=row>diffrence</th><td>-13</td><td>-30</td><td>10 </td><td>-32</td><td>-4 </td><td>-6 </td><td>-12</td><td>-10</td><td>-5 </td></tr>\n",
       "</tbody>\n",
       "</table>\n"
      ],
      "text/latex": [
       "\\begin{tabular}{r|lllllllll}\n",
       "  & A & B & C & D & E & F & G & H & I\\\\\n",
       "\\hline\n",
       "\tBefore &  78 &  50 & 40  &  40 & 20  & 50  &  50 &  50 & 50 \\\\\n",
       "\tAfter &  65 &  20 & 50  &   8 & 16  & 44  &  38 &  40 & 45 \\\\\n",
       "\tdiffrence & -13 & -30 & 10  & -32 & -4  & -6  & -12 & -10 & -5 \\\\\n",
       "\\end{tabular}\n"
      ],
      "text/markdown": [
       "\n",
       "| <!--/--> | A | B | C | D | E | F | G | H | I |\n",
       "|---|---|---|---|---|---|---|---|---|---|\n",
       "| Before |  78 |  50 | 40  |  40 | 20  | 50  |  50 |  50 | 50  |\n",
       "| After |  65 |  20 | 50  |   8 | 16  | 44  |  38 |  40 | 45  |\n",
       "| diffrence | -13 | -30 | 10  | -32 | -4  | -6  | -12 | -10 | -5  |\n",
       "\n"
      ],
      "text/plain": [
       "          A   B   C  D   E  F  G   H   I \n",
       "Before     78  50 40  40 20 50  50  50 50\n",
       "After      65  20 50   8 16 44  38  40 45\n",
       "diffrence -13 -30 10 -32 -4 -6 -12 -10 -5"
      ]
     },
     "metadata": {},
     "output_type": "display_data"
    }
   ],
   "source": [
    "diffrence <- tab[2, ] - tab[1, ]\n",
    "tab <- rbind(tab, diffrence)\n",
    "tab"
   ]
  },
  {
   "cell_type": "code",
   "execution_count": 49,
   "id": "d72d3289",
   "metadata": {},
   "outputs": [
    {
     "data": {
      "text/html": [
       "<table>\n",
       "<thead><tr><th></th><th scope=col>A</th><th scope=col>B</th><th scope=col>C</th><th scope=col>D</th><th scope=col>E</th><th scope=col>F</th><th scope=col>G</th><th scope=col>H</th><th scope=col>I</th></tr></thead>\n",
       "<tbody>\n",
       "\t<tr><th scope=row>Before</th><td> 78</td><td> 50</td><td>40 </td><td> 40</td><td>20 </td><td>50 </td><td> 50</td><td> 50</td><td>50 </td></tr>\n",
       "\t<tr><th scope=row>After</th><td> 65</td><td> 20</td><td>50 </td><td>  8</td><td>16 </td><td>44 </td><td> 38</td><td> 40</td><td>45 </td></tr>\n",
       "\t<tr><th scope=row>diffrence</th><td>-13</td><td>-30</td><td>10 </td><td>-32</td><td>-4 </td><td>-6 </td><td>-12</td><td>-10</td><td>-5 </td></tr>\n",
       "\t<tr><th scope=row>abs_diff</th><td> 13</td><td> 30</td><td>10 </td><td> 32</td><td> 4 </td><td> 6 </td><td> 12</td><td> 10</td><td> 5 </td></tr>\n",
       "</tbody>\n",
       "</table>\n"
      ],
      "text/latex": [
       "\\begin{tabular}{r|lllllllll}\n",
       "  & A & B & C & D & E & F & G & H & I\\\\\n",
       "\\hline\n",
       "\tBefore &  78 &  50 & 40  &  40 & 20  & 50  &  50 &  50 & 50 \\\\\n",
       "\tAfter &  65 &  20 & 50  &   8 & 16  & 44  &  38 &  40 & 45 \\\\\n",
       "\tdiffrence & -13 & -30 & 10  & -32 & -4  & -6  & -12 & -10 & -5 \\\\\n",
       "\tabs\\_diff &  13 &  30 & 10  &  32 &  4  &  6  &  12 &  10 &  5 \\\\\n",
       "\\end{tabular}\n"
      ],
      "text/markdown": [
       "\n",
       "| <!--/--> | A | B | C | D | E | F | G | H | I |\n",
       "|---|---|---|---|---|---|---|---|---|---|\n",
       "| Before |  78 |  50 | 40  |  40 | 20  | 50  |  50 |  50 | 50  |\n",
       "| After |  65 |  20 | 50  |   8 | 16  | 44  |  38 |  40 | 45  |\n",
       "| diffrence | -13 | -30 | 10  | -32 | -4  | -6  | -12 | -10 | -5  |\n",
       "| abs_diff |  13 |  30 | 10  |  32 |  4  |  6  |  12 |  10 |  5  |\n",
       "\n"
      ],
      "text/plain": [
       "          A   B   C  D   E  F  G   H   I \n",
       "Before     78  50 40  40 20 50  50  50 50\n",
       "After      65  20 50   8 16 44  38  40 45\n",
       "diffrence -13 -30 10 -32 -4 -6 -12 -10 -5\n",
       "abs_diff   13  30 10  32  4  6  12  10  5"
      ]
     },
     "metadata": {},
     "output_type": "display_data"
    }
   ],
   "source": [
    "abs_diff <- abs(diffrence)\n",
    "tab <- rbind(tab, abs_diff)\n",
    "tab"
   ]
  },
  {
   "cell_type": "code",
   "execution_count": 50,
   "id": "1fdc7608",
   "metadata": {},
   "outputs": [
    {
     "name": "stdout",
     "output_type": "stream",
     "text": [
      "\n",
      " 1 4\n",
      " 2 5\n",
      " 3 6\n",
      " 4 10\n",
      " 5 10\n",
      " 6 12\n",
      " 7 13\n",
      " 8 30\n",
      " 9 32"
     ]
    }
   ],
   "source": [
    "for (i in 1:length(sort(tab[4,]))) {\n",
    "    cat(\"\\n\",i, sort(tab[4,])[i])\n",
    "}"
   ]
  },
  {
   "cell_type": "code",
   "execution_count": 51,
   "id": "3cc7136e",
   "metadata": {},
   "outputs": [
    {
     "data": {
      "text/html": [
       "<table>\n",
       "<thead><tr><th></th><th scope=col>A</th><th scope=col>B</th><th scope=col>C</th><th scope=col>D</th><th scope=col>E</th><th scope=col>F</th><th scope=col>G</th><th scope=col>H</th><th scope=col>I</th></tr></thead>\n",
       "<tbody>\n",
       "\t<tr><th scope=row>Before</th><td> 78</td><td> 50</td><td>40 </td><td> 40</td><td>20 </td><td>50 </td><td> 50</td><td> 50</td><td>50 </td></tr>\n",
       "\t<tr><th scope=row>After</th><td> 65</td><td> 20</td><td>50 </td><td>  8</td><td>16 </td><td>44 </td><td> 38</td><td> 40</td><td>45 </td></tr>\n",
       "\t<tr><th scope=row>diffrence</th><td>-13</td><td>-30</td><td>10 </td><td>-32</td><td>-4 </td><td>-6 </td><td>-12</td><td>-10</td><td>-5 </td></tr>\n",
       "\t<tr><th scope=row>abs_diff</th><td> 13</td><td> 30</td><td>10 </td><td> 32</td><td> 4 </td><td> 6 </td><td> 12</td><td> 10</td><td> 5 </td></tr>\n",
       "\t<tr><th scope=row>rank</th><td>  7</td><td>  8</td><td> 4 </td><td>  9</td><td> 1 </td><td> 3 </td><td>  6</td><td>  5</td><td> 2 </td></tr>\n",
       "</tbody>\n",
       "</table>\n"
      ],
      "text/latex": [
       "\\begin{tabular}{r|lllllllll}\n",
       "  & A & B & C & D & E & F & G & H & I\\\\\n",
       "\\hline\n",
       "\tBefore &  78 &  50 & 40  &  40 & 20  & 50  &  50 &  50 & 50 \\\\\n",
       "\tAfter &  65 &  20 & 50  &   8 & 16  & 44  &  38 &  40 & 45 \\\\\n",
       "\tdiffrence & -13 & -30 & 10  & -32 & -4  & -6  & -12 & -10 & -5 \\\\\n",
       "\tabs\\_diff &  13 &  30 & 10  &  32 &  4  &  6  &  12 &  10 &  5 \\\\\n",
       "\trank &   7 &   8 &  4  &   9 &  1  &  3  &   6 &   5 &  2 \\\\\n",
       "\\end{tabular}\n"
      ],
      "text/markdown": [
       "\n",
       "| <!--/--> | A | B | C | D | E | F | G | H | I |\n",
       "|---|---|---|---|---|---|---|---|---|---|\n",
       "| Before |  78 |  50 | 40  |  40 | 20  | 50  |  50 |  50 | 50  |\n",
       "| After |  65 |  20 | 50  |   8 | 16  | 44  |  38 |  40 | 45  |\n",
       "| diffrence | -13 | -30 | 10  | -32 | -4  | -6  | -12 | -10 | -5  |\n",
       "| abs_diff |  13 |  30 | 10  |  32 |  4  |  6  |  12 |  10 |  5  |\n",
       "| rank |   7 |   8 |  4  |   9 |  1  |  3  |   6 |   5 |  2  |\n",
       "\n"
      ],
      "text/plain": [
       "          A   B   C  D   E  F  G   H   I \n",
       "Before     78  50 40  40 20 50  50  50 50\n",
       "After      65  20 50   8 16 44  38  40 45\n",
       "diffrence -13 -30 10 -32 -4 -6 -12 -10 -5\n",
       "abs_diff   13  30 10  32  4  6  12  10  5\n",
       "rank        7   8  4   9  1  3   6   5  2"
      ]
     },
     "metadata": {},
     "output_type": "display_data"
    }
   ],
   "source": [
    "rank = c(7, 8, 4, 9, 1, 3, 6, 5, 2)\n",
    "tab <- rbind(tab, rank)\n",
    "tab"
   ]
  },
  {
   "cell_type": "code",
   "execution_count": 52,
   "id": "f591a11b",
   "metadata": {},
   "outputs": [
    {
     "data": {
      "text/html": [
       "<table>\n",
       "<thead><tr><th></th><th scope=col>A</th><th scope=col>B</th><th scope=col>C</th><th scope=col>D</th><th scope=col>E</th><th scope=col>F</th><th scope=col>G</th><th scope=col>H</th><th scope=col>I</th></tr></thead>\n",
       "<tbody>\n",
       "\t<tr><th scope=row>Before</th><td> 78  </td><td> 50  </td><td>40.0 </td><td> 40  </td><td>20   </td><td>50   </td><td> 50  </td><td> 50.0</td><td>50   </td></tr>\n",
       "\t<tr><th scope=row>After</th><td> 65  </td><td> 20  </td><td>50.0 </td><td>  8  </td><td>16   </td><td>44   </td><td> 38  </td><td> 40.0</td><td>45   </td></tr>\n",
       "\t<tr><th scope=row>diffrence</th><td>-13  </td><td>-30  </td><td>10.0 </td><td>-32  </td><td>-4   </td><td>-6   </td><td>-12  </td><td>-10.0</td><td>-5   </td></tr>\n",
       "\t<tr><th scope=row>abs_diff</th><td> 13  </td><td> 30  </td><td>10.0 </td><td> 32  </td><td> 4   </td><td> 6   </td><td> 12  </td><td> 10.0</td><td> 5   </td></tr>\n",
       "\t<tr><th scope=row>rank</th><td>  7  </td><td>  8  </td><td> 4.0 </td><td>  9  </td><td> 1   </td><td> 3   </td><td>  6  </td><td>  5.0</td><td> 2   </td></tr>\n",
       "\t<tr><th scope=row>avg_rank</th><td>  7  </td><td>  8  </td><td> 4.5 </td><td>  9  </td><td> 1   </td><td> 3   </td><td>  6  </td><td>  4.5</td><td> 2   </td></tr>\n",
       "</tbody>\n",
       "</table>\n"
      ],
      "text/latex": [
       "\\begin{tabular}{r|lllllllll}\n",
       "  & A & B & C & D & E & F & G & H & I\\\\\n",
       "\\hline\n",
       "\tBefore &  78   &  50   & 40.0  &  40   & 20    & 50    &  50   &  50.0 & 50   \\\\\n",
       "\tAfter &  65   &  20   & 50.0  &   8   & 16    & 44    &  38   &  40.0 & 45   \\\\\n",
       "\tdiffrence & -13   & -30   & 10.0  & -32   & -4    & -6    & -12   & -10.0 & -5   \\\\\n",
       "\tabs\\_diff &  13   &  30   & 10.0  &  32   &  4    &  6    &  12   &  10.0 &  5   \\\\\n",
       "\trank &   7   &   8   &  4.0  &   9   &  1    &  3    &   6   &   5.0 &  2   \\\\\n",
       "\tavg\\_rank &   7   &   8   &  4.5  &   9   &  1    &  3    &   6   &   4.5 &  2   \\\\\n",
       "\\end{tabular}\n"
      ],
      "text/markdown": [
       "\n",
       "| <!--/--> | A | B | C | D | E | F | G | H | I |\n",
       "|---|---|---|---|---|---|---|---|---|---|\n",
       "| Before |  78   |  50   | 40.0  |  40   | 20    | 50    |  50   |  50.0 | 50    |\n",
       "| After |  65   |  20   | 50.0  |   8   | 16    | 44    |  38   |  40.0 | 45    |\n",
       "| diffrence | -13   | -30   | 10.0  | -32   | -4    | -6    | -12   | -10.0 | -5    |\n",
       "| abs_diff |  13   |  30   | 10.0  |  32   |  4    |  6    |  12   |  10.0 |  5    |\n",
       "| rank |   7   |   8   |  4.0  |   9   |  1    |  3    |   6   |   5.0 |  2    |\n",
       "| avg_rank |   7   |   8   |  4.5  |   9   |  1    |  3    |   6   |   4.5 |  2    |\n",
       "\n"
      ],
      "text/plain": [
       "          A   B   C    D   E  F  G   H     I \n",
       "Before     78  50 40.0  40 20 50  50  50.0 50\n",
       "After      65  20 50.0   8 16 44  38  40.0 45\n",
       "diffrence -13 -30 10.0 -32 -4 -6 -12 -10.0 -5\n",
       "abs_diff   13  30 10.0  32  4  6  12  10.0  5\n",
       "rank        7   8  4.0   9  1  3   6   5.0  2\n",
       "avg_rank    7   8  4.5   9  1  3   6   4.5  2"
      ]
     },
     "metadata": {},
     "output_type": "display_data"
    }
   ],
   "source": [
    "avg_rank = c(7, 8, 4.5, 9, 1, 3, 6, 4.5, 2)\n",
    "tab <- rbind(tab, avg_rank)\n",
    "tab"
   ]
  },
  {
   "cell_type": "code",
   "execution_count": 53,
   "id": "07d8ddb9",
   "metadata": {},
   "outputs": [
    {
     "data": {
      "text/html": [
       "40.5"
      ],
      "text/latex": [
       "40.5"
      ],
      "text/markdown": [
       "40.5"
      ],
      "text/plain": [
       "[1] 40.5"
      ]
     },
     "metadata": {},
     "output_type": "display_data"
    }
   ],
   "source": [
    "T_neg = 7+8+9+1+3+6+2+4.5\n",
    "T_neg"
   ]
  },
  {
   "cell_type": "code",
   "execution_count": 54,
   "id": "7caa8d6f",
   "metadata": {},
   "outputs": [
    {
     "data": {
      "text/html": [
       "4.5"
      ],
      "text/latex": [
       "4.5"
      ],
      "text/markdown": [
       "4.5"
      ],
      "text/plain": [
       "[1] 4.5"
      ]
     },
     "metadata": {},
     "output_type": "display_data"
    }
   ],
   "source": [
    "T_pos = 4.5\n",
    "T_pos"
   ]
  },
  {
   "cell_type": "code",
   "execution_count": 55,
   "id": "91652c63",
   "metadata": {},
   "outputs": [
    {
     "data": {
      "text/html": [
       "4.5"
      ],
      "text/latex": [
       "4.5"
      ],
      "text/markdown": [
       "4.5"
      ],
      "text/plain": [
       "[1] 4.5"
      ]
     },
     "metadata": {},
     "output_type": "display_data"
    }
   ],
   "source": [
    "w_stat = min(T_neg, T_pos)\n",
    "w_stat"
   ]
  },
  {
   "cell_type": "markdown",
   "id": "76d8d12f",
   "metadata": {},
   "source": [
    "![critic-cal](img/critic-cal.png)"
   ]
  },
  {
   "cell_type": "markdown",
   "id": "05fe746d",
   "metadata": {},
   "source": [
    "unlike the previous case it doesn't matter if we choose alpha to be 0.05 or 0.01 because in both scenarios we have $W_{crit} > W_{stat}$ and we rejct null hypothesis"
   ]
  },
  {
   "cell_type": "code",
   "execution_count": 56,
   "id": "53c8595e",
   "metadata": {},
   "outputs": [
    {
     "name": "stderr",
     "output_type": "stream",
     "text": [
      "Warning message in wilcox.test.default(tab[1, ], tab[2, ], paired = TRUE):\n",
      "\"cannot compute exact p-value with ties\""
     ]
    },
    {
     "data": {
      "text/plain": [
       "\n",
       "\tWilcoxon signed rank test with continuity correction\n",
       "\n",
       "data:  tab[1, ] and tab[2, ]\n",
       "V = 40.5, p-value = 0.03798\n",
       "alternative hypothesis: true location shift is not equal to 0\n"
      ]
     },
     "metadata": {},
     "output_type": "display_data"
    }
   ],
   "source": [
    "wilcox.test(tab[1, ], tab[2, ], paired = TRUE)"
   ]
  },
  {
   "cell_type": "code",
   "execution_count": 57,
   "id": "f6f27640",
   "metadata": {},
   "outputs": [
    {
     "data": {
      "text/html": [
       "<table>\n",
       "<thead><tr><th></th><th scope=col>A</th><th scope=col>B</th><th scope=col>C</th><th scope=col>D</th><th scope=col>E</th><th scope=col>F</th><th scope=col>G</th><th scope=col>H</th><th scope=col>I</th></tr></thead>\n",
       "<tbody>\n",
       "\t<tr><th scope=row>Before</th><td> 78  </td><td> 50  </td><td>40.0 </td><td> 40  </td><td>20   </td><td>50   </td><td> 50  </td><td> 50.0</td><td>50   </td></tr>\n",
       "\t<tr><th scope=row>After</th><td> 65  </td><td> 20  </td><td>50.0 </td><td>  8  </td><td>16   </td><td>44   </td><td> 38  </td><td> 40.0</td><td>45   </td></tr>\n",
       "\t<tr><th scope=row>diffrence</th><td>-13  </td><td>-30  </td><td>10.0 </td><td>-32  </td><td>-4   </td><td>-6   </td><td>-12  </td><td>-10.0</td><td>-5   </td></tr>\n",
       "\t<tr><th scope=row>abs_diff</th><td> 13  </td><td> 30  </td><td>10.0 </td><td> 32  </td><td> 4   </td><td> 6   </td><td> 12  </td><td> 10.0</td><td> 5   </td></tr>\n",
       "\t<tr><th scope=row>rank</th><td>  7  </td><td>  8  </td><td> 4.0 </td><td>  9  </td><td> 1   </td><td> 3   </td><td>  6  </td><td>  5.0</td><td> 2   </td></tr>\n",
       "\t<tr><th scope=row>avg_rank</th><td>  7  </td><td>  8  </td><td> 4.5 </td><td>  9  </td><td> 1   </td><td> 3   </td><td>  6  </td><td>  4.5</td><td> 2   </td></tr>\n",
       "</tbody>\n",
       "</table>\n"
      ],
      "text/latex": [
       "\\begin{tabular}{r|lllllllll}\n",
       "  & A & B & C & D & E & F & G & H & I\\\\\n",
       "\\hline\n",
       "\tBefore &  78   &  50   & 40.0  &  40   & 20    & 50    &  50   &  50.0 & 50   \\\\\n",
       "\tAfter &  65   &  20   & 50.0  &   8   & 16    & 44    &  38   &  40.0 & 45   \\\\\n",
       "\tdiffrence & -13   & -30   & 10.0  & -32   & -4    & -6    & -12   & -10.0 & -5   \\\\\n",
       "\tabs\\_diff &  13   &  30   & 10.0  &  32   &  4    &  6    &  12   &  10.0 &  5   \\\\\n",
       "\trank &   7   &   8   &  4.0  &   9   &  1    &  3    &   6   &   5.0 &  2   \\\\\n",
       "\tavg\\_rank &   7   &   8   &  4.5  &   9   &  1    &  3    &   6   &   4.5 &  2   \\\\\n",
       "\\end{tabular}\n"
      ],
      "text/markdown": [
       "\n",
       "| <!--/--> | A | B | C | D | E | F | G | H | I |\n",
       "|---|---|---|---|---|---|---|---|---|---|\n",
       "| Before |  78   |  50   | 40.0  |  40   | 20    | 50    |  50   |  50.0 | 50    |\n",
       "| After |  65   |  20   | 50.0  |   8   | 16    | 44    |  38   |  40.0 | 45    |\n",
       "| diffrence | -13   | -30   | 10.0  | -32   | -4    | -6    | -12   | -10.0 | -5    |\n",
       "| abs_diff |  13   |  30   | 10.0  |  32   |  4    |  6    |  12   |  10.0 |  5    |\n",
       "| rank |   7   |   8   |  4.0  |   9   |  1    |  3    |   6   |   5.0 |  2    |\n",
       "| avg_rank |   7   |   8   |  4.5  |   9   |  1    |  3    |   6   |   4.5 |  2    |\n",
       "\n"
      ],
      "text/plain": [
       "          A   B   C    D   E  F  G   H     I \n",
       "Before     78  50 40.0  40 20 50  50  50.0 50\n",
       "After      65  20 50.0   8 16 44  38  40.0 45\n",
       "diffrence -13 -30 10.0 -32 -4 -6 -12 -10.0 -5\n",
       "abs_diff   13  30 10.0  32  4  6  12  10.0  5\n",
       "rank        7   8  4.0   9  1  3   6   5.0  2\n",
       "avg_rank    7   8  4.5   9  1  3   6   4.5  2"
      ]
     },
     "metadata": {},
     "output_type": "display_data"
    }
   ],
   "source": [
    "tab"
   ]
  },
  {
   "cell_type": "markdown",
   "id": "66661c4b",
   "metadata": {},
   "source": [
    "## d)"
   ]
  },
  {
   "cell_type": "code",
   "execution_count": 58,
   "id": "a16a0854",
   "metadata": {},
   "outputs": [],
   "source": [
    "# ???"
   ]
  },
  {
   "cell_type": "code",
   "execution_count": null,
   "id": "1f7751e8",
   "metadata": {},
   "outputs": [],
   "source": []
  }
 ],
 "metadata": {
  "kernelspec": {
   "display_name": "R",
   "language": "R",
   "name": "ir"
  },
  "language_info": {
   "codemirror_mode": "r",
   "file_extension": ".r",
   "mimetype": "text/x-r-source",
   "name": "R",
   "pygments_lexer": "r",
   "version": "3.6.1"
  },
  "latex_envs": {
   "LaTeX_envs_menu_present": true,
   "autoclose": false,
   "autocomplete": true,
   "bibliofile": "biblio.bib",
   "cite_by": "apalike",
   "current_citInitial": 1,
   "eqLabelWithNumbers": true,
   "eqNumInitial": 1,
   "hotkeys": {
    "equation": "Ctrl-E",
    "itemize": "Ctrl-I"
   },
   "labels_anchors": false,
   "latex_user_defs": false,
   "report_style_numbering": false,
   "user_envs_cfg": false
  }
 },
 "nbformat": 4,
 "nbformat_minor": 5
}
