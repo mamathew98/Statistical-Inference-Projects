{
 "cells": [
  {
   "cell_type": "markdown",
   "id": "733c1def",
   "metadata": {},
   "source": [
    "**Mann-Whitney U Test**\n",
    "\n",
    "Mann-Whitney U test is the non-parametric alternative test to the independent sample t-test.  It is a non-parametric test that is used to compare two sample means that come from the same population, and used to test whether two sample means are equal or not.  Usually, the Mann-Whitney U test is used when the data is ordinal or when the assumptions of the t-test are not met."
   ]
  },
  {
   "cell_type": "markdown",
   "id": "a715ae04",
   "metadata": {},
   "source": [
    "**Assumptions of the Mann-Whitney:**\n",
    "\n",
    "Mann-Whitney U test is a non-parametric test, so it does not assume any assumptions related to the distribution of scores.  There are, however, some assumptions that are assumed\n",
    "1. The sample drawn from the population is random.\n",
    "2. Independence within the samples and mutual independence is assumed.  That means that an observation is in one group or the other (it cannot be in both).\n",
    "3. Ordinal measurement scale is assumed."
   ]
  },
  {
   "cell_type": "markdown",
   "id": "6418012d",
   "metadata": {},
   "source": [
    "## a)"
   ]
  },
  {
   "cell_type": "markdown",
   "id": "f50053fb",
   "metadata": {},
   "source": [
    "**H0** = There is NO diffrence between ranks of each group (both groups are same)\n",
    " \n",
    "**Ha** = There is a diffrence between ranks of each group (groups are diffrent)"
   ]
  },
  {
   "cell_type": "markdown",
   "id": "50e237c8",
   "metadata": {},
   "source": [
    "## b)"
   ]
  },
  {
   "cell_type": "code",
   "execution_count": 29,
   "id": "a755d3fd",
   "metadata": {},
   "outputs": [
    {
     "data": {
      "text/html": [
       "<ol class=list-inline>\n",
       "\t<li>125</li>\n",
       "\t<li>127</li>\n",
       "\t<li>126</li>\n",
       "\t<li>126</li>\n",
       "\t<li>105</li>\n",
       "\t<li>128</li>\n",
       "\t<li>127</li>\n",
       "\t<li>126</li>\n",
       "\t<li>79</li>\n",
       "\t<li>124</li>\n",
       "</ol>\n"
      ],
      "text/latex": [
       "\\begin{enumerate*}\n",
       "\\item 125\n",
       "\\item 127\n",
       "\\item 126\n",
       "\\item 126\n",
       "\\item 105\n",
       "\\item 128\n",
       "\\item 127\n",
       "\\item 126\n",
       "\\item 79\n",
       "\\item 124\n",
       "\\end{enumerate*}\n"
      ],
      "text/markdown": [
       "1. 125\n",
       "2. 127\n",
       "3. 126\n",
       "4. 126\n",
       "5. 105\n",
       "6. 128\n",
       "7. 127\n",
       "8. 126\n",
       "9. 79\n",
       "10. 124\n",
       "\n",
       "\n"
      ],
      "text/plain": [
       " [1] 125 127 126 126 105 128 127 126  79 124"
      ]
     },
     "metadata": {},
     "output_type": "display_data"
    }
   ],
   "source": [
    "CE_IQ = c(125,127,126,126,105,128,127,126,79,124)\n",
    "CE_IQ"
   ]
  },
  {
   "cell_type": "code",
   "execution_count": 30,
   "id": "198022ff",
   "metadata": {},
   "outputs": [
    {
     "data": {
      "text/html": [
       "<ol class=list-inline>\n",
       "\t<li>131</li>\n",
       "\t<li>129</li>\n",
       "\t<li>77</li>\n",
       "\t<li>52</li>\n",
       "\t<li>134</li>\n",
       "\t<li>133</li>\n",
       "\t<li>94</li>\n",
       "\t<li>68</li>\n",
       "\t<li>67</li>\n",
       "\t<li>132</li>\n",
       "</ol>\n"
      ],
      "text/latex": [
       "\\begin{enumerate*}\n",
       "\\item 131\n",
       "\\item 129\n",
       "\\item 77\n",
       "\\item 52\n",
       "\\item 134\n",
       "\\item 133\n",
       "\\item 94\n",
       "\\item 68\n",
       "\\item 67\n",
       "\\item 132\n",
       "\\end{enumerate*}\n"
      ],
      "text/markdown": [
       "1. 131\n",
       "2. 129\n",
       "3. 77\n",
       "4. 52\n",
       "5. 134\n",
       "6. 133\n",
       "7. 94\n",
       "8. 68\n",
       "9. 67\n",
       "10. 132\n",
       "\n",
       "\n"
      ],
      "text/plain": [
       " [1] 131 129  77  52 134 133  94  68  67 132"
      ]
     },
     "metadata": {},
     "output_type": "display_data"
    }
   ],
   "source": [
    "EE_IQ = c(131,129,77,52,134,133,94,68,67,132)\n",
    "EE_IQ"
   ]
  },
  {
   "cell_type": "code",
   "execution_count": 31,
   "id": "80cde58f",
   "metadata": {},
   "outputs": [
    {
     "data": {
      "text/html": [
       "<ol class=list-inline>\n",
       "\t<li>125</li>\n",
       "\t<li>127</li>\n",
       "\t<li>126</li>\n",
       "\t<li>126</li>\n",
       "\t<li>105</li>\n",
       "\t<li>128</li>\n",
       "\t<li>127</li>\n",
       "\t<li>126</li>\n",
       "\t<li>79</li>\n",
       "\t<li>124</li>\n",
       "\t<li>131</li>\n",
       "\t<li>129</li>\n",
       "\t<li>77</li>\n",
       "\t<li>52</li>\n",
       "\t<li>134</li>\n",
       "\t<li>133</li>\n",
       "\t<li>94</li>\n",
       "\t<li>68</li>\n",
       "\t<li>67</li>\n",
       "\t<li>132</li>\n",
       "</ol>\n"
      ],
      "text/latex": [
       "\\begin{enumerate*}\n",
       "\\item 125\n",
       "\\item 127\n",
       "\\item 126\n",
       "\\item 126\n",
       "\\item 105\n",
       "\\item 128\n",
       "\\item 127\n",
       "\\item 126\n",
       "\\item 79\n",
       "\\item 124\n",
       "\\item 131\n",
       "\\item 129\n",
       "\\item 77\n",
       "\\item 52\n",
       "\\item 134\n",
       "\\item 133\n",
       "\\item 94\n",
       "\\item 68\n",
       "\\item 67\n",
       "\\item 132\n",
       "\\end{enumerate*}\n"
      ],
      "text/markdown": [
       "1. 125\n",
       "2. 127\n",
       "3. 126\n",
       "4. 126\n",
       "5. 105\n",
       "6. 128\n",
       "7. 127\n",
       "8. 126\n",
       "9. 79\n",
       "10. 124\n",
       "11. 131\n",
       "12. 129\n",
       "13. 77\n",
       "14. 52\n",
       "15. 134\n",
       "16. 133\n",
       "17. 94\n",
       "18. 68\n",
       "19. 67\n",
       "20. 132\n",
       "\n",
       "\n"
      ],
      "text/plain": [
       " [1] 125 127 126 126 105 128 127 126  79 124 131 129  77  52 134 133  94  68  67\n",
       "[20] 132"
      ]
     },
     "metadata": {},
     "output_type": "display_data"
    }
   ],
   "source": [
    "total = c(CE_IQ, EE_IQ)\n",
    "total"
   ]
  },
  {
   "cell_type": "code",
   "execution_count": 32,
   "id": "dc1af089",
   "metadata": {},
   "outputs": [
    {
     "data": {
      "text/html": [
       "<ol class=list-inline>\n",
       "\t<li>52</li>\n",
       "\t<li>67</li>\n",
       "\t<li>68</li>\n",
       "\t<li>77</li>\n",
       "\t<li>79</li>\n",
       "\t<li>94</li>\n",
       "\t<li>105</li>\n",
       "\t<li>124</li>\n",
       "\t<li>125</li>\n",
       "\t<li>126</li>\n",
       "\t<li>126</li>\n",
       "\t<li>126</li>\n",
       "\t<li>127</li>\n",
       "\t<li>127</li>\n",
       "\t<li>128</li>\n",
       "\t<li>129</li>\n",
       "\t<li>131</li>\n",
       "\t<li>132</li>\n",
       "\t<li>133</li>\n",
       "\t<li>134</li>\n",
       "</ol>\n"
      ],
      "text/latex": [
       "\\begin{enumerate*}\n",
       "\\item 52\n",
       "\\item 67\n",
       "\\item 68\n",
       "\\item 77\n",
       "\\item 79\n",
       "\\item 94\n",
       "\\item 105\n",
       "\\item 124\n",
       "\\item 125\n",
       "\\item 126\n",
       "\\item 126\n",
       "\\item 126\n",
       "\\item 127\n",
       "\\item 127\n",
       "\\item 128\n",
       "\\item 129\n",
       "\\item 131\n",
       "\\item 132\n",
       "\\item 133\n",
       "\\item 134\n",
       "\\end{enumerate*}\n"
      ],
      "text/markdown": [
       "1. 52\n",
       "2. 67\n",
       "3. 68\n",
       "4. 77\n",
       "5. 79\n",
       "6. 94\n",
       "7. 105\n",
       "8. 124\n",
       "9. 125\n",
       "10. 126\n",
       "11. 126\n",
       "12. 126\n",
       "13. 127\n",
       "14. 127\n",
       "15. 128\n",
       "16. 129\n",
       "17. 131\n",
       "18. 132\n",
       "19. 133\n",
       "20. 134\n",
       "\n",
       "\n"
      ],
      "text/plain": [
       " [1]  52  67  68  77  79  94 105 124 125 126 126 126 127 127 128 129 131 132 133\n",
       "[20] 134"
      ]
     },
     "metadata": {},
     "output_type": "display_data"
    }
   ],
   "source": [
    "total_sorted = sort(total, decreasing = FALSE)\n",
    "total_sorted"
   ]
  },
  {
   "cell_type": "code",
   "execution_count": 33,
   "id": "dffab123",
   "metadata": {},
   "outputs": [
    {
     "name": "stdout",
     "output_type": "stream",
     "text": [
      "\n",
      " 1 52\n",
      " 2 67\n",
      " 3 68\n",
      " 4 77\n",
      " 5 79\n",
      " 6 94\n",
      " 7 105\n",
      " 8 124\n",
      " 9 125\n",
      " 10 126\n",
      " 11 126\n",
      " 12 126\n",
      " 13 127\n",
      " 14 127\n",
      " 15 128\n",
      " 16 129\n",
      " 17 131\n",
      " 18 132\n",
      " 19 133\n",
      " 20 134"
     ]
    }
   ],
   "source": [
    "for (i in 1:length(total_sorted)) {\n",
    "    cat(\"\\n\",i, total_sorted[i])\n",
    "}"
   ]
  },
  {
   "cell_type": "code",
   "execution_count": 34,
   "id": "145cded4",
   "metadata": {},
   "outputs": [
    {
     "data": {
      "text/html": [
       "<table>\n",
       "<thead><tr><th></th><th scope=col>NA</th><th scope=col>NA</th><th scope=col>NA</th><th scope=col>NA</th><th scope=col>NA</th><th scope=col>NA</th><th scope=col>NA</th><th scope=col>NA</th><th scope=col>NA</th><th scope=col>NA</th><th scope=col>TOTAL</th></tr></thead>\n",
       "<tbody>\n",
       "\t<tr><th scope=row>CE-IQ</th><td>125  </td><td>127.0</td><td>126  </td><td>126  </td><td>105  </td><td>128  </td><td>127.0</td><td>126  </td><td>79   </td><td>124  </td><td> NA  </td></tr>\n",
       "\t<tr><th scope=row>CE-Rank</th><td>  9  </td><td> 13.5</td><td> 11  </td><td> 11  </td><td>  7  </td><td> 15  </td><td> 13.5</td><td> 11  </td><td> 5   </td><td>  8  </td><td>104  </td></tr>\n",
       "\t<tr><th scope=row>EE-IQ</th><td>131  </td><td>129.0</td><td> 77  </td><td> 52  </td><td>134  </td><td>133  </td><td> 94.0</td><td> 68  </td><td>67   </td><td>132  </td><td> NA  </td></tr>\n",
       "\t<tr><th scope=row>EE-Rank</th><td> 17  </td><td> 16.0</td><td>  4  </td><td>  1  </td><td> 20  </td><td> 19  </td><td>  6.0</td><td>  3  </td><td> 2   </td><td> 18  </td><td>106  </td></tr>\n",
       "</tbody>\n",
       "</table>\n"
      ],
      "text/latex": [
       "\\begin{tabular}{r|lllllllllll}\n",
       "  & NA & NA & NA & NA & NA & NA & NA & NA & NA & NA & TOTAL\\\\\n",
       "\\hline\n",
       "\tCE-IQ & 125   & 127.0 & 126   & 126   & 105   & 128   & 127.0 & 126   & 79    & 124   &  NA  \\\\\n",
       "\tCE-Rank &   9   &  13.5 &  11   &  11   &   7   &  15   &  13.5 &  11   &  5    &   8   & 104  \\\\\n",
       "\tEE-IQ & 131   & 129.0 &  77   &  52   & 134   & 133   &  94.0 &  68   & 67    & 132   &  NA  \\\\\n",
       "\tEE-Rank &  17   &  16.0 &   4   &   1   &  20   &  19   &   6.0 &   3   &  2    &  18   & 106  \\\\\n",
       "\\end{tabular}\n"
      ],
      "text/markdown": [
       "\n",
       "| <!--/--> | NA | NA | NA | NA | NA | NA | NA | NA | NA | NA | TOTAL |\n",
       "|---|---|---|---|---|---|---|---|---|---|---|---|\n",
       "| CE-IQ | 125   | 127.0 | 126   | 126   | 105   | 128   | 127.0 | 126   | 79    | 124   |  NA   |\n",
       "| CE-Rank |   9   |  13.5 |  11   |  11   |   7   |  15   |  13.5 |  11   |  5    |   8   | 104   |\n",
       "| EE-IQ | 131   | 129.0 |  77   |  52   | 134   | 133   |  94.0 |  68   | 67    | 132   |  NA   |\n",
       "| EE-Rank |  17   |  16.0 |   4   |   1   |  20   |  19   |   6.0 |   3   |  2    |  18   | 106   |\n",
       "\n"
      ],
      "text/plain": [
       "        <NA> <NA>  <NA> <NA> <NA> <NA> <NA>  <NA> <NA> <NA> TOTAL\n",
       "CE-IQ   125  127.0 126  126  105  128  127.0 126  79   124   NA  \n",
       "CE-Rank   9   13.5  11   11    7   15   13.5  11   5     8  104  \n",
       "EE-IQ   131  129.0  77   52  134  133   94.0  68  67   132   NA  \n",
       "EE-Rank  17   16.0   4    1   20   19    6.0   3   2    18  106  "
      ]
     },
     "metadata": {},
     "output_type": "display_data"
    }
   ],
   "source": [
    "tab <- matrix(nrow=4, ncol=11, byrow=TRUE)\n",
    "rownames(tab) <- c('CE-IQ', 'CE-Rank', 'EE-IQ', 'EE-Rank')\n",
    "colnames(tab)[11] <- 'TOTAL'\n",
    "tab[1,] = c(CE_IQ, NA)\n",
    "tab[2,] = c(9, 13.5, 11, 11, 7, 15, 13.5, 11, 5, 8, 104)\n",
    "tab[3,] = c(EE_IQ, NA)\n",
    "tab[4,] = c(17, 16, 4, 1, 20, 19, 6, 3, 2, 18, 106)\n",
    "tab"
   ]
  },
  {
   "cell_type": "markdown",
   "id": "3bbe79e6",
   "metadata": {},
   "source": [
    "## c)"
   ]
  },
  {
   "cell_type": "code",
   "execution_count": 35,
   "id": "f93a3ffb",
   "metadata": {},
   "outputs": [
    {
     "data": {
      "text/html": [
       "51"
      ],
      "text/latex": [
       "51"
      ],
      "text/markdown": [
       "51"
      ],
      "text/plain": [
       "[1] 51"
      ]
     },
     "metadata": {},
     "output_type": "display_data"
    }
   ],
   "source": [
    "U_CE = 10*10 + 10*(10+1)/2 - 104\n",
    "U_CE"
   ]
  },
  {
   "cell_type": "code",
   "execution_count": 36,
   "id": "7ed92126",
   "metadata": {},
   "outputs": [
    {
     "data": {
      "text/html": [
       "49"
      ],
      "text/latex": [
       "49"
      ],
      "text/markdown": [
       "49"
      ],
      "text/plain": [
       "[1] 49"
      ]
     },
     "metadata": {},
     "output_type": "display_data"
    }
   ],
   "source": [
    "U_EE = 10*10 + 10*(10+1)/2 - 106\n",
    "U_EE"
   ]
  },
  {
   "cell_type": "code",
   "execution_count": 37,
   "id": "4b5beeb4",
   "metadata": {},
   "outputs": [
    {
     "data": {
      "text/html": [
       "49"
      ],
      "text/latex": [
       "49"
      ],
      "text/markdown": [
       "49"
      ],
      "text/plain": [
       "[1] 49"
      ]
     },
     "metadata": {},
     "output_type": "display_data"
    }
   ],
   "source": [
    "U_Stat = min(U_CE, U_EE)\n",
    "U_Stat"
   ]
  },
  {
   "cell_type": "markdown",
   "id": "d907cb4d",
   "metadata": {},
   "source": [
    "![mannwhitneytwotailed2](img/mannwhitneytwotailed2.png)\n",
    "\n",
    "**We can see that $U_{crit} = 23$ Here!**\n",
    "\n",
    "**And $U_{crit} < U_{stat}$ at $\\alpha = 0.05$**\n",
    "\n",
    "**So we CAN'T reject the null hypothesis and 2 groups are approximately similiar**"
   ]
  },
  {
   "cell_type": "markdown",
   "id": "cc88f3b4",
   "metadata": {},
   "source": [
    "<hr/>\n",
    "\n",
    "**We can use normal distribution for p_value in this question**"
   ]
  },
  {
   "cell_type": "code",
   "execution_count": 39,
   "id": "629e8f63",
   "metadata": {},
   "outputs": [
    {
     "data": {
      "text/html": [
       "50"
      ],
      "text/latex": [
       "50"
      ],
      "text/markdown": [
       "50"
      ],
      "text/plain": [
       "[1] 50"
      ]
     },
     "metadata": {},
     "output_type": "display_data"
    }
   ],
   "source": [
    "Mu_U = 10*10 / 2\n",
    "Mu_U"
   ]
  },
  {
   "cell_type": "code",
   "execution_count": 40,
   "id": "b58ebb93",
   "metadata": {},
   "outputs": [
    {
     "data": {
      "text/html": [
       "3.17542648054294"
      ],
      "text/latex": [
       "3.17542648054294"
      ],
      "text/markdown": [
       "3.17542648054294"
      ],
      "text/plain": [
       "[1] 3.175426"
      ]
     },
     "metadata": {},
     "output_type": "display_data"
    }
   ],
   "source": [
    "std_err = sqrt((10*10 + (10+10+1))/12)\n",
    "std_err"
   ]
  },
  {
   "cell_type": "code",
   "execution_count": 41,
   "id": "9cd26eeb",
   "metadata": {},
   "outputs": [
    {
     "data": {
      "text/html": [
       "-0.314918328648887"
      ],
      "text/latex": [
       "-0.314918328648887"
      ],
      "text/markdown": [
       "-0.314918328648887"
      ],
      "text/plain": [
       "[1] -0.3149183"
      ]
     },
     "metadata": {},
     "output_type": "display_data"
    }
   ],
   "source": [
    "z = (U_Stat - Mu_U)/std_err\n",
    "z"
   ]
  },
  {
   "cell_type": "markdown",
   "id": "791e5308",
   "metadata": {},
   "source": [
    "**after calculation we get that The P-Value is .753521.**\n",
    "\n",
    "**and therefor The result is not significant at p < .05**\n",
    "\n",
    "**So we CAN'T reject the null hypothesis and 2 groups are approximately similiar**"
   ]
  },
  {
   "cell_type": "markdown",
   "id": "630e5820",
   "metadata": {},
   "source": [
    "## d)"
   ]
  },
  {
   "cell_type": "code",
   "execution_count": 54,
   "id": "26eb90b9",
   "metadata": {},
   "outputs": [
    {
     "data": {
      "text/html": [
       "0.753521038765333"
      ],
      "text/latex": [
       "0.753521038765333"
      ],
      "text/markdown": [
       "0.753521038765333"
      ],
      "text/plain": [
       "[1] 0.753521"
      ]
     },
     "metadata": {},
     "output_type": "display_data"
    }
   ],
   "source": [
    "2*pnorm(q=-0.314)"
   ]
  },
  {
   "cell_type": "markdown",
   "id": "8586d978",
   "metadata": {},
   "source": [
    "## e)"
   ]
  },
  {
   "cell_type": "markdown",
   "id": "5cac0309",
   "metadata": {},
   "source": [
    "as said before The p-value is 0.7535. If we use a significance level of α = 0.05, we would fail to reject the null hypothesis of our hypothesis test because this p-value is not less than 0.05. therefor the sum of ranks of groups are the same and data in groups are similiar"
   ]
  },
  {
   "cell_type": "code",
   "execution_count": null,
   "id": "d977eefb",
   "metadata": {},
   "outputs": [],
   "source": []
  }
 ],
 "metadata": {
  "kernelspec": {
   "display_name": "R",
   "language": "R",
   "name": "ir"
  },
  "language_info": {
   "codemirror_mode": "r",
   "file_extension": ".r",
   "mimetype": "text/x-r-source",
   "name": "R",
   "pygments_lexer": "r",
   "version": "3.6.1"
  },
  "latex_envs": {
   "LaTeX_envs_menu_present": true,
   "autoclose": false,
   "autocomplete": true,
   "bibliofile": "biblio.bib",
   "cite_by": "apalike",
   "current_citInitial": 1,
   "eqLabelWithNumbers": true,
   "eqNumInitial": 1,
   "hotkeys": {
    "equation": "Ctrl-E",
    "itemize": "Ctrl-I"
   },
   "labels_anchors": false,
   "latex_user_defs": false,
   "report_style_numbering": false,
   "user_envs_cfg": false
  }
 },
 "nbformat": 4,
 "nbformat_minor": 5
}
