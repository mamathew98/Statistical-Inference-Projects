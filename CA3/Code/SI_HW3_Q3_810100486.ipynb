{
 "cells": [
  {
   "cell_type": "markdown",
   "id": "e755f471",
   "metadata": {},
   "source": [
    "A chi-squared test (also chi-square or χ2 test) is a statistical hypothesis test that is valid to perform when the test statistic is chi-squared distributed under the null hypothesis, specifically Pearson's chi-squared test and variants thereof. Pearson's chi-squared test is used to determine whether there is a statistically significant difference between the expected frequencies and the observed frequencies in one or more categories of a contingency table.\n",
    "\n",
    "In the standard applications of this test, the observations are classified into mutually exclusive classes. If the null hypothesis that there are no differences between the classes in the population is true, the test statistic computed from the observations follows a χ2 frequency distribution. The purpose of the test is to evaluate how likely the observed frequencies would be assuming the null hypothesis is true.\n",
    "\n",
    "Test statistics that follow a χ2 distribution occur when the observations are independent. There are also χ2 tests for testing the null hypothesis of independence of a pair of random variables based on observations of the pairs.\n",
    "\n",
    "Chi-squared tests often refers to tests for which the distribution of the test statistic approaches the χ2 distribution asymptotically, meaning that the sampling distribution (if the null hypothesis is true) of the test statistic approximates a chi-squared distribution more and more closely as sample sizes increase.\n",
    "There are two types of chi-square tests. Both use the chi-square statistic and distribution for different purposes:\n",
    "\n",
    "- A chi-square **goodness of fit test** determines if sample data matches a population. For more details on this type, see: Goodness of Fit Test.\n",
    "- A chi-square test for **independence compares** two variables in a contingency table to see if they are related. In a more general sense, it tests to see whether distributions of categorical variables differ from each another."
   ]
  },
  {
   "cell_type": "markdown",
   "id": "f554f336",
   "metadata": {},
   "source": [
    "## a)"
   ]
  },
  {
   "cell_type": "code",
   "execution_count": 10,
   "id": "1434d2ee",
   "metadata": {},
   "outputs": [
    {
     "data": {
      "text/html": [
       "<table>\n",
       "<thead><tr><th></th><th scope=col>Win</th><th scope=col>Loose</th><th scope=col>Total</th></tr></thead>\n",
       "<tbody>\n",
       "\t<tr><th scope=row>% in population</th><td>50% </td><td>50% </td><td>100%</td></tr>\n",
       "\t<tr><th scope=row>Expected #</th><td>50  </td><td>50  </td><td>100 </td></tr>\n",
       "\t<tr><th scope=row>Observed #</th><td>38  </td><td>64  </td><td>100 </td></tr>\n",
       "</tbody>\n",
       "</table>\n"
      ],
      "text/latex": [
       "\\begin{tabular}{r|lll}\n",
       "  & Win & Loose & Total\\\\\n",
       "\\hline\n",
       "\t\\% in population & 50\\%  & 50\\%  & 100\\%\\\\\n",
       "\tExpected \\# & 50   & 50   & 100 \\\\\n",
       "\tObserved \\# & 38   & 64   & 100 \\\\\n",
       "\\end{tabular}\n"
      ],
      "text/markdown": [
       "\n",
       "| <!--/--> | Win | Loose | Total |\n",
       "|---|---|---|---|\n",
       "| % in population | 50%  | 50%  | 100% |\n",
       "| Expected # | 50   | 50   | 100  |\n",
       "| Observed # | 38   | 64   | 100  |\n",
       "\n"
      ],
      "text/plain": [
       "                Win Loose Total\n",
       "% in population 50% 50%   100% \n",
       "Expected #      50  50    100  \n",
       "Observed #      38  64    100  "
      ]
     },
     "metadata": {},
     "output_type": "display_data"
    }
   ],
   "source": [
    "tab <- matrix(nrow=3, ncol=3, byrow=TRUE)\n",
    "colnames(tab) <- c('Win', 'Loose', 'Total')\n",
    "rownames(tab) <- c('% in population', 'Expected #', 'Observed #')\n",
    "tab[1,] = c('50%', '50%', '100%')\n",
    "tab[2,] = c(50, 50, 100)\n",
    "tab[3,] = c(38, 64, 100)\n",
    "tab"
   ]
  },
  {
   "cell_type": "code",
   "execution_count": 12,
   "id": "6a1c8ce9",
   "metadata": {},
   "outputs": [
    {
     "data": {
      "text/html": [
       "6.8"
      ],
      "text/latex": [
       "6.8"
      ],
      "text/markdown": [
       "6.8"
      ],
      "text/plain": [
       "[1] 6.8"
      ]
     },
     "metadata": {},
     "output_type": "display_data"
    }
   ],
   "source": [
    "chi_sqr =  ((38-50)^2) / 50 + ((64 - 50)^2) / 50 \n",
    "chi_sqr"
   ]
  },
  {
   "cell_type": "code",
   "execution_count": 13,
   "id": "8bf2da8a",
   "metadata": {},
   "outputs": [
    {
     "data": {
      "text/html": [
       "1"
      ],
      "text/latex": [
       "1"
      ],
      "text/markdown": [
       "1"
      ],
      "text/plain": [
       "[1] 1"
      ]
     },
     "metadata": {},
     "output_type": "display_data"
    }
   ],
   "source": [
    "df = 2-1 \n",
    "df"
   ]
  },
  {
   "cell_type": "code",
   "execution_count": 14,
   "id": "47255865",
   "metadata": {},
   "outputs": [
    {
     "data": {
      "text/html": [
       "0.00911578725250831"
      ],
      "text/latex": [
       "0.00911578725250831"
      ],
      "text/markdown": [
       "0.00911578725250831"
      ],
      "text/plain": [
       "[1] 0.009115787"
      ]
     },
     "metadata": {},
     "output_type": "display_data"
    }
   ],
   "source": [
    "p_value = pchisq(6.8, 1, lower.tail = FALSE)\n",
    "p_value"
   ]
  },
  {
   "cell_type": "markdown",
   "id": "09d6a6f1",
   "metadata": {
    "direction": "ltr"
   },
   "source": [
    "\n",
    "**If decision maker chooses a > 0.00911, the H_0 hypothesis is rejected.** "
   ]
  },
  {
   "cell_type": "markdown",
   "id": "69c1352e",
   "metadata": {},
   "source": [
    "## b)"
   ]
  },
  {
   "cell_type": "markdown",
   "id": "f70bf4d9",
   "metadata": {},
   "source": [
    "The mean of a binomial distribution is p and its standard deviation is sqr(p(1-p)/n).\n",
    "\n",
    "The shape of a binomial distribution is symmetrical when p=0.5 or when n is large.\n",
    "\n",
    "When n is large and p is close to 0.5, the binomial distribution can be approximated from the **standard normal distribution**\n",
    "\n",
    "![bionomial0.5](img/equation119.svg)"
   ]
  },
  {
   "cell_type": "markdown",
   "id": "345c0bb1",
   "metadata": {},
   "source": [
    "## c)"
   ]
  },
  {
   "cell_type": "markdown",
   "id": "2bca4826",
   "metadata": {},
   "source": [
    "![chi3](img/chi3.png)\n",
    "\n",
    "\n",
    "$ \\chi_1^{2} = 6.8 \\longrightarrow 6.8 > 6.63 $\n",
    "\n",
    "$ p_{value} < q.99 $\n",
    "\n",
    "$ p_{value} < 0.01 $\n"
   ]
  },
  {
   "cell_type": "markdown",
   "id": "dbca2702",
   "metadata": {},
   "source": [
    "## d)"
   ]
  },
  {
   "cell_type": "code",
   "execution_count": 18,
   "id": "1fade928",
   "metadata": {},
   "outputs": [
    {
     "data": {
      "text/html": [
       "<table>\n",
       "<thead><tr><th></th><th scope=col>Win</th><th scope=col>Loose</th><th scope=col>Total</th></tr></thead>\n",
       "<tbody>\n",
       "\t<tr><th scope=row>% in population</th><td>50%    </td><td>50%    </td><td>100%   </td></tr>\n",
       "\t<tr><th scope=row>Expected #</th><td>50     </td><td>50     </td><td>100    </td></tr>\n",
       "\t<tr><th scope=row>Observed #</th><td>x      </td><td>100 - x</td><td>100    </td></tr>\n",
       "</tbody>\n",
       "</table>\n"
      ],
      "text/latex": [
       "\\begin{tabular}{r|lll}\n",
       "  & Win & Loose & Total\\\\\n",
       "\\hline\n",
       "\t\\% in population & 50\\%     & 50\\%     & 100\\%   \\\\\n",
       "\tExpected \\# & 50      & 50      & 100    \\\\\n",
       "\tObserved \\# & x       & 100 - x & 100    \\\\\n",
       "\\end{tabular}\n"
      ],
      "text/markdown": [
       "\n",
       "| <!--/--> | Win | Loose | Total |\n",
       "|---|---|---|---|\n",
       "| % in population | 50%     | 50%     | 100%    |\n",
       "| Expected # | 50      | 50      | 100     |\n",
       "| Observed # | x       | 100 - x | 100     |\n",
       "\n"
      ],
      "text/plain": [
       "                Win Loose   Total\n",
       "% in population 50% 50%     100% \n",
       "Expected #      50  50      100  \n",
       "Observed #      x   100 - x 100  "
      ]
     },
     "metadata": {},
     "output_type": "display_data"
    }
   ],
   "source": [
    "tab <- matrix(nrow=3, ncol=3, byrow=TRUE)\n",
    "colnames(tab) <- c('Win', 'Loose', 'Total')\n",
    "rownames(tab) <- c('% in population', 'Expected #', 'Observed #')\n",
    "tab[1,] = c('50%', '50%', '100%')\n",
    "tab[2,] = c(50, 50, 100)\n",
    "tab[3,] = c('x', '100 - x', 100)\n",
    "tab"
   ]
  },
  {
   "cell_type": "markdown",
   "id": "a6c4217e",
   "metadata": {},
   "source": [
    "$ \\chi^{2} = \\frac{((x-50)^2)}{50} + \\frac{((100 - x - 50)^2)}{50} $\n",
    "\n",
    "$ = \\frac{((x-50)^2)}{50} + \\frac{(50 - x)^2)}{50} $\n",
    "\n",
    "$ = \\frac{((x-50)^2) + ((-(x - 50)^2)}{50} $\n",
    "\n",
    "$ = \\frac{((x-\\frac{n}{2})^2) + ((-(x - \\frac{n}{2})^2)}{50} $\n",
    "\n",
    "$ \\frac{2 * ((x-\\frac{n}{2})^2)}{\\frac{n}{2}} $\n",
    "\n",
    "Given that the second power is positive, the answer is always positive and increases with increasing value of $|x-\\frac{n}{2}|$"
   ]
  },
  {
   "cell_type": "markdown",
   "id": "ff3da613",
   "metadata": {},
   "source": [
    "## e)"
   ]
  },
  {
   "cell_type": "markdown",
   "id": "f7a37ae5",
   "metadata": {},
   "source": [
    "???"
   ]
  },
  {
   "cell_type": "code",
   "execution_count": null,
   "id": "9038e0bd",
   "metadata": {},
   "outputs": [],
   "source": []
  }
 ],
 "metadata": {
  "kernelspec": {
   "display_name": "R",
   "language": "R",
   "name": "ir"
  },
  "language_info": {
   "codemirror_mode": "r",
   "file_extension": ".r",
   "mimetype": "text/x-r-source",
   "name": "R",
   "pygments_lexer": "r",
   "version": "3.6.1"
  },
  "latex_envs": {
   "LaTeX_envs_menu_present": true,
   "autoclose": false,
   "autocomplete": true,
   "bibliofile": "biblio.bib",
   "cite_by": "apalike",
   "current_citInitial": 1,
   "eqLabelWithNumbers": true,
   "eqNumInitial": 1,
   "hotkeys": {
    "equation": "Ctrl-E",
    "itemize": "Ctrl-I"
   },
   "labels_anchors": false,
   "latex_user_defs": false,
   "report_style_numbering": false,
   "user_envs_cfg": false
  }
 },
 "nbformat": 4,
 "nbformat_minor": 5
}
