{
 "cells": [
  {
   "cell_type": "markdown",
   "id": "ac85616b",
   "metadata": {},
   "source": [
    "In 1946, Joseph Berkson, a biostatistician at the Mayo Clinic, pointed out a peculiarity of observational studies conducted in a hospital setting: even if two diseases have no relation to each other in the general population, they can appear to be associated among patients in a hospital. where two items that seem correlated to the general people are actually not correlated in reality. In statistical terms, it means that even when two values are statistically negatively correlated it may seem that they are positively correlated. To understand Berkson’s observation, let’s start with a causal diagram. It’s also helpful to think of a very extreme possibility: neither Disease 1 nor Disease 2 is ordinarily severe enough to cause hospitalization, but the combination is. In this case, we would expect Disease 1 to be highly correlated with Disease 2 in the hospitalized population."
   ]
  },
  {
   "cell_type": "markdown",
   "id": "7936f2ee",
   "metadata": {},
   "source": [
    "![10](img/10.png)\n"
   ]
  },
  {
   "cell_type": "markdown",
   "id": "634d549d",
   "metadata": {},
   "source": [
    "## a)"
   ]
  },
  {
   "cell_type": "code",
   "execution_count": 13,
   "id": "dc5167e7",
   "metadata": {},
   "outputs": [
    {
     "data": {
      "text/html": [
       "2784"
      ],
      "text/latex": [
       "2784"
      ],
      "text/markdown": [
       "2784"
      ],
      "text/plain": [
       "[1] 2784"
      ]
     },
     "metadata": {},
     "output_type": "display_data"
    }
   ],
   "source": [
    "total_population = 17+207+184+2376\n",
    "total_population"
   ]
  },
  {
   "cell_type": "code",
   "execution_count": 14,
   "id": "87f8155c",
   "metadata": {},
   "outputs": [
    {
     "data": {
      "text/html": [
       "257"
      ],
      "text/latex": [
       "257"
      ],
      "text/markdown": [
       "257"
      ],
      "text/plain": [
       "[1] 257"
      ]
     },
     "metadata": {},
     "output_type": "display_data"
    }
   ],
   "source": [
    "hosp_population = 219+18+15+5\n",
    "hosp_population"
   ]
  },
  {
   "cell_type": "markdown",
   "id": "83dddd8d",
   "metadata": {},
   "source": [
    "One way of finding correlation between events is using **LIFT** measure: \n",
    "\n",
    "$$ lift = \\frac{P(A \\cap B)}{P(A)P(B)} $$"
   ]
  },
  {
   "cell_type": "code",
   "execution_count": 15,
   "id": "5dd1c4f1",
   "metadata": {},
   "outputs": [
    {
     "data": {
      "text/html": [
       "1.05117270788913"
      ],
      "text/latex": [
       "1.05117270788913"
      ],
      "text/markdown": [
       "1.05117270788913"
      ],
      "text/plain": [
       "[1] 1.051173"
      ]
     },
     "metadata": {},
     "output_type": "display_data"
    }
   ],
   "source": [
    "lift_population = (17/total_population) / ((201/total_population)*(224/total_population))\n",
    "lift_population"
   ]
  },
  {
   "cell_type": "code",
   "execution_count": 16,
   "id": "de69757f",
   "metadata": {},
   "outputs": [
    {
     "data": {
      "text/html": [
       "2.79347826086956"
      ],
      "text/latex": [
       "2.79347826086956"
      ],
      "text/markdown": [
       "2.79347826086956"
      ],
      "text/plain": [
       "[1] 2.793478"
      ]
     },
     "metadata": {},
     "output_type": "display_data"
    }
   ],
   "source": [
    "lift_hospital = (5/hosp_population) / ((23/hosp_population)*(20/hosp_population))\n",
    "lift_hospital"
   ]
  },
  {
   "cell_type": "markdown",
   "id": "fad9ccd6",
   "metadata": {},
   "source": [
    "as we can see in the above calculation correlation between diseases obviously **increases** in the hospital sample."
   ]
  },
  {
   "cell_type": "markdown",
   "id": "6142d4f5",
   "metadata": {},
   "source": [
    "<hr/>\n",
    "another way to calculate correlation is using $\\chi^2$ test. for this case we use general population data to find the expected value of Hospitalized table."
   ]
  },
  {
   "cell_type": "code",
   "execution_count": 17,
   "id": "57bed862",
   "metadata": {},
   "outputs": [
    {
     "data": {
      "text/html": [
       "<table>\n",
       "<thead><tr><th></th><th scope=col>Yes</th><th scope=col>No</th></tr></thead>\n",
       "<tbody>\n",
       "\t<tr><th scope=row>Yes</th><td> 1.569325</td><td> 19.10884</td></tr>\n",
       "\t<tr><th scope=row>No</th><td>16.985632</td><td>219.33621</td></tr>\n",
       "</tbody>\n",
       "</table>\n"
      ],
      "text/latex": [
       "\\begin{tabular}{r|ll}\n",
       "  & Yes & No\\\\\n",
       "\\hline\n",
       "\tYes &  1.569325 &  19.10884\\\\\n",
       "\tNo & 16.985632 & 219.33621\\\\\n",
       "\\end{tabular}\n"
      ],
      "text/markdown": [
       "\n",
       "| <!--/--> | Yes | No |\n",
       "|---|---|---|\n",
       "| Yes |  1.569325 |  19.10884 |\n",
       "| No | 16.985632 | 219.33621 |\n",
       "\n"
      ],
      "text/plain": [
       "    Yes       No       \n",
       "Yes  1.569325  19.10884\n",
       "No  16.985632 219.33621"
      ]
     },
     "metadata": {},
     "output_type": "display_data"
    }
   ],
   "source": [
    "tab <- matrix(nrow=2, ncol=2, byrow=TRUE)\n",
    "colnames(tab) <- c('Yes', 'No')\n",
    "rownames(tab) <- c( 'Yes', 'No')\n",
    "tab[1,] = c(17*hosp_population/total_population,\n",
    "            207*hosp_population/total_population)\n",
    "            \n",
    "tab[2,] = c(184*hosp_population/total_population,\n",
    "            2376*hosp_population/total_population)\n",
    "tab"
   ]
  },
  {
   "cell_type": "markdown",
   "id": "b3d272ce",
   "metadata": {},
   "source": [
    "Now we use $\\chi^2$ to estimate correlation\n",
    "$$ \\chi^2 = \\sum{\\frac{(Observed - Expected)^2}{Expected}} $$"
   ]
  },
  {
   "cell_type": "code",
   "execution_count": 18,
   "id": "99de2e45",
   "metadata": {},
   "outputs": [
    {
     "data": {
      "text/html": [
       "5.98529411764706"
      ],
      "text/latex": [
       "5.98529411764706"
      ],
      "text/markdown": [
       "5.98529411764706"
      ],
      "text/plain": [
       "[1] 5.985294"
      ]
     },
     "metadata": {},
     "output_type": "display_data"
    }
   ],
   "source": [
    "chi2 = ((5 - 2)^2)/2 + ((15 - 20)^2)/20 + ((19 - 17)^2)/17 + ((219 - 219)^2)/219\n",
    "chi2"
   ]
  },
  {
   "cell_type": "markdown",
   "id": "877da5d6",
   "metadata": {},
   "source": [
    "as we can see in the above calculation the data from hospitalization is fairly correlated toward the expected values that we got from the general population."
   ]
  },
  {
   "cell_type": "markdown",
   "id": "a600f1b9",
   "metadata": {},
   "source": [
    "## b)"
   ]
  },
  {
   "cell_type": "markdown",
   "id": "c550e344",
   "metadata": {},
   "source": [
    "**Null transactions**: Transactions that contain neither B nor C\n",
    "\n",
    "problem with measurments like lift and $\\chi^2$ is that they aren't null invariant. this means that too many null values may corrupt our conclusion because Null invariance is crucial for correlation analysis. for example in the table below we have some test data: \n",
    "\n",
    "![test1](img/test1.png)\n",
    "\n",
    "BC is much rarer than $B\\bar{C}(1000)$ and $\\bar{B}C(1000)$ but there are many $\\bar{B}\\bar{C}(100000)$ and we can infer that it's unlikely that B & C will happen together!\n",
    "\n",
    "but $lift(B, C) = 8.44$ (Lift shows B and C are strongly positively correlated!)\n",
    "\n",
    "and $\\chi^2 = 670$ (Observed (BC) >> expected value, also shows strong correlation)\n",
    "\n",
    "one way of fixing this issue is to change samples in a way that null values aren't too much\n",
    "\n",
    "another way of solving this problem is to use null-invariant measures like **all_confidence**, **coherence**, ...\n"
   ]
  },
  {
   "cell_type": "code",
   "execution_count": null,
   "id": "4aeccf60",
   "metadata": {},
   "outputs": [],
   "source": []
  }
 ],
 "metadata": {
  "kernelspec": {
   "display_name": "R",
   "language": "R",
   "name": "ir"
  },
  "language_info": {
   "codemirror_mode": "r",
   "file_extension": ".r",
   "mimetype": "text/x-r-source",
   "name": "R",
   "pygments_lexer": "r",
   "version": "3.6.1"
  },
  "latex_envs": {
   "LaTeX_envs_menu_present": true,
   "autoclose": false,
   "autocomplete": true,
   "bibliofile": "biblio.bib",
   "cite_by": "apalike",
   "current_citInitial": 1,
   "eqLabelWithNumbers": true,
   "eqNumInitial": 1,
   "hotkeys": {
    "equation": "Ctrl-E",
    "itemize": "Ctrl-I"
   },
   "labels_anchors": false,
   "latex_user_defs": false,
   "report_style_numbering": false,
   "user_envs_cfg": false
  }
 },
 "nbformat": 4,
 "nbformat_minor": 5
}
