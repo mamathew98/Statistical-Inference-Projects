{
  "nbformat": 4,
  "nbformat_minor": 0,
  "metadata": {
    "colab": {
      "name": "SI_HW4_Q6_810100486.ipynb",
      "provenance": [],
      "collapsed_sections": []
    },
    "kernelspec": {
      "name": "ir",
      "display_name": "R"
    },
    "language_info": {
      "name": "R"
    }
  },
  "cells": [
    {
      "cell_type": "code",
      "source": [
        "install.packages('moments')\n",
        "library(moments)\n"
      ],
      "metadata": {
        "colab": {
          "base_uri": "https://localhost:8080/"
        },
        "id": "6yNN9xTBfVoM",
        "outputId": "8e103905-b556-408e-8b49-bf0e55c78d63"
      },
      "execution_count": 28,
      "outputs": [
        {
          "output_type": "stream",
          "name": "stderr",
          "text": [
            "Installing package into ‘/usr/local/lib/R/site-library’\n",
            "(as ‘lib’ is unspecified)\n",
            "\n"
          ]
        }
      ]
    },
    {
      "cell_type": "code",
      "execution_count": 29,
      "metadata": {
        "colab": {
          "base_uri": "https://localhost:8080/",
          "height": 437
        },
        "id": "bXVXxp4EfAND",
        "outputId": "bfebf342-f3a0-42c8-ccde-8a451220c447"
      },
      "outputs": [
        {
          "output_type": "display_data",
          "data": {
            "text/plain": [
              "plot without title"
            ],
            "image/png": "[encoded data removed]"
          },
          "metadata": {
            "image/png": {
              "width": 420,
              "height": 420
            }
          }
        }
      ],
      "source": [
        "x = c(1:20)\n",
        "y = c(15,1,17,28,9,9,40,6,22,33,13,14,25,26,57,17,18,19,40,21)\n",
        "plot(x, y)"
      ]
    },
    {
      "cell_type": "markdown",
      "source": [
        "# A"
      ],
      "metadata": {
        "id": "OXHdsYa0fzWf"
      }
    },
    {
      "cell_type": "code",
      "source": [
        "df = data.frame(x, y)\n",
        "df"
      ],
      "metadata": {
        "colab": {
          "base_uri": "https://localhost:8080/",
          "height": 742
        },
        "id": "NswYSNWigP2t",
        "outputId": "185a4314-654e-4acf-b6d9-1cf84d47992b"
      },
      "execution_count": 30,
      "outputs": [
        {
          "output_type": "display_data",
          "data": {
            "text/html": [
              "<table class=\"dataframe\">\n",
              "<caption>A data.frame: 20 × 2</caption>\n",
              "<thead>\n",
              "\t<tr><th scope=col>x</th><th scope=col>y</th></tr>\n",
              "\t<tr><th scope=col>&lt;int&gt;</th><th scope=col>&lt;dbl&gt;</th></tr>\n",
              "</thead>\n",
              "<tbody>\n",
              "\t<tr><td> 1</td><td>15</td></tr>\n",
              "\t<tr><td> 2</td><td> 1</td></tr>\n",
              "\t<tr><td> 3</td><td>17</td></tr>\n",
              "\t<tr><td> 4</td><td>28</td></tr>\n",
              "\t<tr><td> 5</td><td> 9</td></tr>\n",
              "\t<tr><td> 6</td><td> 9</td></tr>\n",
              "\t<tr><td> 7</td><td>40</td></tr>\n",
              "\t<tr><td> 8</td><td> 6</td></tr>\n",
              "\t<tr><td> 9</td><td>22</td></tr>\n",
              "\t<tr><td>10</td><td>33</td></tr>\n",
              "\t<tr><td>11</td><td>13</td></tr>\n",
              "\t<tr><td>12</td><td>14</td></tr>\n",
              "\t<tr><td>13</td><td>25</td></tr>\n",
              "\t<tr><td>14</td><td>26</td></tr>\n",
              "\t<tr><td>15</td><td>57</td></tr>\n",
              "\t<tr><td>16</td><td>17</td></tr>\n",
              "\t<tr><td>17</td><td>18</td></tr>\n",
              "\t<tr><td>18</td><td>19</td></tr>\n",
              "\t<tr><td>19</td><td>40</td></tr>\n",
              "\t<tr><td>20</td><td>21</td></tr>\n",
              "</tbody>\n",
              "</table>\n"
            ],
            "text/markdown": "\nA data.frame: 20 × 2\n\n| x &lt;int&gt; | y &lt;dbl&gt; |\n|---|---|\n|  1 | 15 |\n|  2 |  1 |\n|  3 | 17 |\n|  4 | 28 |\n|  5 |  9 |\n|  6 |  9 |\n|  7 | 40 |\n|  8 |  6 |\n|  9 | 22 |\n| 10 | 33 |\n| 11 | 13 |\n| 12 | 14 |\n| 13 | 25 |\n| 14 | 26 |\n| 15 | 57 |\n| 16 | 17 |\n| 17 | 18 |\n| 18 | 19 |\n| 19 | 40 |\n| 20 | 21 |\n\n",
            "text/latex": "A data.frame: 20 × 2\n\\begin{tabular}{ll}\n x & y\\\\\n <int> & <dbl>\\\\\n\\hline\n\t  1 & 15\\\\\n\t  2 &  1\\\\\n\t  3 & 17\\\\\n\t  4 & 28\\\\\n\t  5 &  9\\\\\n\t  6 &  9\\\\\n\t  7 & 40\\\\\n\t  8 &  6\\\\\n\t  9 & 22\\\\\n\t 10 & 33\\\\\n\t 11 & 13\\\\\n\t 12 & 14\\\\\n\t 13 & 25\\\\\n\t 14 & 26\\\\\n\t 15 & 57\\\\\n\t 16 & 17\\\\\n\t 17 & 18\\\\\n\t 18 & 19\\\\\n\t 19 & 40\\\\\n\t 20 & 21\\\\\n\\end{tabular}\n",
            "text/plain": [
              "   x  y \n",
              "1   1 15\n",
              "2   2  1\n",
              "3   3 17\n",
              "4   4 28\n",
              "5   5  9\n",
              "6   6  9\n",
              "7   7 40\n",
              "8   8  6\n",
              "9   9 22\n",
              "10 10 33\n",
              "11 11 13\n",
              "12 12 14\n",
              "13 13 25\n",
              "14 14 26\n",
              "15 15 57\n",
              "16 16 17\n",
              "17 17 18\n",
              "18 18 19\n",
              "19 19 40\n",
              "20 20 21"
            ]
          },
          "metadata": {}
        }
      ]
    },
    {
      "cell_type": "code",
      "source": [
        "attach(df)"
      ],
      "metadata": {
        "colab": {
          "base_uri": "https://localhost:8080/"
        },
        "id": "h4G9NHNagXpD",
        "outputId": "409d757c-4f94-479b-ed83-83a9881af3b0"
      },
      "execution_count": 36,
      "outputs": [
        {
          "output_type": "stream",
          "name": "stderr",
          "text": [
            "The following objects are masked _by_ .GlobalEnv:\n",
            "\n",
            "    x, y\n",
            "\n",
            "\n"
          ]
        }
      ]
    },
    {
      "cell_type": "code",
      "source": [
        "cat('\\nSkewness of Y: ', skewness(df$y), '\\n')\n",
        "cat('Kurtosis of Y: ', kurtosis(df$y), '\\n')\n",
        "hist(df$y)"
      ],
      "metadata": {
        "colab": {
          "base_uri": "https://localhost:8080/",
          "height": 489
        },
        "id": "k2wCuxwXfRMJ",
        "outputId": "98e63515-1a9b-42c1-d278-27607f9029d5"
      },
      "execution_count": 32,
      "outputs": [
        {
          "output_type": "stream",
          "name": "stdout",
          "text": [
            "\n",
            "Skewness of Y:  0.9558515 \n",
            "Kurtosis of Y:  3.796495 \n"
          ]
        },
        {
          "output_type": "display_data",
          "data": {
            "text/plain": [
              "Plot with title “Histogram of df$y”"
            ],
            "image/png": "[encoded data removed]"
          },
          "metadata": {
            "image/png": {
              "width": 420,
              "height": 420
            }
          }
        }
      ]
    },
    {
      "cell_type": "code",
      "source": [
        "g = pgamma(1:10,shape=2,1)\n",
        "g"
      ],
      "metadata": {
        "colab": {
          "base_uri": "https://localhost:8080/",
          "height": 34
        },
        "id": "FNaEZgIUfqhl",
        "outputId": "069ff61c-b748-48cc-e6a9-019b251915f7"
      },
      "execution_count": 33,
      "outputs": [
        {
          "output_type": "display_data",
          "data": {
            "text/html": [
              "<style>\n",
              ".list-inline {list-style: none; margin:0; padding: 0}\n",
              ".list-inline>li {display: inline-block}\n",
              ".list-inline>li:not(:last-child)::after {content: \"\\00b7\"; padding: 0 .5ex}\n",
              "</style>\n",
              "<ol class=list-inline><li>0.264241117657115</li><li>0.593994150290162</li><li>0.800851726528544</li><li>0.908421805556329</li><li>0.959572318005487</li><li>0.982648734763335</li><li>0.992704944275564</li><li>0.996980836348877</li><li>0.998765901959133</li><li>0.999500600772613</li></ol>\n"
            ],
            "text/markdown": "1. 0.264241117657115\n2. 0.593994150290162\n3. 0.800851726528544\n4. 0.908421805556329\n5. 0.959572318005487\n6. 0.982648734763335\n7. 0.992704944275564\n8. 0.996980836348877\n9. 0.998765901959133\n10. 0.999500600772613\n\n\n",
            "text/latex": "\\begin{enumerate*}\n\\item 0.264241117657115\n\\item 0.593994150290162\n\\item 0.800851726528544\n\\item 0.908421805556329\n\\item 0.959572318005487\n\\item 0.982648734763335\n\\item 0.992704944275564\n\\item 0.996980836348877\n\\item 0.998765901959133\n\\item 0.999500600772613\n\\end{enumerate*}\n",
            "text/plain": [
              " [1] 0.2642411 0.5939942 0.8008517 0.9084218 0.9595723 0.9826487 0.9927049\n",
              " [8] 0.9969808 0.9987659 0.9995006"
            ]
          },
          "metadata": {}
        }
      ]
    },
    {
      "cell_type": "code",
      "source": [
        "plot(g)"
      ],
      "metadata": {
        "colab": {
          "base_uri": "https://localhost:8080/",
          "height": 437
        },
        "id": "9bOLGrqqf54K",
        "outputId": "f6acd8fc-8184-45ff-9069-18ca2ca390b8"
      },
      "execution_count": 34,
      "outputs": [
        {
          "output_type": "display_data",
          "data": {
            "text/plain": [
              "plot without title"
            ],
            "image/png": "[encoded data removed]"
          },
          "metadata": {
            "image/png": {
              "width": 420,
              "height": 420
            }
          }
        }
      ]
    },
    {
      "cell_type": "code",
      "source": [
        "glm(y~x)"
      ],
      "metadata": {
        "colab": {
          "base_uri": "https://localhost:8080/",
          "height": 191
        },
        "id": "VSY_ei9miUJv",
        "outputId": "69dfc08b-cbc3-4bf5-9a25-17c8a29c5eb1"
      },
      "execution_count": 38,
      "outputs": [
        {
          "output_type": "display_data",
          "data": {
            "text/plain": [
              "\n",
              "Call:  glm(formula = y ~ x)\n",
              "\n",
              "Coefficients:\n",
              "(Intercept)            x  \n",
              "    12.4211       0.8647  \n",
              "\n",
              "Degrees of Freedom: 19 Total (i.e. Null);  18 Residual\n",
              "Null Deviance:\t    3355 \n",
              "Residual Deviance: 2858 \tAIC: 162"
            ]
          },
          "metadata": {}
        }
      ]
    },
    {
      "cell_type": "code",
      "source": [
        "summary(lm(y~x))"
      ],
      "metadata": {
        "colab": {
          "base_uri": "https://localhost:8080/",
          "height": 329
        },
        "id": "wgK9RZcVim0G",
        "outputId": "9136cb84-13de-4c20-f065-1cba78df91c8"
      },
      "execution_count": 39,
      "outputs": [
        {
          "output_type": "display_data",
          "data": {
            "text/plain": [
              "\n",
              "Call:\n",
              "lm(formula = y ~ x)\n",
              "\n",
              "Residuals:\n",
              "    Min      1Q  Median      3Q     Max \n",
              "-13.338  -8.945  -3.203   4.276  31.609 \n",
              "\n",
              "Coefficients:\n",
              "            Estimate Std. Error t value Pr(>|t|)  \n",
              "(Intercept)  12.4211     5.8532   2.122   0.0480 *\n",
              "x             0.8647     0.4886   1.770   0.0937 .\n",
              "---\n",
              "Signif. codes:  0 ‘***’ 0.001 ‘**’ 0.01 ‘*’ 0.05 ‘.’ 0.1 ‘ ’ 1\n",
              "\n",
              "Residual standard error: 12.6 on 18 degrees of freedom\n",
              "Multiple R-squared:  0.1482,\tAdjusted R-squared:  0.1009 \n",
              "F-statistic: 3.131 on 1 and 18 DF,  p-value: 0.09373\n"
            ]
          },
          "metadata": {}
        }
      ]
    },
    {
      "cell_type": "code",
      "source": [
        "loglink <- glm(y ~ x, family = Gamma(link = \"log\"))\n",
        "summary(loglink)"
      ],
      "metadata": {
        "colab": {
          "base_uri": "https://localhost:8080/",
          "height": 399
        },
        "id": "FJJSkqS2ifFA",
        "outputId": "3eaf93e0-48cb-4971-be77-0e25fafb5887"
      },
      "execution_count": 43,
      "outputs": [
        {
          "output_type": "display_data",
          "data": {
            "text/plain": [
              "\n",
              "Call:\n",
              "glm(formula = y ~ x, family = Gamma(link = \"log\"))\n",
              "\n",
              "Deviance Residuals: \n",
              "    Min       1Q   Median       3Q      Max  \n",
              "-1.8600  -0.4386  -0.1623   0.1701   0.9312  \n",
              "\n",
              "Coefficients:\n",
              "            Estimate Std. Error t value Pr(>|t|)    \n",
              "(Intercept)  2.57079    0.28471   9.030 4.19e-08 ***\n",
              "x            0.04451    0.02377   1.873   0.0774 .  \n",
              "---\n",
              "Signif. codes:  0 ‘***’ 0.001 ‘**’ 0.01 ‘*’ 0.05 ‘.’ 0.1 ‘ ’ 1\n",
              "\n",
              "(Dispersion parameter for Gamma family taken to be 0.3756381)\n",
              "\n",
              "    Null deviance: 9.7990  on 19  degrees of freedom\n",
              "Residual deviance: 8.6019  on 18  degrees of freedom\n",
              "AIC: 160.23\n",
              "\n",
              "Number of Fisher Scoring iterations: 6\n"
            ]
          },
          "metadata": {}
        }
      ]
    },
    {
      "cell_type": "code",
      "source": [
        "idenlink <- glm(y ~ x, family = Gamma(link = \"identity\"), start=c(0.5,8))\n",
        "summary(idenlink)"
      ],
      "metadata": {
        "colab": {
          "base_uri": "https://localhost:8080/",
          "height": 416
        },
        "id": "Mwh8J6-hipb7",
        "outputId": "141d7fc3-6831-4fb6-847a-48a96e32639f"
      },
      "execution_count": 45,
      "outputs": [
        {
          "output_type": "display_data",
          "data": {
            "text/plain": [
              "\n",
              "Call:\n",
              "glm(formula = y ~ x, family = Gamma(link = \"identity\"), start = c(0.5, \n",
              "    8))\n",
              "\n",
              "Deviance Residuals: \n",
              "    Min       1Q   Median       3Q      Max  \n",
              "-1.8214  -0.4675  -0.1628   0.2329   0.9094  \n",
              "\n",
              "Coefficients:\n",
              "            Estimate Std. Error t value Pr(>|t|)  \n",
              "(Intercept)  11.2731     4.4122   2.555   0.0199 *\n",
              "x             0.9828     0.4840   2.031   0.0573 .\n",
              "---\n",
              "Signif. codes:  0 ‘***’ 0.001 ‘**’ 0.01 ‘*’ 0.05 ‘.’ 0.1 ‘ ’ 1\n",
              "\n",
              "(Dispersion parameter for Gamma family taken to be 0.3702852)\n",
              "\n",
              "    Null deviance: 9.7990  on 19  degrees of freedom\n",
              "Residual deviance: 8.4976  on 18  degrees of freedom\n",
              "AIC: 159.97\n",
              "\n",
              "Number of Fisher Scoring iterations: 5\n"
            ]
          },
          "metadata": {}
        }
      ]
    },
    {
      "cell_type": "code",
      "source": [
        "model <- lm(y~x)\n",
        "resid<-model$residuals\n",
        "fitted<-model$fitted.values\n",
        "plot(fitted~resid)"
      ],
      "metadata": {
        "colab": {
          "base_uri": "https://localhost:8080/",
          "height": 437
        },
        "id": "Z_tf1b56iuFy",
        "outputId": "cc44293d-2555-4502-f324-4266acb34e23"
      },
      "execution_count": 46,
      "outputs": [
        {
          "output_type": "display_data",
          "data": {
            "text/plain": [
              "plot without title"
            ],
            "image/png": "[encoded data removed]"
          },
          "metadata": {
            "image/png": {
              "width": 420,
              "height": 420
            }
          }
        }
      ]
    },
    {
      "cell_type": "markdown",
      "source": [
        "Looks like we have positive skewness in residuals"
      ],
      "metadata": {
        "id": "cuhrP1CCkh9r"
      }
    },
    {
      "cell_type": "code",
      "source": [
        "cat('\\nSkewness of Residuals: ', skewness(resid), '\\n')\n",
        "cat('\\nSkewness of Fitted: ', skewness(fitted), '\\n')"
      ],
      "metadata": {
        "colab": {
          "base_uri": "https://localhost:8080/"
        },
        "id": "irJBLHx8kBe9",
        "outputId": "e2c6c674-f81e-4cfc-d283-63b1c0d0cc60"
      },
      "execution_count": 48,
      "outputs": [
        {
          "output_type": "stream",
          "name": "stdout",
          "text": [
            "\n",
            "Skewness of Residuals:  1.064492 \n",
            "\n",
            "Skewness of Fitted:  -5.47479e-16 \n"
          ]
        }
      ]
    },
    {
      "cell_type": "code",
      "source": [
        "resid<-loglink$residuals\n",
        "fitted<-loglink$fitted.values\n",
        "plot(fitted~resid)\n",
        "cat('\\nSkewness of Residuals: ', skewness(resid), '\\n')\n",
        "cat('\\nSkewness of Fitted: ', skewness(fitted), '\\n')"
      ],
      "metadata": {
        "colab": {
          "base_uri": "https://localhost:8080/",
          "height": 506
        },
        "id": "sr4cJpVOkZeu",
        "outputId": "2846854d-431b-409d-9858-0b42b1056bbb"
      },
      "execution_count": 49,
      "outputs": [
        {
          "output_type": "stream",
          "name": "stdout",
          "text": [
            "\n",
            "Skewness of Residuals:  0.7543656 \n",
            "\n",
            "Skewness of Fitted:  0.3039432 \n"
          ]
        },
        {
          "output_type": "display_data",
          "data": {
            "text/plain": [
              "plot without title"
            ],
            "image/png": "[encoded data removed]"
          },
          "metadata": {
            "image/png": {
              "width": 420,
              "height": 420
            }
          }
        }
      ]
    },
    {
      "cell_type": "code",
      "source": [
        ""
      ],
      "metadata": {
        "id": "bI_Js9iwmIWw"
      },
      "execution_count": null,
      "outputs": []
    }
  ]
}